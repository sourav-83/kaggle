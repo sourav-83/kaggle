{
 "cells": [
  {
   "cell_type": "code",
   "execution_count": 1,
   "id": "85222318",
   "metadata": {
    "_cell_guid": "b1076dfc-b9ad-4769-8c92-a6c4dae69d19",
    "_uuid": "8f2839f25d086af736a60e9eeb907d3b93b6e0e5",
    "execution": {
     "iopub.execute_input": "2024-09-29T14:05:33.470827Z",
     "iopub.status.busy": "2024-09-29T14:05:33.470425Z",
     "iopub.status.idle": "2024-09-29T14:05:34.301525Z",
     "shell.execute_reply": "2024-09-29T14:05:34.300507Z"
    },
    "papermill": {
     "duration": 0.842275,
     "end_time": "2024-09-29T14:05:34.304375",
     "exception": false,
     "start_time": "2024-09-29T14:05:33.462100",
     "status": "completed"
    },
    "tags": []
   },
   "outputs": [
    {
     "name": "stdout",
     "output_type": "stream",
     "text": [
      "/kaggle/input/digit-recognizer/sample_submission.csv\n",
      "/kaggle/input/digit-recognizer/train.csv\n",
      "/kaggle/input/digit-recognizer/test.csv\n"
     ]
    }
   ],
   "source": [
    "# This Python 3 environment comes with many helpful analytics libraries installed\n",
    "# It is defined by the kaggle/python Docker image: https://github.com/kaggle/docker-python\n",
    "# For example, here's several helpful packages to load\n",
    "\n",
    "import numpy as np # linear algebra\n",
    "import pandas as pd # data processing, CSV file I/O (e.g. pd.read_csv)\n",
    "\n",
    "# Input data files are available in the read-only \"../input/\" directory\n",
    "# For example, running this (by clicking run or pressing Shift+Enter) will list all files under the input directory\n",
    "\n",
    "import os\n",
    "for dirname, _, filenames in os.walk('/kaggle/input'):\n",
    "    for filename in filenames:\n",
    "        print(os.path.join(dirname, filename))\n",
    "\n",
    "# You can write up to 20GB to the current directory (/kaggle/working/) that gets preserved as output when you create a version using \"Save & Run All\" \n",
    "# You can also write temporary files to /kaggle/temp/, but they won't be saved outside of the current session"
   ]
  },
  {
   "cell_type": "code",
   "execution_count": 2,
   "id": "0849b8d0",
   "metadata": {
    "execution": {
     "iopub.execute_input": "2024-09-29T14:05:34.315861Z",
     "iopub.status.busy": "2024-09-29T14:05:34.315353Z",
     "iopub.status.idle": "2024-09-29T14:05:38.781839Z",
     "shell.execute_reply": "2024-09-29T14:05:38.780735Z"
    },
    "papermill": {
     "duration": 4.47544,
     "end_time": "2024-09-29T14:05:38.784808",
     "exception": false,
     "start_time": "2024-09-29T14:05:34.309368",
     "status": "completed"
    },
    "tags": []
   },
   "outputs": [],
   "source": [
    "from sklearn.model_selection import train_test_split\n",
    "from torch.utils.data import DataLoader, TensorDataset"
   ]
  },
  {
   "cell_type": "code",
   "execution_count": 3,
   "id": "aca204a5",
   "metadata": {
    "execution": {
     "iopub.execute_input": "2024-09-29T14:05:38.796305Z",
     "iopub.status.busy": "2024-09-29T14:05:38.795746Z",
     "iopub.status.idle": "2024-09-29T14:05:44.306130Z",
     "shell.execute_reply": "2024-09-29T14:05:44.304930Z"
    },
    "papermill": {
     "duration": 5.51887,
     "end_time": "2024-09-29T14:05:44.308564",
     "exception": false,
     "start_time": "2024-09-29T14:05:38.789694",
     "status": "completed"
    },
    "tags": []
   },
   "outputs": [
    {
     "data": {
      "text/html": [
       "<div>\n",
       "<style scoped>\n",
       "    .dataframe tbody tr th:only-of-type {\n",
       "        vertical-align: middle;\n",
       "    }\n",
       "\n",
       "    .dataframe tbody tr th {\n",
       "        vertical-align: top;\n",
       "    }\n",
       "\n",
       "    .dataframe thead th {\n",
       "        text-align: right;\n",
       "    }\n",
       "</style>\n",
       "<table border=\"1\" class=\"dataframe\">\n",
       "  <thead>\n",
       "    <tr style=\"text-align: right;\">\n",
       "      <th></th>\n",
       "      <th>label</th>\n",
       "      <th>pixel0</th>\n",
       "      <th>pixel1</th>\n",
       "      <th>pixel2</th>\n",
       "      <th>pixel3</th>\n",
       "      <th>pixel4</th>\n",
       "      <th>pixel5</th>\n",
       "      <th>pixel6</th>\n",
       "      <th>pixel7</th>\n",
       "      <th>pixel8</th>\n",
       "      <th>...</th>\n",
       "      <th>pixel774</th>\n",
       "      <th>pixel775</th>\n",
       "      <th>pixel776</th>\n",
       "      <th>pixel777</th>\n",
       "      <th>pixel778</th>\n",
       "      <th>pixel779</th>\n",
       "      <th>pixel780</th>\n",
       "      <th>pixel781</th>\n",
       "      <th>pixel782</th>\n",
       "      <th>pixel783</th>\n",
       "    </tr>\n",
       "  </thead>\n",
       "  <tbody>\n",
       "    <tr>\n",
       "      <th>0</th>\n",
       "      <td>1</td>\n",
       "      <td>0</td>\n",
       "      <td>0</td>\n",
       "      <td>0</td>\n",
       "      <td>0</td>\n",
       "      <td>0</td>\n",
       "      <td>0</td>\n",
       "      <td>0</td>\n",
       "      <td>0</td>\n",
       "      <td>0</td>\n",
       "      <td>...</td>\n",
       "      <td>0</td>\n",
       "      <td>0</td>\n",
       "      <td>0</td>\n",
       "      <td>0</td>\n",
       "      <td>0</td>\n",
       "      <td>0</td>\n",
       "      <td>0</td>\n",
       "      <td>0</td>\n",
       "      <td>0</td>\n",
       "      <td>0</td>\n",
       "    </tr>\n",
       "    <tr>\n",
       "      <th>1</th>\n",
       "      <td>0</td>\n",
       "      <td>0</td>\n",
       "      <td>0</td>\n",
       "      <td>0</td>\n",
       "      <td>0</td>\n",
       "      <td>0</td>\n",
       "      <td>0</td>\n",
       "      <td>0</td>\n",
       "      <td>0</td>\n",
       "      <td>0</td>\n",
       "      <td>...</td>\n",
       "      <td>0</td>\n",
       "      <td>0</td>\n",
       "      <td>0</td>\n",
       "      <td>0</td>\n",
       "      <td>0</td>\n",
       "      <td>0</td>\n",
       "      <td>0</td>\n",
       "      <td>0</td>\n",
       "      <td>0</td>\n",
       "      <td>0</td>\n",
       "    </tr>\n",
       "    <tr>\n",
       "      <th>2</th>\n",
       "      <td>1</td>\n",
       "      <td>0</td>\n",
       "      <td>0</td>\n",
       "      <td>0</td>\n",
       "      <td>0</td>\n",
       "      <td>0</td>\n",
       "      <td>0</td>\n",
       "      <td>0</td>\n",
       "      <td>0</td>\n",
       "      <td>0</td>\n",
       "      <td>...</td>\n",
       "      <td>0</td>\n",
       "      <td>0</td>\n",
       "      <td>0</td>\n",
       "      <td>0</td>\n",
       "      <td>0</td>\n",
       "      <td>0</td>\n",
       "      <td>0</td>\n",
       "      <td>0</td>\n",
       "      <td>0</td>\n",
       "      <td>0</td>\n",
       "    </tr>\n",
       "    <tr>\n",
       "      <th>3</th>\n",
       "      <td>4</td>\n",
       "      <td>0</td>\n",
       "      <td>0</td>\n",
       "      <td>0</td>\n",
       "      <td>0</td>\n",
       "      <td>0</td>\n",
       "      <td>0</td>\n",
       "      <td>0</td>\n",
       "      <td>0</td>\n",
       "      <td>0</td>\n",
       "      <td>...</td>\n",
       "      <td>0</td>\n",
       "      <td>0</td>\n",
       "      <td>0</td>\n",
       "      <td>0</td>\n",
       "      <td>0</td>\n",
       "      <td>0</td>\n",
       "      <td>0</td>\n",
       "      <td>0</td>\n",
       "      <td>0</td>\n",
       "      <td>0</td>\n",
       "    </tr>\n",
       "    <tr>\n",
       "      <th>4</th>\n",
       "      <td>0</td>\n",
       "      <td>0</td>\n",
       "      <td>0</td>\n",
       "      <td>0</td>\n",
       "      <td>0</td>\n",
       "      <td>0</td>\n",
       "      <td>0</td>\n",
       "      <td>0</td>\n",
       "      <td>0</td>\n",
       "      <td>0</td>\n",
       "      <td>...</td>\n",
       "      <td>0</td>\n",
       "      <td>0</td>\n",
       "      <td>0</td>\n",
       "      <td>0</td>\n",
       "      <td>0</td>\n",
       "      <td>0</td>\n",
       "      <td>0</td>\n",
       "      <td>0</td>\n",
       "      <td>0</td>\n",
       "      <td>0</td>\n",
       "    </tr>\n",
       "    <tr>\n",
       "      <th>...</th>\n",
       "      <td>...</td>\n",
       "      <td>...</td>\n",
       "      <td>...</td>\n",
       "      <td>...</td>\n",
       "      <td>...</td>\n",
       "      <td>...</td>\n",
       "      <td>...</td>\n",
       "      <td>...</td>\n",
       "      <td>...</td>\n",
       "      <td>...</td>\n",
       "      <td>...</td>\n",
       "      <td>...</td>\n",
       "      <td>...</td>\n",
       "      <td>...</td>\n",
       "      <td>...</td>\n",
       "      <td>...</td>\n",
       "      <td>...</td>\n",
       "      <td>...</td>\n",
       "      <td>...</td>\n",
       "      <td>...</td>\n",
       "      <td>...</td>\n",
       "    </tr>\n",
       "    <tr>\n",
       "      <th>41995</th>\n",
       "      <td>0</td>\n",
       "      <td>0</td>\n",
       "      <td>0</td>\n",
       "      <td>0</td>\n",
       "      <td>0</td>\n",
       "      <td>0</td>\n",
       "      <td>0</td>\n",
       "      <td>0</td>\n",
       "      <td>0</td>\n",
       "      <td>0</td>\n",
       "      <td>...</td>\n",
       "      <td>0</td>\n",
       "      <td>0</td>\n",
       "      <td>0</td>\n",
       "      <td>0</td>\n",
       "      <td>0</td>\n",
       "      <td>0</td>\n",
       "      <td>0</td>\n",
       "      <td>0</td>\n",
       "      <td>0</td>\n",
       "      <td>0</td>\n",
       "    </tr>\n",
       "    <tr>\n",
       "      <th>41996</th>\n",
       "      <td>1</td>\n",
       "      <td>0</td>\n",
       "      <td>0</td>\n",
       "      <td>0</td>\n",
       "      <td>0</td>\n",
       "      <td>0</td>\n",
       "      <td>0</td>\n",
       "      <td>0</td>\n",
       "      <td>0</td>\n",
       "      <td>0</td>\n",
       "      <td>...</td>\n",
       "      <td>0</td>\n",
       "      <td>0</td>\n",
       "      <td>0</td>\n",
       "      <td>0</td>\n",
       "      <td>0</td>\n",
       "      <td>0</td>\n",
       "      <td>0</td>\n",
       "      <td>0</td>\n",
       "      <td>0</td>\n",
       "      <td>0</td>\n",
       "    </tr>\n",
       "    <tr>\n",
       "      <th>41997</th>\n",
       "      <td>7</td>\n",
       "      <td>0</td>\n",
       "      <td>0</td>\n",
       "      <td>0</td>\n",
       "      <td>0</td>\n",
       "      <td>0</td>\n",
       "      <td>0</td>\n",
       "      <td>0</td>\n",
       "      <td>0</td>\n",
       "      <td>0</td>\n",
       "      <td>...</td>\n",
       "      <td>0</td>\n",
       "      <td>0</td>\n",
       "      <td>0</td>\n",
       "      <td>0</td>\n",
       "      <td>0</td>\n",
       "      <td>0</td>\n",
       "      <td>0</td>\n",
       "      <td>0</td>\n",
       "      <td>0</td>\n",
       "      <td>0</td>\n",
       "    </tr>\n",
       "    <tr>\n",
       "      <th>41998</th>\n",
       "      <td>6</td>\n",
       "      <td>0</td>\n",
       "      <td>0</td>\n",
       "      <td>0</td>\n",
       "      <td>0</td>\n",
       "      <td>0</td>\n",
       "      <td>0</td>\n",
       "      <td>0</td>\n",
       "      <td>0</td>\n",
       "      <td>0</td>\n",
       "      <td>...</td>\n",
       "      <td>0</td>\n",
       "      <td>0</td>\n",
       "      <td>0</td>\n",
       "      <td>0</td>\n",
       "      <td>0</td>\n",
       "      <td>0</td>\n",
       "      <td>0</td>\n",
       "      <td>0</td>\n",
       "      <td>0</td>\n",
       "      <td>0</td>\n",
       "    </tr>\n",
       "    <tr>\n",
       "      <th>41999</th>\n",
       "      <td>9</td>\n",
       "      <td>0</td>\n",
       "      <td>0</td>\n",
       "      <td>0</td>\n",
       "      <td>0</td>\n",
       "      <td>0</td>\n",
       "      <td>0</td>\n",
       "      <td>0</td>\n",
       "      <td>0</td>\n",
       "      <td>0</td>\n",
       "      <td>...</td>\n",
       "      <td>0</td>\n",
       "      <td>0</td>\n",
       "      <td>0</td>\n",
       "      <td>0</td>\n",
       "      <td>0</td>\n",
       "      <td>0</td>\n",
       "      <td>0</td>\n",
       "      <td>0</td>\n",
       "      <td>0</td>\n",
       "      <td>0</td>\n",
       "    </tr>\n",
       "  </tbody>\n",
       "</table>\n",
       "<p>42000 rows × 785 columns</p>\n",
       "</div>"
      ],
      "text/plain": [
       "       label  pixel0  pixel1  pixel2  pixel3  pixel4  pixel5  pixel6  pixel7  \\\n",
       "0          1       0       0       0       0       0       0       0       0   \n",
       "1          0       0       0       0       0       0       0       0       0   \n",
       "2          1       0       0       0       0       0       0       0       0   \n",
       "3          4       0       0       0       0       0       0       0       0   \n",
       "4          0       0       0       0       0       0       0       0       0   \n",
       "...      ...     ...     ...     ...     ...     ...     ...     ...     ...   \n",
       "41995      0       0       0       0       0       0       0       0       0   \n",
       "41996      1       0       0       0       0       0       0       0       0   \n",
       "41997      7       0       0       0       0       0       0       0       0   \n",
       "41998      6       0       0       0       0       0       0       0       0   \n",
       "41999      9       0       0       0       0       0       0       0       0   \n",
       "\n",
       "       pixel8  ...  pixel774  pixel775  pixel776  pixel777  pixel778  \\\n",
       "0           0  ...         0         0         0         0         0   \n",
       "1           0  ...         0         0         0         0         0   \n",
       "2           0  ...         0         0         0         0         0   \n",
       "3           0  ...         0         0         0         0         0   \n",
       "4           0  ...         0         0         0         0         0   \n",
       "...       ...  ...       ...       ...       ...       ...       ...   \n",
       "41995       0  ...         0         0         0         0         0   \n",
       "41996       0  ...         0         0         0         0         0   \n",
       "41997       0  ...         0         0         0         0         0   \n",
       "41998       0  ...         0         0         0         0         0   \n",
       "41999       0  ...         0         0         0         0         0   \n",
       "\n",
       "       pixel779  pixel780  pixel781  pixel782  pixel783  \n",
       "0             0         0         0         0         0  \n",
       "1             0         0         0         0         0  \n",
       "2             0         0         0         0         0  \n",
       "3             0         0         0         0         0  \n",
       "4             0         0         0         0         0  \n",
       "...         ...       ...       ...       ...       ...  \n",
       "41995         0         0         0         0         0  \n",
       "41996         0         0         0         0         0  \n",
       "41997         0         0         0         0         0  \n",
       "41998         0         0         0         0         0  \n",
       "41999         0         0         0         0         0  \n",
       "\n",
       "[42000 rows x 785 columns]"
      ]
     },
     "execution_count": 3,
     "metadata": {},
     "output_type": "execute_result"
    }
   ],
   "source": [
    "train_df = pd.read_csv('/kaggle/input/digit-recognizer/train.csv')\n",
    "test_df = pd.read_csv('/kaggle/input/digit-recognizer/test.csv')\n",
    "train_df"
   ]
  },
  {
   "cell_type": "code",
   "execution_count": 4,
   "id": "7068f36f",
   "metadata": {
    "execution": {
     "iopub.execute_input": "2024-09-29T14:05:44.320422Z",
     "iopub.status.busy": "2024-09-29T14:05:44.320023Z",
     "iopub.status.idle": "2024-09-29T14:05:44.324659Z",
     "shell.execute_reply": "2024-09-29T14:05:44.323547Z"
    },
    "papermill": {
     "duration": 0.013172,
     "end_time": "2024-09-29T14:05:44.326855",
     "exception": false,
     "start_time": "2024-09-29T14:05:44.313683",
     "status": "completed"
    },
    "tags": []
   },
   "outputs": [],
   "source": [
    "import torch"
   ]
  },
  {
   "cell_type": "code",
   "execution_count": 5,
   "id": "16117692",
   "metadata": {
    "execution": {
     "iopub.execute_input": "2024-09-29T14:05:44.338417Z",
     "iopub.status.busy": "2024-09-29T14:05:44.338012Z",
     "iopub.status.idle": "2024-09-29T14:05:46.124275Z",
     "shell.execute_reply": "2024-09-29T14:05:46.123254Z"
    },
    "papermill": {
     "duration": 1.795061,
     "end_time": "2024-09-29T14:05:46.126911",
     "exception": false,
     "start_time": "2024-09-29T14:05:44.331850",
     "status": "completed"
    },
    "tags": []
   },
   "outputs": [],
   "source": [
    "import torchvision\n",
    "from torchvision import transforms\n",
    "import torch.nn as nn\n",
    "from torch.utils.data import DataLoader"
   ]
  },
  {
   "cell_type": "code",
   "execution_count": 6,
   "id": "6d0962c0",
   "metadata": {
    "execution": {
     "iopub.execute_input": "2024-09-29T14:05:46.139367Z",
     "iopub.status.busy": "2024-09-29T14:05:46.138419Z",
     "iopub.status.idle": "2024-09-29T14:05:46.173595Z",
     "shell.execute_reply": "2024-09-29T14:05:46.172439Z"
    },
    "papermill": {
     "duration": 0.044265,
     "end_time": "2024-09-29T14:05:46.176310",
     "exception": false,
     "start_time": "2024-09-29T14:05:46.132045",
     "status": "completed"
    },
    "tags": []
   },
   "outputs": [],
   "source": [
    "model = nn.Sequential()\n",
    "model.add_module('conv1',nn.Conv2d(in_channels=1,out_channels=32,kernel_size=5,padding=2))\n",
    "model.add_module('relu1',nn.ReLU())\n",
    "model.add_module('pool1',nn.MaxPool2d(kernel_size=2))\n",
    "model.add_module('conv2',nn.Conv2d(in_channels=32,out_channels=64,kernel_size=5,padding=2))\n",
    "model.add_module('relu2',nn.ReLU())\n",
    "model.add_module('pool2',nn.MaxPool2d(kernel_size=2))"
   ]
  },
  {
   "cell_type": "code",
   "execution_count": 7,
   "id": "93387103",
   "metadata": {
    "execution": {
     "iopub.execute_input": "2024-09-29T14:05:46.188463Z",
     "iopub.status.busy": "2024-09-29T14:05:46.188024Z",
     "iopub.status.idle": "2024-09-29T14:05:46.193440Z",
     "shell.execute_reply": "2024-09-29T14:05:46.192334Z"
    },
    "papermill": {
     "duration": 0.014086,
     "end_time": "2024-09-29T14:05:46.195679",
     "exception": false,
     "start_time": "2024-09-29T14:05:46.181593",
     "status": "completed"
    },
    "tags": []
   },
   "outputs": [],
   "source": [
    "model.add_module('flatten',nn.Flatten())"
   ]
  },
  {
   "cell_type": "code",
   "execution_count": 8,
   "id": "9d2c5be5",
   "metadata": {
    "execution": {
     "iopub.execute_input": "2024-09-29T14:05:46.208428Z",
     "iopub.status.busy": "2024-09-29T14:05:46.207987Z",
     "iopub.status.idle": "2024-09-29T14:05:46.248636Z",
     "shell.execute_reply": "2024-09-29T14:05:46.247420Z"
    },
    "papermill": {
     "duration": 0.050643,
     "end_time": "2024-09-29T14:05:46.251518",
     "exception": false,
     "start_time": "2024-09-29T14:05:46.200875",
     "status": "completed"
    },
    "tags": []
   },
   "outputs": [],
   "source": [
    "model.add_module('fc1',nn.Linear(3136,1024))\n",
    "model.add_module('relu3',nn.ReLU())\n",
    "model.add_module('dropout', nn.Dropout(p=0.5))\n",
    "model.add_module('fc2',nn.Linear(1024,10))"
   ]
  },
  {
   "cell_type": "code",
   "execution_count": 9,
   "id": "d4240bdf",
   "metadata": {
    "execution": {
     "iopub.execute_input": "2024-09-29T14:05:46.263607Z",
     "iopub.status.busy": "2024-09-29T14:05:46.263170Z",
     "iopub.status.idle": "2024-09-29T14:05:46.430171Z",
     "shell.execute_reply": "2024-09-29T14:05:46.428884Z"
    },
    "papermill": {
     "duration": 0.176003,
     "end_time": "2024-09-29T14:05:46.432771",
     "exception": false,
     "start_time": "2024-09-29T14:05:46.256768",
     "status": "completed"
    },
    "tags": []
   },
   "outputs": [
    {
     "data": {
      "text/plain": [
       "torch.Size([4, 10])"
      ]
     },
     "execution_count": 9,
     "metadata": {},
     "output_type": "execute_result"
    }
   ],
   "source": [
    "x = torch.ones((4,1,28,28))\n",
    "model(x).shape"
   ]
  },
  {
   "cell_type": "code",
   "execution_count": 10,
   "id": "0e79075a",
   "metadata": {
    "execution": {
     "iopub.execute_input": "2024-09-29T14:05:46.446288Z",
     "iopub.status.busy": "2024-09-29T14:05:46.445864Z",
     "iopub.status.idle": "2024-09-29T14:05:46.451233Z",
     "shell.execute_reply": "2024-09-29T14:05:46.450200Z"
    },
    "papermill": {
     "duration": 0.015305,
     "end_time": "2024-09-29T14:05:46.453482",
     "exception": false,
     "start_time": "2024-09-29T14:05:46.438177",
     "status": "completed"
    },
    "tags": []
   },
   "outputs": [],
   "source": [
    "criterion = nn.CrossEntropyLoss()\n",
    "optimizer = torch.optim.Adam(model.parameters(),lr=0.001)"
   ]
  },
  {
   "cell_type": "code",
   "execution_count": 11,
   "id": "e031f538",
   "metadata": {
    "execution": {
     "iopub.execute_input": "2024-09-29T14:05:46.465979Z",
     "iopub.status.busy": "2024-09-29T14:05:46.465587Z",
     "iopub.status.idle": "2024-09-29T14:05:46.473170Z",
     "shell.execute_reply": "2024-09-29T14:05:46.472094Z"
    },
    "papermill": {
     "duration": 0.016344,
     "end_time": "2024-09-29T14:05:46.475332",
     "exception": false,
     "start_time": "2024-09-29T14:05:46.458988",
     "status": "completed"
    },
    "tags": []
   },
   "outputs": [
    {
     "data": {
      "text/plain": [
       "Sequential(\n",
       "  (conv1): Conv2d(1, 32, kernel_size=(5, 5), stride=(1, 1), padding=(2, 2))\n",
       "  (relu1): ReLU()\n",
       "  (pool1): MaxPool2d(kernel_size=2, stride=2, padding=0, dilation=1, ceil_mode=False)\n",
       "  (conv2): Conv2d(32, 64, kernel_size=(5, 5), stride=(1, 1), padding=(2, 2))\n",
       "  (relu2): ReLU()\n",
       "  (pool2): MaxPool2d(kernel_size=2, stride=2, padding=0, dilation=1, ceil_mode=False)\n",
       "  (flatten): Flatten(start_dim=1, end_dim=-1)\n",
       "  (fc1): Linear(in_features=3136, out_features=1024, bias=True)\n",
       "  (relu3): ReLU()\n",
       "  (dropout): Dropout(p=0.5, inplace=False)\n",
       "  (fc2): Linear(in_features=1024, out_features=10, bias=True)\n",
       ")"
      ]
     },
     "execution_count": 11,
     "metadata": {},
     "output_type": "execute_result"
    }
   ],
   "source": [
    "model.eval()"
   ]
  },
  {
   "cell_type": "code",
   "execution_count": 12,
   "id": "1dc837cc",
   "metadata": {
    "execution": {
     "iopub.execute_input": "2024-09-29T14:05:46.487726Z",
     "iopub.status.busy": "2024-09-29T14:05:46.487311Z",
     "iopub.status.idle": "2024-09-29T14:05:47.268509Z",
     "shell.execute_reply": "2024-09-29T14:05:47.267382Z"
    },
    "papermill": {
     "duration": 0.790382,
     "end_time": "2024-09-29T14:05:47.271040",
     "exception": false,
     "start_time": "2024-09-29T14:05:46.480658",
     "status": "completed"
    },
    "tags": []
   },
   "outputs": [],
   "source": [
    "X = train_df.iloc[:, 1:].values / 255.0  \n",
    "y = train_df.iloc[:, 0].values  \n",
    "X_test = test_df.values / 255.0\n",
    "X = X.reshape(-1, 1, 28, 28).astype('float32')\n",
    "X_test = X_test.reshape(-1, 1, 28, 28).astype('float32')\n",
    "X_train, X_val, y_train, y_val = train_test_split(X, y, test_size=0.2, random_state=42)\n",
    "X_train_tensor = torch.tensor(X, dtype=torch.float32)\n",
    "y_train_tensor = torch.tensor(y, dtype=torch.long)\n",
    "\n",
    "X_test_tensor = torch.tensor(X_test, dtype=torch.float32)"
   ]
  },
  {
   "cell_type": "code",
   "execution_count": 13,
   "id": "a2d50dcb",
   "metadata": {
    "execution": {
     "iopub.execute_input": "2024-09-29T14:05:47.284179Z",
     "iopub.status.busy": "2024-09-29T14:05:47.283211Z",
     "iopub.status.idle": "2024-09-29T14:05:47.289074Z",
     "shell.execute_reply": "2024-09-29T14:05:47.288031Z"
    },
    "papermill": {
     "duration": 0.014808,
     "end_time": "2024-09-29T14:05:47.291375",
     "exception": false,
     "start_time": "2024-09-29T14:05:47.276567",
     "status": "completed"
    },
    "tags": []
   },
   "outputs": [],
   "source": [
    "train_dataset = TensorDataset(X_train_tensor, y_train_tensor)\n",
    "\n",
    "test_dataset = TensorDataset(X_test_tensor)\n",
    "\n",
    "\n",
    "train_loader = DataLoader(train_dataset, batch_size=64, shuffle=True)\n",
    "\n",
    "test_loader = DataLoader(test_dataset, batch_size=64, shuffle=False)"
   ]
  },
  {
   "cell_type": "code",
   "execution_count": 14,
   "id": "5d615711",
   "metadata": {
    "execution": {
     "iopub.execute_input": "2024-09-29T14:05:47.304342Z",
     "iopub.status.busy": "2024-09-29T14:05:47.303448Z",
     "iopub.status.idle": "2024-09-29T14:05:47.315436Z",
     "shell.execute_reply": "2024-09-29T14:05:47.314273Z"
    },
    "papermill": {
     "duration": 0.020779,
     "end_time": "2024-09-29T14:05:47.317594",
     "exception": false,
     "start_time": "2024-09-29T14:05:47.296815",
     "status": "completed"
    },
    "tags": []
   },
   "outputs": [
    {
     "data": {
      "text/plain": [
       "Sequential(\n",
       "  (conv1): Conv2d(1, 32, kernel_size=(5, 5), stride=(1, 1), padding=(2, 2))\n",
       "  (relu1): ReLU()\n",
       "  (pool1): MaxPool2d(kernel_size=2, stride=2, padding=0, dilation=1, ceil_mode=False)\n",
       "  (conv2): Conv2d(32, 64, kernel_size=(5, 5), stride=(1, 1), padding=(2, 2))\n",
       "  (relu2): ReLU()\n",
       "  (pool2): MaxPool2d(kernel_size=2, stride=2, padding=0, dilation=1, ceil_mode=False)\n",
       "  (flatten): Flatten(start_dim=1, end_dim=-1)\n",
       "  (fc1): Linear(in_features=3136, out_features=1024, bias=True)\n",
       "  (relu3): ReLU()\n",
       "  (dropout): Dropout(p=0.5, inplace=False)\n",
       "  (fc2): Linear(in_features=1024, out_features=10, bias=True)\n",
       ")"
      ]
     },
     "execution_count": 14,
     "metadata": {},
     "output_type": "execute_result"
    }
   ],
   "source": [
    "import torch.optim as optim\n",
    "\n",
    "\n",
    "device = torch.device('cuda' if torch.cuda.is_available() else 'cpu')\n",
    "model.to(device)\n"
   ]
  },
  {
   "cell_type": "code",
   "execution_count": 15,
   "id": "b139a700",
   "metadata": {
    "execution": {
     "iopub.execute_input": "2024-09-29T14:05:47.330877Z",
     "iopub.status.busy": "2024-09-29T14:05:47.329818Z",
     "iopub.status.idle": "2024-09-29T14:10:57.297737Z",
     "shell.execute_reply": "2024-09-29T14:10:57.296369Z"
    },
    "papermill": {
     "duration": 309.978335,
     "end_time": "2024-09-29T14:10:57.301436",
     "exception": false,
     "start_time": "2024-09-29T14:05:47.323101",
     "status": "completed"
    },
    "tags": []
   },
   "outputs": [
    {
     "name": "stdout",
     "output_type": "stream",
     "text": [
      "Epoch [1/5], Step [100/657], Loss: 0.5139\n",
      "Epoch [1/5], Step [200/657], Loss: 0.1480\n",
      "Epoch [1/5], Step [300/657], Loss: 0.1072\n",
      "Epoch [1/5], Step [400/657], Loss: 0.0969\n",
      "Epoch [1/5], Step [500/657], Loss: 0.0806\n",
      "Epoch [1/5], Step [600/657], Loss: 0.0854\n",
      "Epoch [2/5], Step [100/657], Loss: 0.0584\n",
      "Epoch [2/5], Step [200/657], Loss: 0.0606\n",
      "Epoch [2/5], Step [300/657], Loss: 0.0507\n",
      "Epoch [2/5], Step [400/657], Loss: 0.0498\n",
      "Epoch [2/5], Step [500/657], Loss: 0.0413\n",
      "Epoch [2/5], Step [600/657], Loss: 0.0544\n",
      "Epoch [3/5], Step [100/657], Loss: 0.0327\n",
      "Epoch [3/5], Step [200/657], Loss: 0.0356\n",
      "Epoch [3/5], Step [300/657], Loss: 0.0378\n",
      "Epoch [3/5], Step [400/657], Loss: 0.0336\n",
      "Epoch [3/5], Step [500/657], Loss: 0.0436\n",
      "Epoch [3/5], Step [600/657], Loss: 0.0411\n",
      "Epoch [4/5], Step [100/657], Loss: 0.0267\n",
      "Epoch [4/5], Step [200/657], Loss: 0.0251\n",
      "Epoch [4/5], Step [300/657], Loss: 0.0274\n",
      "Epoch [4/5], Step [400/657], Loss: 0.0282\n",
      "Epoch [4/5], Step [500/657], Loss: 0.0271\n",
      "Epoch [4/5], Step [600/657], Loss: 0.0308\n",
      "Epoch [5/5], Step [100/657], Loss: 0.0237\n",
      "Epoch [5/5], Step [200/657], Loss: 0.0176\n",
      "Epoch [5/5], Step [300/657], Loss: 0.0178\n",
      "Epoch [5/5], Step [400/657], Loss: 0.0240\n",
      "Epoch [5/5], Step [500/657], Loss: 0.0207\n",
      "Epoch [5/5], Step [600/657], Loss: 0.0201\n"
     ]
    }
   ],
   "source": [
    "def train_model(model, train_loader,  criterion, optimizer, num_epochs=5):\n",
    "    model.train()\n",
    "    for epoch in range(num_epochs):\n",
    "        running_loss = 0.0\n",
    "        for i, (images, labels) in enumerate(train_loader):\n",
    "            images, labels = images.to(device), labels.to(device)\n",
    "\n",
    "            \n",
    "            optimizer.zero_grad()\n",
    "\n",
    "           \n",
    "            outputs = model(images)\n",
    "            loss = criterion(outputs, labels)\n",
    "\n",
    "            \n",
    "            loss.backward()\n",
    "            optimizer.step()\n",
    "\n",
    "            running_loss += loss.item()\n",
    "            if i % 100 == 99:  \n",
    "                print(f'Epoch [{epoch+1}/{num_epochs}], Step [{i+1}/{len(train_loader)}], Loss: {running_loss/100:.4f}')\n",
    "                running_loss = 0.0\n",
    "        \n",
    "        \n",
    "        \n",
    "        \n",
    "train_model(model, train_loader, criterion, optimizer, num_epochs=5)"
   ]
  },
  {
   "cell_type": "code",
   "execution_count": 16,
   "id": "3901c777",
   "metadata": {
    "execution": {
     "iopub.execute_input": "2024-09-29T14:10:57.318725Z",
     "iopub.status.busy": "2024-09-29T14:10:57.318299Z",
     "iopub.status.idle": "2024-09-29T14:11:08.325560Z",
     "shell.execute_reply": "2024-09-29T14:11:08.324540Z"
    },
    "papermill": {
     "duration": 11.018575,
     "end_time": "2024-09-29T14:11:08.328143",
     "exception": false,
     "start_time": "2024-09-29T14:10:57.309568",
     "status": "completed"
    },
    "tags": []
   },
   "outputs": [],
   "source": [
    "def predict(model, test_loader):\n",
    "    model.eval()\n",
    "    predictions = []\n",
    "    with torch.no_grad():\n",
    "        for images in test_loader:\n",
    "            images = images[0].to(device)\n",
    "            outputs = model(images)\n",
    "            _, predicted = torch.max(outputs, 1)\n",
    "            predictions.extend(predicted.cpu().numpy())\n",
    "    return predictions\n",
    "\n",
    "\n",
    "predictions = predict(model, test_loader)\n",
    "submission2 = pd.DataFrame({'ImageId': list(range(1, len(predictions) + 1)), 'Label': predictions})\n",
    "submission2.to_csv('submission2.csv', index=False)"
   ]
  },
  {
   "cell_type": "code",
   "execution_count": null,
   "id": "26d2e86b",
   "metadata": {
    "papermill": {
     "duration": 0.006926,
     "end_time": "2024-09-29T14:11:08.342633",
     "exception": false,
     "start_time": "2024-09-29T14:11:08.335707",
     "status": "completed"
    },
    "tags": []
   },
   "outputs": [],
   "source": []
  }
 ],
 "metadata": {
  "kaggle": {
   "accelerator": "none",
   "dataSources": [
    {
     "databundleVersionId": 861823,
     "sourceId": 3004,
     "sourceType": "competition"
    }
   ],
   "dockerImageVersionId": 30775,
   "isGpuEnabled": false,
   "isInternetEnabled": false,
   "language": "python",
   "sourceType": "notebook"
  },
  "kernelspec": {
   "display_name": "Python 3",
   "language": "python",
   "name": "python3"
  },
  "language_info": {
   "codemirror_mode": {
    "name": "ipython",
    "version": 3
   },
   "file_extension": ".py",
   "mimetype": "text/x-python",
   "name": "python",
   "nbconvert_exporter": "python",
   "pygments_lexer": "ipython3",
   "version": "3.10.14"
  },
  "papermill": {
   "default_parameters": {},
   "duration": 338.90526,
   "end_time": "2024-09-29T14:11:09.674356",
   "environment_variables": {},
   "exception": null,
   "input_path": "__notebook__.ipynb",
   "output_path": "__notebook__.ipynb",
   "parameters": {},
   "start_time": "2024-09-29T14:05:30.769096",
   "version": "2.6.0"
  }
 },
 "nbformat": 4,
 "nbformat_minor": 5
}
