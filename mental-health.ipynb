{
 "cells": [
  {
   "cell_type": "code",
   "execution_count": 1,
   "id": "f9a221e0",
   "metadata": {
    "_cell_guid": "b1076dfc-b9ad-4769-8c92-a6c4dae69d19",
    "_uuid": "8f2839f25d086af736a60e9eeb907d3b93b6e0e5",
    "execution": {
     "iopub.execute_input": "2024-11-04T16:41:27.179634Z",
     "iopub.status.busy": "2024-11-04T16:41:27.179201Z",
     "iopub.status.idle": "2024-11-04T16:41:28.035450Z",
     "shell.execute_reply": "2024-11-04T16:41:28.034464Z"
    },
    "jupyter": {
     "source_hidden": true
    },
    "papermill": {
     "duration": 0.872279,
     "end_time": "2024-11-04T16:41:28.037732",
     "exception": false,
     "start_time": "2024-11-04T16:41:27.165453",
     "status": "completed"
    },
    "tags": []
   },
   "outputs": [
    {
     "name": "stdout",
     "output_type": "stream",
     "text": [
      "/kaggle/input/playground-series-s4e11/sample_submission.csv\n",
      "/kaggle/input/playground-series-s4e11/train.csv\n",
      "/kaggle/input/playground-series-s4e11/test.csv\n"
     ]
    }
   ],
   "source": [
    "# This Python 3 environment comes with many helpful analytics libraries installed\n",
    "# It is defined by the kaggle/python Docker image: https://github.com/kaggle/docker-python\n",
    "# For example, here's several helpful packages to load\n",
    "\n",
    "import numpy as np # linear algebra\n",
    "import pandas as pd # data processing, CSV file I/O (e.g. pd.read_csv)\n",
    "\n",
    "# Input data files are available in the read-only \"../input/\" directory\n",
    "# For example, running this (by clicking run or pressing Shift+Enter) will list all files under the input directory\n",
    "\n",
    "import os\n",
    "for dirname, _, filenames in os.walk('/kaggle/input'):\n",
    "    for filename in filenames:\n",
    "        print(os.path.join(dirname, filename))\n",
    "\n",
    "# You can write up to 20GB to the current directory (/kaggle/working/) that gets preserved as output when you create a version using \"Save & Run All\" \n",
    "# You can also write temporary files to /kaggle/temp/, but they won't be saved outside of the current session"
   ]
  },
  {
   "cell_type": "code",
   "execution_count": 2,
   "id": "591b99d9",
   "metadata": {
    "execution": {
     "iopub.execute_input": "2024-11-04T16:41:28.061868Z",
     "iopub.status.busy": "2024-11-04T16:41:28.061051Z",
     "iopub.status.idle": "2024-11-04T16:41:28.065202Z",
     "shell.execute_reply": "2024-11-04T16:41:28.064396Z"
    },
    "papermill": {
     "duration": 0.017312,
     "end_time": "2024-11-04T16:41:28.067031",
     "exception": false,
     "start_time": "2024-11-04T16:41:28.049719",
     "status": "completed"
    },
    "tags": []
   },
   "outputs": [],
   "source": [
    "import pandas as pd\n",
    "import matplotlib.pyplot as plt"
   ]
  },
  {
   "cell_type": "code",
   "execution_count": 3,
   "id": "2def19fb",
   "metadata": {
    "execution": {
     "iopub.execute_input": "2024-11-04T16:41:28.089236Z",
     "iopub.status.busy": "2024-11-04T16:41:28.088945Z",
     "iopub.status.idle": "2024-11-04T16:41:28.096046Z",
     "shell.execute_reply": "2024-11-04T16:41:28.095258Z"
    },
    "papermill": {
     "duration": 0.020458,
     "end_time": "2024-11-04T16:41:28.097991",
     "exception": false,
     "start_time": "2024-11-04T16:41:28.077533",
     "status": "completed"
    },
    "tags": []
   },
   "outputs": [
    {
     "data": {
      "text/plain": [
       "['Solarize_Light2',\n",
       " '_classic_test_patch',\n",
       " '_mpl-gallery',\n",
       " '_mpl-gallery-nogrid',\n",
       " 'bmh',\n",
       " 'classic',\n",
       " 'dark_background',\n",
       " 'fast',\n",
       " 'fivethirtyeight',\n",
       " 'ggplot',\n",
       " 'grayscale',\n",
       " 'seaborn-v0_8',\n",
       " 'seaborn-v0_8-bright',\n",
       " 'seaborn-v0_8-colorblind',\n",
       " 'seaborn-v0_8-dark',\n",
       " 'seaborn-v0_8-dark-palette',\n",
       " 'seaborn-v0_8-darkgrid',\n",
       " 'seaborn-v0_8-deep',\n",
       " 'seaborn-v0_8-muted',\n",
       " 'seaborn-v0_8-notebook',\n",
       " 'seaborn-v0_8-paper',\n",
       " 'seaborn-v0_8-pastel',\n",
       " 'seaborn-v0_8-poster',\n",
       " 'seaborn-v0_8-talk',\n",
       " 'seaborn-v0_8-ticks',\n",
       " 'seaborn-v0_8-white',\n",
       " 'seaborn-v0_8-whitegrid',\n",
       " 'tableau-colorblind10']"
      ]
     },
     "execution_count": 3,
     "metadata": {},
     "output_type": "execute_result"
    }
   ],
   "source": [
    "plt.style.available"
   ]
  },
  {
   "cell_type": "code",
   "execution_count": 4,
   "id": "a554c219",
   "metadata": {
    "execution": {
     "iopub.execute_input": "2024-11-04T16:41:28.119924Z",
     "iopub.status.busy": "2024-11-04T16:41:28.119644Z",
     "iopub.status.idle": "2024-11-04T16:41:28.123692Z",
     "shell.execute_reply": "2024-11-04T16:41:28.122970Z"
    },
    "papermill": {
     "duration": 0.017083,
     "end_time": "2024-11-04T16:41:28.125567",
     "exception": false,
     "start_time": "2024-11-04T16:41:28.108484",
     "status": "completed"
    },
    "tags": []
   },
   "outputs": [],
   "source": [
    "plt.style.use('fivethirtyeight')"
   ]
  },
  {
   "cell_type": "code",
   "execution_count": 5,
   "id": "a149113e",
   "metadata": {
    "execution": {
     "iopub.execute_input": "2024-11-04T16:41:28.147343Z",
     "iopub.status.busy": "2024-11-04T16:41:28.147068Z",
     "iopub.status.idle": "2024-11-04T16:41:29.028717Z",
     "shell.execute_reply": "2024-11-04T16:41:29.027857Z"
    },
    "papermill": {
     "duration": 0.895293,
     "end_time": "2024-11-04T16:41:29.031139",
     "exception": false,
     "start_time": "2024-11-04T16:41:28.135846",
     "status": "completed"
    },
    "tags": []
   },
   "outputs": [],
   "source": [
    "train = pd.read_csv('/kaggle/input/playground-series-s4e11/train.csv')\n",
    "test = pd.read_csv('/kaggle/input/playground-series-s4e11/test.csv')"
   ]
  },
  {
   "cell_type": "code",
   "execution_count": 6,
   "id": "e662afb9",
   "metadata": {
    "execution": {
     "iopub.execute_input": "2024-11-04T16:41:29.054512Z",
     "iopub.status.busy": "2024-11-04T16:41:29.054171Z",
     "iopub.status.idle": "2024-11-04T16:41:29.211932Z",
     "shell.execute_reply": "2024-11-04T16:41:29.210764Z"
    },
    "papermill": {
     "duration": 0.171622,
     "end_time": "2024-11-04T16:41:29.214239",
     "exception": false,
     "start_time": "2024-11-04T16:41:29.042617",
     "status": "completed"
    },
    "tags": []
   },
   "outputs": [
    {
     "name": "stdout",
     "output_type": "stream",
     "text": [
      "<class 'pandas.core.frame.DataFrame'>\n",
      "RangeIndex: 140700 entries, 0 to 140699\n",
      "Data columns (total 20 columns):\n",
      " #   Column                                 Non-Null Count   Dtype  \n",
      "---  ------                                 --------------   -----  \n",
      " 0   id                                     140700 non-null  int64  \n",
      " 1   Name                                   140700 non-null  object \n",
      " 2   Gender                                 140700 non-null  object \n",
      " 3   Age                                    140700 non-null  float64\n",
      " 4   City                                   140700 non-null  object \n",
      " 5   Working Professional or Student        140700 non-null  object \n",
      " 6   Profession                             104070 non-null  object \n",
      " 7   Academic Pressure                      27897 non-null   float64\n",
      " 8   Work Pressure                          112782 non-null  float64\n",
      " 9   CGPA                                   27898 non-null   float64\n",
      " 10  Study Satisfaction                     27897 non-null   float64\n",
      " 11  Job Satisfaction                       112790 non-null  float64\n",
      " 12  Sleep Duration                         140700 non-null  object \n",
      " 13  Dietary Habits                         140696 non-null  object \n",
      " 14  Degree                                 140698 non-null  object \n",
      " 15  Have you ever had suicidal thoughts ?  140700 non-null  object \n",
      " 16  Work/Study Hours                       140700 non-null  float64\n",
      " 17  Financial Stress                       140696 non-null  float64\n",
      " 18  Family History of Mental Illness       140700 non-null  object \n",
      " 19  Depression                             140700 non-null  int64  \n",
      "dtypes: float64(8), int64(2), object(10)\n",
      "memory usage: 21.5+ MB\n"
     ]
    }
   ],
   "source": [
    "train.info()"
   ]
  },
  {
   "cell_type": "code",
   "execution_count": 7,
   "id": "c68a25cd",
   "metadata": {
    "execution": {
     "iopub.execute_input": "2024-11-04T16:41:29.238437Z",
     "iopub.status.busy": "2024-11-04T16:41:29.237678Z",
     "iopub.status.idle": "2024-11-04T16:41:29.332546Z",
     "shell.execute_reply": "2024-11-04T16:41:29.331535Z"
    },
    "papermill": {
     "duration": 0.108951,
     "end_time": "2024-11-04T16:41:29.334660",
     "exception": false,
     "start_time": "2024-11-04T16:41:29.225709",
     "status": "completed"
    },
    "tags": []
   },
   "outputs": [
    {
     "name": "stdout",
     "output_type": "stream",
     "text": [
      "<class 'pandas.core.frame.DataFrame'>\n",
      "RangeIndex: 93800 entries, 0 to 93799\n",
      "Data columns (total 19 columns):\n",
      " #   Column                                 Non-Null Count  Dtype  \n",
      "---  ------                                 --------------  -----  \n",
      " 0   id                                     93800 non-null  int64  \n",
      " 1   Name                                   93800 non-null  object \n",
      " 2   Gender                                 93800 non-null  object \n",
      " 3   Age                                    93800 non-null  float64\n",
      " 4   City                                   93800 non-null  object \n",
      " 5   Working Professional or Student        93800 non-null  object \n",
      " 6   Profession                             69168 non-null  object \n",
      " 7   Academic Pressure                      18767 non-null  float64\n",
      " 8   Work Pressure                          75022 non-null  float64\n",
      " 9   CGPA                                   18766 non-null  float64\n",
      " 10  Study Satisfaction                     18767 non-null  float64\n",
      " 11  Job Satisfaction                       75026 non-null  float64\n",
      " 12  Sleep Duration                         93800 non-null  object \n",
      " 13  Dietary Habits                         93795 non-null  object \n",
      " 14  Degree                                 93798 non-null  object \n",
      " 15  Have you ever had suicidal thoughts ?  93800 non-null  object \n",
      " 16  Work/Study Hours                       93800 non-null  float64\n",
      " 17  Financial Stress                       93800 non-null  float64\n",
      " 18  Family History of Mental Illness       93800 non-null  object \n",
      "dtypes: float64(8), int64(1), object(10)\n",
      "memory usage: 13.6+ MB\n"
     ]
    }
   ],
   "source": [
    "test.info()"
   ]
  },
  {
   "cell_type": "code",
   "execution_count": 8,
   "id": "a43e630c",
   "metadata": {
    "execution": {
     "iopub.execute_input": "2024-11-04T16:41:29.357798Z",
     "iopub.status.busy": "2024-11-04T16:41:29.357519Z",
     "iopub.status.idle": "2024-11-04T16:41:29.489654Z",
     "shell.execute_reply": "2024-11-04T16:41:29.488784Z"
    },
    "papermill": {
     "duration": 0.145667,
     "end_time": "2024-11-04T16:41:29.491494",
     "exception": false,
     "start_time": "2024-11-04T16:41:29.345827",
     "status": "completed"
    },
    "tags": []
   },
   "outputs": [
    {
     "data": {
      "text/plain": [
       "id                                            0\n",
       "Name                                          0\n",
       "Gender                                        0\n",
       "Age                                           0\n",
       "City                                          0\n",
       "Working Professional or Student               0\n",
       "Profession                                36630\n",
       "Academic Pressure                        112803\n",
       "Work Pressure                             27918\n",
       "CGPA                                     112802\n",
       "Study Satisfaction                       112803\n",
       "Job Satisfaction                          27910\n",
       "Sleep Duration                                0\n",
       "Dietary Habits                                4\n",
       "Degree                                        2\n",
       "Have you ever had suicidal thoughts ?         0\n",
       "Work/Study Hours                              0\n",
       "Financial Stress                              4\n",
       "Family History of Mental Illness              0\n",
       "Depression                                    0\n",
       "dtype: int64"
      ]
     },
     "execution_count": 8,
     "metadata": {},
     "output_type": "execute_result"
    }
   ],
   "source": [
    "train.isnull().sum()"
   ]
  },
  {
   "cell_type": "code",
   "execution_count": 9,
   "id": "f4d0e46c",
   "metadata": {
    "execution": {
     "iopub.execute_input": "2024-11-04T16:41:29.514232Z",
     "iopub.status.busy": "2024-11-04T16:41:29.513964Z",
     "iopub.status.idle": "2024-11-04T16:41:29.604840Z",
     "shell.execute_reply": "2024-11-04T16:41:29.603885Z"
    },
    "papermill": {
     "duration": 0.104555,
     "end_time": "2024-11-04T16:41:29.606951",
     "exception": false,
     "start_time": "2024-11-04T16:41:29.502396",
     "status": "completed"
    },
    "tags": []
   },
   "outputs": [
    {
     "data": {
      "text/plain": [
       "id                                           0\n",
       "Name                                         0\n",
       "Gender                                       0\n",
       "Age                                          0\n",
       "City                                         0\n",
       "Working Professional or Student              0\n",
       "Profession                               24632\n",
       "Academic Pressure                        75033\n",
       "Work Pressure                            18778\n",
       "CGPA                                     75034\n",
       "Study Satisfaction                       75033\n",
       "Job Satisfaction                         18774\n",
       "Sleep Duration                               0\n",
       "Dietary Habits                               5\n",
       "Degree                                       2\n",
       "Have you ever had suicidal thoughts ?        0\n",
       "Work/Study Hours                             0\n",
       "Financial Stress                             0\n",
       "Family History of Mental Illness             0\n",
       "dtype: int64"
      ]
     },
     "execution_count": 9,
     "metadata": {},
     "output_type": "execute_result"
    }
   ],
   "source": [
    "test.isnull().sum()"
   ]
  },
  {
   "cell_type": "code",
   "execution_count": 10,
   "id": "af63a6ce",
   "metadata": {
    "execution": {
     "iopub.execute_input": "2024-11-04T16:41:29.630220Z",
     "iopub.status.busy": "2024-11-04T16:41:29.629953Z",
     "iopub.status.idle": "2024-11-04T16:41:29.646763Z",
     "shell.execute_reply": "2024-11-04T16:41:29.646075Z"
    },
    "papermill": {
     "duration": 0.030404,
     "end_time": "2024-11-04T16:41:29.648707",
     "exception": false,
     "start_time": "2024-11-04T16:41:29.618303",
     "status": "completed"
    },
    "tags": []
   },
   "outputs": [],
   "source": [
    "num_columns = train.select_dtypes(include=['float64','int64']).columns\n",
    "cat_columns = train.select_dtypes(include=['object']).columns"
   ]
  },
  {
   "cell_type": "code",
   "execution_count": 11,
   "id": "9991edaa",
   "metadata": {
    "execution": {
     "iopub.execute_input": "2024-11-04T16:41:29.671732Z",
     "iopub.status.busy": "2024-11-04T16:41:29.671467Z",
     "iopub.status.idle": "2024-11-04T16:41:29.683163Z",
     "shell.execute_reply": "2024-11-04T16:41:29.682357Z"
    },
    "papermill": {
     "duration": 0.025525,
     "end_time": "2024-11-04T16:41:29.685191",
     "exception": false,
     "start_time": "2024-11-04T16:41:29.659666",
     "status": "completed"
    },
    "tags": []
   },
   "outputs": [
    {
     "data": {
      "text/plain": [
       "id                         0\n",
       "Age                        0\n",
       "Academic Pressure     112803\n",
       "Work Pressure          27918\n",
       "CGPA                  112802\n",
       "Study Satisfaction    112803\n",
       "Job Satisfaction       27910\n",
       "Work/Study Hours           0\n",
       "Financial Stress           4\n",
       "Depression                 0\n",
       "dtype: int64"
      ]
     },
     "execution_count": 11,
     "metadata": {},
     "output_type": "execute_result"
    }
   ],
   "source": [
    "train[num_columns].isnull().sum()"
   ]
  },
  {
   "cell_type": "code",
   "execution_count": 12,
   "id": "9d0aebec",
   "metadata": {
    "execution": {
     "iopub.execute_input": "2024-11-04T16:41:29.708407Z",
     "iopub.status.busy": "2024-11-04T16:41:29.708129Z",
     "iopub.status.idle": "2024-11-04T16:41:30.087914Z",
     "shell.execute_reply": "2024-11-04T16:41:30.087054Z"
    },
    "papermill": {
     "duration": 0.394355,
     "end_time": "2024-11-04T16:41:30.090717",
     "exception": false,
     "start_time": "2024-11-04T16:41:29.696362",
     "status": "completed"
    },
    "tags": []
   },
   "outputs": [
    {
     "data": {
      "image/png": "[encoded data removed]",
      "text/plain": [
       "<Figure size 640x480 with 1 Axes>"
      ]
     },
     "metadata": {},
     "output_type": "display_data"
    }
   ],
   "source": [
    "plt.hist(train[train['Depression'] == 0]['Work Pressure'], bins=20,  label='No Depression', color='grey',alpha=.5)\n",
    "plt.hist(train[train['Depression'] == 1]['Work Pressure'], bins=20,  label='Depression', color='red',alpha=.5)\n",
    "plt.xlabel('Work Pressure')\n",
    "plt.ylabel('Frequency')\n",
    "plt.title('Distribution of Work Pressure by Depression Status')\n",
    "plt.legend()\n",
    "plt.show()\n"
   ]
  },
  {
   "cell_type": "code",
   "execution_count": 13,
   "id": "8a4d9833",
   "metadata": {
    "execution": {
     "iopub.execute_input": "2024-11-04T16:41:30.117748Z",
     "iopub.status.busy": "2024-11-04T16:41:30.117345Z",
     "iopub.status.idle": "2024-11-04T16:41:30.555674Z",
     "shell.execute_reply": "2024-11-04T16:41:30.554760Z"
    },
    "papermill": {
     "duration": 0.453551,
     "end_time": "2024-11-04T16:41:30.558371",
     "exception": false,
     "start_time": "2024-11-04T16:41:30.104820",
     "status": "completed"
    },
    "tags": []
   },
   "outputs": [
    {
     "data": {
      "image/png": "[encoded data removed]",
      "text/plain": [
       "<Figure size 640x480 with 1 Axes>"
      ]
     },
     "metadata": {},
     "output_type": "display_data"
    }
   ],
   "source": [
    "plt.hist(train[train['Depression']==0]['Academic Pressure'],bins=20,label='No Depression',color='grey',alpha=.5)\n",
    "plt.hist(train[train['Depression']==1]['Academic Pressure'],bins=20,label='Depression',color='red',alpha=.5)\n",
    "\n",
    "plt.xlabel('Academic Pressure')\n",
    "plt.ylabel('Frequency')\n",
    "plt.title('Distribution of Academic Pressure by Depression Status')\n",
    "plt.legend()\n",
    "plt.show()"
   ]
  },
  {
   "cell_type": "code",
   "execution_count": 14,
   "id": "fade78bf",
   "metadata": {
    "execution": {
     "iopub.execute_input": "2024-11-04T16:41:30.589885Z",
     "iopub.status.busy": "2024-11-04T16:41:30.589032Z",
     "iopub.status.idle": "2024-11-04T16:41:31.003775Z",
     "shell.execute_reply": "2024-11-04T16:41:31.002818Z"
    },
    "papermill": {
     "duration": 0.43104,
     "end_time": "2024-11-04T16:41:31.006000",
     "exception": false,
     "start_time": "2024-11-04T16:41:30.574960",
     "status": "completed"
    },
    "tags": []
   },
   "outputs": [
    {
     "data": {
      "image/png": "[encoded data removed]",
      "text/plain": [
       "<Figure size 640x480 with 1 Axes>"
      ]
     },
     "metadata": {},
     "output_type": "display_data"
    }
   ],
   "source": [
    "plt.hist(train[train['Depression']==0]['Job Satisfaction'],bins=20,label='No Depression',color='grey',alpha=.5)\n",
    "plt.hist(train[train['Depression']==1]['Job Satisfaction'],bins=20,label='Depression',color='red',alpha=.5)\n",
    "\n",
    "plt.xlabel('Job Satisfaction')\n",
    "plt.ylabel('Frequency')\n",
    "plt.title('Distribution of Job Satisfaction by Depression Status')\n",
    "plt.legend()\n",
    "plt.show()"
   ]
  },
  {
   "cell_type": "code",
   "execution_count": 15,
   "id": "edabef43",
   "metadata": {
    "execution": {
     "iopub.execute_input": "2024-11-04T16:41:31.035082Z",
     "iopub.status.busy": "2024-11-04T16:41:31.034753Z",
     "iopub.status.idle": "2024-11-04T16:41:31.467318Z",
     "shell.execute_reply": "2024-11-04T16:41:31.466349Z"
    },
    "papermill": {
     "duration": 0.449651,
     "end_time": "2024-11-04T16:41:31.469806",
     "exception": false,
     "start_time": "2024-11-04T16:41:31.020155",
     "status": "completed"
    },
    "tags": []
   },
   "outputs": [
    {
     "data": {
      "image/png": "[encoded data removed]",
      "text/plain": [
       "<Figure size 640x480 with 1 Axes>"
      ]
     },
     "metadata": {},
     "output_type": "display_data"
    }
   ],
   "source": [
    "\n",
    "plt.hist(train[train['Depression']==0]['Study Satisfaction'],bins=20,label='No Depression',color='grey',alpha=.5)\n",
    "plt.hist(train[train['Depression']==1]['Study Satisfaction'],bins=20,label='Depression',color='red',alpha=.5)\n",
    "\n",
    "plt.xlabel('Study Satisfaction')\n",
    "plt.ylabel('Frequency')\n",
    "plt.title('Distribution of Study Satisfaction by Depression Status')\n",
    "plt.legend()\n",
    "plt.show()"
   ]
  },
  {
   "cell_type": "code",
   "execution_count": 16,
   "id": "b61a6d68",
   "metadata": {
    "execution": {
     "iopub.execute_input": "2024-11-04T16:41:31.498710Z",
     "iopub.status.busy": "2024-11-04T16:41:31.498335Z",
     "iopub.status.idle": "2024-11-04T16:41:31.897810Z",
     "shell.execute_reply": "2024-11-04T16:41:31.896931Z"
    },
    "papermill": {
     "duration": 0.41659,
     "end_time": "2024-11-04T16:41:31.900225",
     "exception": false,
     "start_time": "2024-11-04T16:41:31.483635",
     "status": "completed"
    },
    "tags": []
   },
   "outputs": [
    {
     "data": {
      "image/png": "[encoded data removed]",
      "text/plain": [
       "<Figure size 640x480 with 1 Axes>"
      ]
     },
     "metadata": {},
     "output_type": "display_data"
    }
   ],
   "source": [
    "plt.hist(train[train['Depression']==0]['CGPA'],bins=20,label='No Depression',color='black',alpha=.5)\n",
    "plt.hist(train[train['Depression']==1]['CGPA'],bins=20,label='Depression',color='red',alpha=.5)\n",
    "\n",
    "plt.xlabel('CGPA')\n",
    "plt.ylabel('Frequency')\n",
    "plt.title('Distribution of CGPA by Depression Status')\n",
    "plt.legend()\n",
    "plt.show()"
   ]
  },
  {
   "cell_type": "code",
   "execution_count": 17,
   "id": "5904ecc7",
   "metadata": {
    "execution": {
     "iopub.execute_input": "2024-11-04T16:41:31.930383Z",
     "iopub.status.busy": "2024-11-04T16:41:31.929631Z",
     "iopub.status.idle": "2024-11-04T16:41:31.935001Z",
     "shell.execute_reply": "2024-11-04T16:41:31.934321Z"
    },
    "papermill": {
     "duration": 0.022057,
     "end_time": "2024-11-04T16:41:31.936818",
     "exception": false,
     "start_time": "2024-11-04T16:41:31.914761",
     "status": "completed"
    },
    "tags": []
   },
   "outputs": [],
   "source": [
    "def fillna_num (df):\n",
    "    columns = ['Academic Pressure', 'Work Pressure', 'CGPA', 'Study Satisfaction', 'Job Satisfaction']\n",
    "    \n",
    "    for column in columns:\n",
    "        if column=='CGPA':\n",
    "                 df[column] = df[column].fillna(-1)\n",
    "        else:\n",
    "                df[column] = df[column].fillna(0)\n",
    "    \n",
    "    return df\n"
   ]
  },
  {
   "cell_type": "code",
   "execution_count": 18,
   "id": "6f800492",
   "metadata": {
    "execution": {
     "iopub.execute_input": "2024-11-04T16:41:31.966808Z",
     "iopub.status.busy": "2024-11-04T16:41:31.966532Z",
     "iopub.status.idle": "2024-11-04T16:41:31.981405Z",
     "shell.execute_reply": "2024-11-04T16:41:31.980475Z"
    },
    "papermill": {
     "duration": 0.032646,
     "end_time": "2024-11-04T16:41:31.983517",
     "exception": false,
     "start_time": "2024-11-04T16:41:31.950871",
     "status": "completed"
    },
    "tags": []
   },
   "outputs": [],
   "source": [
    "train = fillna_num(train)\n",
    "test = fillna_num(test)"
   ]
  },
  {
   "cell_type": "code",
   "execution_count": 19,
   "id": "029feac9",
   "metadata": {
    "execution": {
     "iopub.execute_input": "2024-11-04T16:41:32.013399Z",
     "iopub.status.busy": "2024-11-04T16:41:32.013095Z",
     "iopub.status.idle": "2024-11-04T16:41:32.023197Z",
     "shell.execute_reply": "2024-11-04T16:41:32.022219Z"
    },
    "papermill": {
     "duration": 0.02733,
     "end_time": "2024-11-04T16:41:32.025260",
     "exception": false,
     "start_time": "2024-11-04T16:41:31.997930",
     "status": "completed"
    },
    "tags": []
   },
   "outputs": [],
   "source": [
    "train['pressure']=train['Work Pressure']+train['Academic Pressure']*5\n",
    "test['pressure']=test['Work Pressure']+test['Academic Pressure']*5\n",
    "\n",
    "train['satisfaction']=train['Study Satisfaction']+train['Job Satisfaction']*7\n",
    "test['satisfaction']=test['Study Satisfaction']+test['Job Satisfaction']*7"
   ]
  },
  {
   "cell_type": "code",
   "execution_count": 20,
   "id": "0d17796d",
   "metadata": {
    "execution": {
     "iopub.execute_input": "2024-11-04T16:41:32.055344Z",
     "iopub.status.busy": "2024-11-04T16:41:32.055055Z",
     "iopub.status.idle": "2024-11-04T16:41:32.093967Z",
     "shell.execute_reply": "2024-11-04T16:41:32.093047Z"
    },
    "papermill": {
     "duration": 0.056453,
     "end_time": "2024-11-04T16:41:32.096288",
     "exception": false,
     "start_time": "2024-11-04T16:41:32.039835",
     "status": "completed"
    },
    "tags": []
   },
   "outputs": [],
   "source": [
    "train = train.drop(columns=['Work Pressure', 'Academic Pressure','CGPA','Study Satisfaction','Job Satisfaction'])\n",
    "test = test.drop(columns=['Work Pressure', 'Academic Pressure','CGPA','Job Satisfaction','Study Satisfaction'])"
   ]
  },
  {
   "cell_type": "code",
   "execution_count": null,
   "id": "4021b956",
   "metadata": {
    "papermill": {
     "duration": 0.013974,
     "end_time": "2024-11-04T16:41:32.124839",
     "exception": false,
     "start_time": "2024-11-04T16:41:32.110865",
     "status": "completed"
    },
    "tags": []
   },
   "outputs": [],
   "source": []
  },
  {
   "cell_type": "code",
   "execution_count": 21,
   "id": "81ae4dab",
   "metadata": {
    "execution": {
     "iopub.execute_input": "2024-11-04T16:41:32.155165Z",
     "iopub.status.busy": "2024-11-04T16:41:32.154826Z",
     "iopub.status.idle": "2024-11-04T16:41:32.167491Z",
     "shell.execute_reply": "2024-11-04T16:41:32.166332Z"
    },
    "papermill": {
     "duration": 0.031042,
     "end_time": "2024-11-04T16:41:32.170103",
     "exception": false,
     "start_time": "2024-11-04T16:41:32.139061",
     "status": "completed"
    },
    "tags": []
   },
   "outputs": [
    {
     "data": {
      "text/plain": [
       "Financial Stress\n",
       "2.0    31451\n",
       "5.0    28279\n",
       "4.0    27765\n",
       "1.0    27211\n",
       "3.0    25990\n",
       "Name: count, dtype: int64"
      ]
     },
     "execution_count": 21,
     "metadata": {},
     "output_type": "execute_result"
    }
   ],
   "source": [
    "train['Financial Stress'].value_counts()\n"
   ]
  },
  {
   "cell_type": "code",
   "execution_count": 22,
   "id": "2e68e157",
   "metadata": {
    "execution": {
     "iopub.execute_input": "2024-11-04T16:41:32.200450Z",
     "iopub.status.busy": "2024-11-04T16:41:32.200057Z",
     "iopub.status.idle": "2024-11-04T16:41:32.206377Z",
     "shell.execute_reply": "2024-11-04T16:41:32.205545Z"
    },
    "papermill": {
     "duration": 0.02361,
     "end_time": "2024-11-04T16:41:32.208240",
     "exception": false,
     "start_time": "2024-11-04T16:41:32.184630",
     "status": "completed"
    },
    "tags": []
   },
   "outputs": [
    {
     "data": {
      "text/plain": [
       "4"
      ]
     },
     "execution_count": 22,
     "metadata": {},
     "output_type": "execute_result"
    }
   ],
   "source": [
    "train['Financial Stress'].isnull().sum()"
   ]
  },
  {
   "cell_type": "code",
   "execution_count": 23,
   "id": "02981ee5",
   "metadata": {
    "execution": {
     "iopub.execute_input": "2024-11-04T16:41:32.238332Z",
     "iopub.status.busy": "2024-11-04T16:41:32.238039Z",
     "iopub.status.idle": "2024-11-04T16:41:32.250985Z",
     "shell.execute_reply": "2024-11-04T16:41:32.250258Z"
    },
    "papermill": {
     "duration": 0.030109,
     "end_time": "2024-11-04T16:41:32.252852",
     "exception": false,
     "start_time": "2024-11-04T16:41:32.222743",
     "status": "completed"
    },
    "tags": []
   },
   "outputs": [],
   "source": [
    "train['Financial Stress'] = train['Financial Stress'].fillna(float(train['Financial Stress'].median()))\n",
    "test['Financial Stress'] = test['Financial Stress'].fillna(float(test['Financial Stress'].median()))"
   ]
  },
  {
   "cell_type": "code",
   "execution_count": 24,
   "id": "fa260cd5",
   "metadata": {
    "execution": {
     "iopub.execute_input": "2024-11-04T16:41:32.283754Z",
     "iopub.status.busy": "2024-11-04T16:41:32.283450Z",
     "iopub.status.idle": "2024-11-04T16:41:32.301141Z",
     "shell.execute_reply": "2024-11-04T16:41:32.300438Z"
    },
    "papermill": {
     "duration": 0.035131,
     "end_time": "2024-11-04T16:41:32.303111",
     "exception": false,
     "start_time": "2024-11-04T16:41:32.267980",
     "status": "completed"
    },
    "tags": []
   },
   "outputs": [],
   "source": [
    "num_columns = train.select_dtypes(include=['float64','int64']).columns\n",
    "cat_columns = train.select_dtypes(include=['object']).columns"
   ]
  },
  {
   "cell_type": "code",
   "execution_count": 25,
   "id": "ad8a74ff",
   "metadata": {
    "execution": {
     "iopub.execute_input": "2024-11-04T16:41:32.334557Z",
     "iopub.status.busy": "2024-11-04T16:41:32.333933Z",
     "iopub.status.idle": "2024-11-04T16:41:32.346138Z",
     "shell.execute_reply": "2024-11-04T16:41:32.345249Z"
    },
    "papermill": {
     "duration": 0.029955,
     "end_time": "2024-11-04T16:41:32.348194",
     "exception": false,
     "start_time": "2024-11-04T16:41:32.318239",
     "status": "completed"
    },
    "tags": []
   },
   "outputs": [
    {
     "data": {
      "text/plain": [
       "id                  0\n",
       "Age                 0\n",
       "Work/Study Hours    0\n",
       "Financial Stress    0\n",
       "Depression          0\n",
       "pressure            0\n",
       "satisfaction        0\n",
       "dtype: int64"
      ]
     },
     "execution_count": 25,
     "metadata": {},
     "output_type": "execute_result"
    }
   ],
   "source": [
    "train[num_columns].isnull().sum()"
   ]
  },
  {
   "cell_type": "code",
   "execution_count": 26,
   "id": "d6386489",
   "metadata": {
    "execution": {
     "iopub.execute_input": "2024-11-04T16:41:32.380704Z",
     "iopub.status.busy": "2024-11-04T16:41:32.380389Z",
     "iopub.status.idle": "2024-11-04T16:41:32.443604Z",
     "shell.execute_reply": "2024-11-04T16:41:32.442608Z"
    },
    "papermill": {
     "duration": 0.08156,
     "end_time": "2024-11-04T16:41:32.445655",
     "exception": false,
     "start_time": "2024-11-04T16:41:32.364095",
     "status": "completed"
    },
    "tags": []
   },
   "outputs": [
    {
     "data": {
      "text/html": [
       "<div>\n",
       "<style scoped>\n",
       "    .dataframe tbody tr th:only-of-type {\n",
       "        vertical-align: middle;\n",
       "    }\n",
       "\n",
       "    .dataframe tbody tr th {\n",
       "        vertical-align: top;\n",
       "    }\n",
       "\n",
       "    .dataframe thead th {\n",
       "        text-align: right;\n",
       "    }\n",
       "</style>\n",
       "<table border=\"1\" class=\"dataframe\">\n",
       "  <thead>\n",
       "    <tr style=\"text-align: right;\">\n",
       "      <th></th>\n",
       "      <th>id</th>\n",
       "      <th>Age</th>\n",
       "      <th>Work/Study Hours</th>\n",
       "      <th>Financial Stress</th>\n",
       "      <th>Depression</th>\n",
       "      <th>pressure</th>\n",
       "      <th>satisfaction</th>\n",
       "    </tr>\n",
       "  </thead>\n",
       "  <tbody>\n",
       "    <tr>\n",
       "      <th>count</th>\n",
       "      <td>140700.000000</td>\n",
       "      <td>140700.000000</td>\n",
       "      <td>140700.000000</td>\n",
       "      <td>140700.000000</td>\n",
       "      <td>140700.000000</td>\n",
       "      <td>140700.000000</td>\n",
       "      <td>140700.000000</td>\n",
       "    </tr>\n",
       "    <tr>\n",
       "      <th>mean</th>\n",
       "      <td>70349.500000</td>\n",
       "      <td>40.388621</td>\n",
       "      <td>6.252679</td>\n",
       "      <td>2.988984</td>\n",
       "      <td>0.181713</td>\n",
       "      <td>5.519069</td>\n",
       "      <td>17.274598</td>\n",
       "    </tr>\n",
       "    <tr>\n",
       "      <th>std</th>\n",
       "      <td>40616.735775</td>\n",
       "      <td>12.384099</td>\n",
       "      <td>3.853615</td>\n",
       "      <td>1.413613</td>\n",
       "      <td>0.385609</td>\n",
       "      <td>6.059897</td>\n",
       "      <td>11.399925</td>\n",
       "    </tr>\n",
       "    <tr>\n",
       "      <th>min</th>\n",
       "      <td>0.000000</td>\n",
       "      <td>18.000000</td>\n",
       "      <td>0.000000</td>\n",
       "      <td>1.000000</td>\n",
       "      <td>0.000000</td>\n",
       "      <td>0.000000</td>\n",
       "      <td>0.000000</td>\n",
       "    </tr>\n",
       "    <tr>\n",
       "      <th>25%</th>\n",
       "      <td>35174.750000</td>\n",
       "      <td>29.000000</td>\n",
       "      <td>3.000000</td>\n",
       "      <td>2.000000</td>\n",
       "      <td>0.000000</td>\n",
       "      <td>2.000000</td>\n",
       "      <td>7.000000</td>\n",
       "    </tr>\n",
       "    <tr>\n",
       "      <th>50%</th>\n",
       "      <td>70349.500000</td>\n",
       "      <td>42.000000</td>\n",
       "      <td>6.000000</td>\n",
       "      <td>3.000000</td>\n",
       "      <td>0.000000</td>\n",
       "      <td>4.000000</td>\n",
       "      <td>14.000000</td>\n",
       "    </tr>\n",
       "    <tr>\n",
       "      <th>75%</th>\n",
       "      <td>105524.250000</td>\n",
       "      <td>51.000000</td>\n",
       "      <td>10.000000</td>\n",
       "      <td>4.000000</td>\n",
       "      <td>0.000000</td>\n",
       "      <td>5.000000</td>\n",
       "      <td>28.000000</td>\n",
       "    </tr>\n",
       "    <tr>\n",
       "      <th>max</th>\n",
       "      <td>140699.000000</td>\n",
       "      <td>60.000000</td>\n",
       "      <td>12.000000</td>\n",
       "      <td>5.000000</td>\n",
       "      <td>1.000000</td>\n",
       "      <td>25.000000</td>\n",
       "      <td>35.000000</td>\n",
       "    </tr>\n",
       "  </tbody>\n",
       "</table>\n",
       "</div>"
      ],
      "text/plain": [
       "                  id            Age  Work/Study Hours  Financial Stress  \\\n",
       "count  140700.000000  140700.000000     140700.000000     140700.000000   \n",
       "mean    70349.500000      40.388621          6.252679          2.988984   \n",
       "std     40616.735775      12.384099          3.853615          1.413613   \n",
       "min         0.000000      18.000000          0.000000          1.000000   \n",
       "25%     35174.750000      29.000000          3.000000          2.000000   \n",
       "50%     70349.500000      42.000000          6.000000          3.000000   \n",
       "75%    105524.250000      51.000000         10.000000          4.000000   \n",
       "max    140699.000000      60.000000         12.000000          5.000000   \n",
       "\n",
       "          Depression       pressure   satisfaction  \n",
       "count  140700.000000  140700.000000  140700.000000  \n",
       "mean        0.181713       5.519069      17.274598  \n",
       "std         0.385609       6.059897      11.399925  \n",
       "min         0.000000       0.000000       0.000000  \n",
       "25%         0.000000       2.000000       7.000000  \n",
       "50%         0.000000       4.000000      14.000000  \n",
       "75%         0.000000       5.000000      28.000000  \n",
       "max         1.000000      25.000000      35.000000  "
      ]
     },
     "execution_count": 26,
     "metadata": {},
     "output_type": "execute_result"
    }
   ],
   "source": [
    "train[num_columns].describe()"
   ]
  },
  {
   "cell_type": "code",
   "execution_count": 27,
   "id": "9082ce1a",
   "metadata": {
    "execution": {
     "iopub.execute_input": "2024-11-04T16:41:32.477582Z",
     "iopub.status.busy": "2024-11-04T16:41:32.477244Z",
     "iopub.status.idle": "2024-11-04T16:41:32.577657Z",
     "shell.execute_reply": "2024-11-04T16:41:32.576753Z"
    },
    "papermill": {
     "duration": 0.11866,
     "end_time": "2024-11-04T16:41:32.579836",
     "exception": false,
     "start_time": "2024-11-04T16:41:32.461176",
     "status": "completed"
    },
    "tags": []
   },
   "outputs": [
    {
     "data": {
      "text/plain": [
       "Name                                         0\n",
       "Gender                                       0\n",
       "City                                         0\n",
       "Working Professional or Student              0\n",
       "Profession                               24632\n",
       "Sleep Duration                               0\n",
       "Dietary Habits                               5\n",
       "Degree                                       2\n",
       "Have you ever had suicidal thoughts ?        0\n",
       "Family History of Mental Illness             0\n",
       "dtype: int64"
      ]
     },
     "execution_count": 27,
     "metadata": {},
     "output_type": "execute_result"
    }
   ],
   "source": [
    "test[cat_columns].isnull().sum()"
   ]
  },
  {
   "cell_type": "code",
   "execution_count": 28,
   "id": "aef1db0a",
   "metadata": {
    "execution": {
     "iopub.execute_input": "2024-11-04T16:41:32.613143Z",
     "iopub.status.busy": "2024-11-04T16:41:32.612808Z",
     "iopub.status.idle": "2024-11-04T16:41:32.617473Z",
     "shell.execute_reply": "2024-11-04T16:41:32.616601Z"
    },
    "papermill": {
     "duration": 0.023067,
     "end_time": "2024-11-04T16:41:32.619405",
     "exception": false,
     "start_time": "2024-11-04T16:41:32.596338",
     "status": "completed"
    },
    "tags": []
   },
   "outputs": [],
   "source": [
    "def fillna_cat(df):\n",
    "    columns = ['Profession', 'Dietary Habits', 'Degree']\n",
    "    for column in columns:\n",
    "        df[column].fillna('other', inplace=True)\n",
    "    return df"
   ]
  },
  {
   "cell_type": "code",
   "execution_count": 29,
   "id": "30d2bcda",
   "metadata": {
    "execution": {
     "iopub.execute_input": "2024-11-04T16:41:32.653576Z",
     "iopub.status.busy": "2024-11-04T16:41:32.653152Z",
     "iopub.status.idle": "2024-11-04T16:41:32.731884Z",
     "shell.execute_reply": "2024-11-04T16:41:32.730807Z"
    },
    "papermill": {
     "duration": 0.098632,
     "end_time": "2024-11-04T16:41:32.734063",
     "exception": false,
     "start_time": "2024-11-04T16:41:32.635431",
     "status": "completed"
    },
    "tags": []
   },
   "outputs": [
    {
     "name": "stderr",
     "output_type": "stream",
     "text": [
      "/tmp/ipykernel_23/616016265.py:4: FutureWarning: A value is trying to be set on a copy of a DataFrame or Series through chained assignment using an inplace method.\n",
      "The behavior will change in pandas 3.0. This inplace method will never work because the intermediate object on which we are setting values always behaves as a copy.\n",
      "\n",
      "For example, when doing 'df[col].method(value, inplace=True)', try using 'df.method({col: value}, inplace=True)' or df[col] = df[col].method(value) instead, to perform the operation inplace on the original object.\n",
      "\n",
      "\n",
      "  df[column].fillna('other', inplace=True)\n"
     ]
    }
   ],
   "source": [
    "train = fillna_cat(train)\n",
    "test = fillna_cat(test)"
   ]
  },
  {
   "cell_type": "code",
   "execution_count": 30,
   "id": "4deef1f6",
   "metadata": {
    "execution": {
     "iopub.execute_input": "2024-11-04T16:41:32.767865Z",
     "iopub.status.busy": "2024-11-04T16:41:32.767010Z",
     "iopub.status.idle": "2024-11-04T16:41:32.905220Z",
     "shell.execute_reply": "2024-11-04T16:41:32.904198Z"
    },
    "papermill": {
     "duration": 0.157412,
     "end_time": "2024-11-04T16:41:32.907559",
     "exception": false,
     "start_time": "2024-11-04T16:41:32.750147",
     "status": "completed"
    },
    "tags": []
   },
   "outputs": [
    {
     "name": "stdout",
     "output_type": "stream",
     "text": [
      "<class 'pandas.core.frame.DataFrame'>\n",
      "RangeIndex: 140700 entries, 0 to 140699\n",
      "Data columns (total 17 columns):\n",
      " #   Column                                 Non-Null Count   Dtype  \n",
      "---  ------                                 --------------   -----  \n",
      " 0   id                                     140700 non-null  int64  \n",
      " 1   Name                                   140700 non-null  object \n",
      " 2   Gender                                 140700 non-null  object \n",
      " 3   Age                                    140700 non-null  float64\n",
      " 4   City                                   140700 non-null  object \n",
      " 5   Working Professional or Student        140700 non-null  object \n",
      " 6   Profession                             140700 non-null  object \n",
      " 7   Sleep Duration                         140700 non-null  object \n",
      " 8   Dietary Habits                         140700 non-null  object \n",
      " 9   Degree                                 140700 non-null  object \n",
      " 10  Have you ever had suicidal thoughts ?  140700 non-null  object \n",
      " 11  Work/Study Hours                       140700 non-null  float64\n",
      " 12  Financial Stress                       140700 non-null  float64\n",
      " 13  Family History of Mental Illness       140700 non-null  object \n",
      " 14  Depression                             140700 non-null  int64  \n",
      " 15  pressure                               140700 non-null  float64\n",
      " 16  satisfaction                           140700 non-null  float64\n",
      "dtypes: float64(5), int64(2), object(10)\n",
      "memory usage: 18.2+ MB\n"
     ]
    }
   ],
   "source": [
    "train.info()"
   ]
  },
  {
   "cell_type": "code",
   "execution_count": 31,
   "id": "2568ab75",
   "metadata": {
    "execution": {
     "iopub.execute_input": "2024-11-04T16:41:32.942862Z",
     "iopub.status.busy": "2024-11-04T16:41:32.942532Z",
     "iopub.status.idle": "2024-11-04T16:41:32.948105Z",
     "shell.execute_reply": "2024-11-04T16:41:32.947278Z"
    },
    "papermill": {
     "duration": 0.024595,
     "end_time": "2024-11-04T16:41:32.950046",
     "exception": false,
     "start_time": "2024-11-04T16:41:32.925451",
     "status": "completed"
    },
    "tags": []
   },
   "outputs": [],
   "source": [
    "def fill_less_frequent_value(df):\n",
    "    columns = ['Profession', 'Sleep Duration', 'Dietary Habits', 'Degree']\n",
    "    for column in columns:\n",
    "        count = df[column].value_counts()\n",
    "        less_freq = count[count<20].index\n",
    "        df[column] = df[column].apply(lambda x: 'other' if x in less_freq else x)\n",
    "    return df"
   ]
  },
  {
   "cell_type": "code",
   "execution_count": 32,
   "id": "b20ea6b0",
   "metadata": {
    "execution": {
     "iopub.execute_input": "2024-11-04T16:41:32.985858Z",
     "iopub.status.busy": "2024-11-04T16:41:32.985536Z",
     "iopub.status.idle": "2024-11-04T16:41:35.195661Z",
     "shell.execute_reply": "2024-11-04T16:41:35.194489Z"
    },
    "papermill": {
     "duration": 2.231041,
     "end_time": "2024-11-04T16:41:35.198412",
     "exception": false,
     "start_time": "2024-11-04T16:41:32.967371",
     "status": "completed"
    },
    "tags": []
   },
   "outputs": [],
   "source": [
    "train = fill_less_frequent_value(train)\n",
    "test = fill_less_frequent_value(test)"
   ]
  },
  {
   "cell_type": "code",
   "execution_count": 33,
   "id": "a1431f27",
   "metadata": {
    "execution": {
     "iopub.execute_input": "2024-11-04T16:41:35.233921Z",
     "iopub.status.busy": "2024-11-04T16:41:35.233581Z",
     "iopub.status.idle": "2024-11-04T16:41:35.386555Z",
     "shell.execute_reply": "2024-11-04T16:41:35.385614Z"
    },
    "papermill": {
     "duration": 0.17267,
     "end_time": "2024-11-04T16:41:35.388888",
     "exception": false,
     "start_time": "2024-11-04T16:41:35.216218",
     "status": "completed"
    },
    "tags": []
   },
   "outputs": [
    {
     "data": {
      "text/plain": [
       "Name                                     0\n",
       "Gender                                   0\n",
       "City                                     0\n",
       "Working Professional or Student          0\n",
       "Profession                               0\n",
       "Sleep Duration                           0\n",
       "Dietary Habits                           0\n",
       "Degree                                   0\n",
       "Have you ever had suicidal thoughts ?    0\n",
       "Family History of Mental Illness         0\n",
       "dtype: int64"
      ]
     },
     "execution_count": 33,
     "metadata": {},
     "output_type": "execute_result"
    }
   ],
   "source": [
    "train[cat_columns].isnull().sum()"
   ]
  },
  {
   "cell_type": "code",
   "execution_count": 34,
   "id": "dba366ea",
   "metadata": {
    "execution": {
     "iopub.execute_input": "2024-11-04T16:41:35.425558Z",
     "iopub.status.busy": "2024-11-04T16:41:35.425181Z",
     "iopub.status.idle": "2024-11-04T16:41:36.778407Z",
     "shell.execute_reply": "2024-11-04T16:41:36.777462Z"
    },
    "papermill": {
     "duration": 1.373666,
     "end_time": "2024-11-04T16:41:36.780464",
     "exception": false,
     "start_time": "2024-11-04T16:41:35.406798",
     "status": "completed"
    },
    "tags": []
   },
   "outputs": [
    {
     "data": {
      "text/plain": [
       "\"train_encoded = encoder.fit_transform(train[['Sleep Duration']])\\ntest_encoded = encoder.transform(test[['Sleep Duration']])\\n\\n\\ntrain_encoded_df = pd.DataFrame(train_encoded, columns=encoder.get_feature_names_out(['Sleep Duration']))\\ntest_encoded_df = pd.DataFrame(test_encoded, columns=encoder.get_feature_names_out(['Sleep Duration']))\\n\\n\\ntrain = pd.concat([train.drop(columns=['Sleep Duration']), train_encoded_df], axis=1)\\ntest = pd.concat([test.drop(columns=['Sleep Duration']), test_encoded_df], axis=1)\""
      ]
     },
     "execution_count": 34,
     "metadata": {},
     "output_type": "execute_result"
    }
   ],
   "source": [
    "from sklearn.preprocessing import OneHotEncoder\n",
    "\n",
    "\n",
    "encoder = OneHotEncoder(drop='first', sparse=False)  \n",
    "\n",
    "\n",
    "'''train_encoded = encoder.fit_transform(train[['Sleep Duration']])\n",
    "test_encoded = encoder.transform(test[['Sleep Duration']])\n",
    "\n",
    "\n",
    "train_encoded_df = pd.DataFrame(train_encoded, columns=encoder.get_feature_names_out(['Sleep Duration']))\n",
    "test_encoded_df = pd.DataFrame(test_encoded, columns=encoder.get_feature_names_out(['Sleep Duration']))\n",
    "\n",
    "\n",
    "train = pd.concat([train.drop(columns=['Sleep Duration']), train_encoded_df], axis=1)\n",
    "test = pd.concat([test.drop(columns=['Sleep Duration']), test_encoded_df], axis=1)'''\n"
   ]
  },
  {
   "cell_type": "code",
   "execution_count": 35,
   "id": "894456d9",
   "metadata": {
    "execution": {
     "iopub.execute_input": "2024-11-04T16:41:36.815511Z",
     "iopub.status.busy": "2024-11-04T16:41:36.815041Z",
     "iopub.status.idle": "2024-11-04T16:41:37.047948Z",
     "shell.execute_reply": "2024-11-04T16:41:37.047159Z"
    },
    "papermill": {
     "duration": 0.252643,
     "end_time": "2024-11-04T16:41:37.050207",
     "exception": false,
     "start_time": "2024-11-04T16:41:36.797564",
     "status": "completed"
    },
    "tags": []
   },
   "outputs": [
    {
     "name": "stderr",
     "output_type": "stream",
     "text": [
      "/opt/conda/lib/python3.10/site-packages/sklearn/preprocessing/_encoders.py:868: FutureWarning: `sparse` was renamed to `sparse_output` in version 1.2 and will be removed in 1.4. `sparse_output` is ignored unless you leave `sparse` to its default value.\n",
      "  warnings.warn(\n"
     ]
    }
   ],
   "source": [
    "train_encoded = encoder.fit_transform(train[['Have you ever had suicidal thoughts ?']])\n",
    "test_encoded = encoder.transform(test[['Have you ever had suicidal thoughts ?']])\n",
    "\n",
    "\n",
    "train_encoded_df = pd.DataFrame(train_encoded, columns=encoder.get_feature_names_out(['Have you ever had suicidal thoughts ?']))\n",
    "test_encoded_df = pd.DataFrame(test_encoded, columns=encoder.get_feature_names_out(['Have you ever had suicidal thoughts ?']))\n",
    "\n",
    "\n",
    "train = pd.concat([train.drop(columns=['Have you ever had suicidal thoughts ?']), train_encoded_df], axis=1)\n",
    "test = pd.concat([test.drop(columns=['Have you ever had suicidal thoughts ?']), test_encoded_df], axis=1)"
   ]
  },
  {
   "cell_type": "code",
   "execution_count": 36,
   "id": "a578a34b",
   "metadata": {
    "execution": {
     "iopub.execute_input": "2024-11-04T16:41:37.085502Z",
     "iopub.status.busy": "2024-11-04T16:41:37.084889Z",
     "iopub.status.idle": "2024-11-04T16:41:37.242802Z",
     "shell.execute_reply": "2024-11-04T16:41:37.241847Z"
    },
    "papermill": {
     "duration": 0.177899,
     "end_time": "2024-11-04T16:41:37.245153",
     "exception": false,
     "start_time": "2024-11-04T16:41:37.067254",
     "status": "completed"
    },
    "tags": []
   },
   "outputs": [
    {
     "name": "stderr",
     "output_type": "stream",
     "text": [
      "/opt/conda/lib/python3.10/site-packages/sklearn/preprocessing/_encoders.py:868: FutureWarning: `sparse` was renamed to `sparse_output` in version 1.2 and will be removed in 1.4. `sparse_output` is ignored unless you leave `sparse` to its default value.\n",
      "  warnings.warn(\n"
     ]
    }
   ],
   "source": [
    "train_encoded = encoder.fit_transform(train[['Family History of Mental Illness']])\n",
    "test_encoded = encoder.transform(test[['Family History of Mental Illness']])\n",
    "\n",
    "\n",
    "train_encoded_df = pd.DataFrame(train_encoded, columns=encoder.get_feature_names_out(['Family History of Mental Illness']))\n",
    "test_encoded_df = pd.DataFrame(test_encoded, columns=encoder.get_feature_names_out(['Family History of Mental Illness']))\n",
    "\n",
    "\n",
    "train = pd.concat([train.drop(columns=['Family History of Mental Illness']), train_encoded_df], axis=1)\n",
    "test = pd.concat([test.drop(columns=['Family History of Mental Illness']), test_encoded_df], axis=1)"
   ]
  },
  {
   "cell_type": "code",
   "execution_count": 37,
   "id": "de20d95b",
   "metadata": {
    "execution": {
     "iopub.execute_input": "2024-11-04T16:41:37.284123Z",
     "iopub.status.busy": "2024-11-04T16:41:37.283138Z",
     "iopub.status.idle": "2024-11-04T16:41:37.288717Z",
     "shell.execute_reply": "2024-11-04T16:41:37.287885Z"
    },
    "papermill": {
     "duration": 0.026897,
     "end_time": "2024-11-04T16:41:37.290766",
     "exception": false,
     "start_time": "2024-11-04T16:41:37.263869",
     "status": "completed"
    },
    "tags": []
   },
   "outputs": [],
   "source": [
    "from sklearn.preprocessing import OrdinalEncoder\n",
    "\n",
    "def encoding(df):\n",
    "    cat_columns = df.select_dtypes(include='object').columns\n",
    "    \n",
    "    encoder = OrdinalEncoder()\n",
    "    df[cat_columns] = encoder.fit_transform(df[cat_columns].astype(str))\n",
    "    \n",
    "    return df"
   ]
  },
  {
   "cell_type": "code",
   "execution_count": 38,
   "id": "6f4ffc76",
   "metadata": {
    "execution": {
     "iopub.execute_input": "2024-11-04T16:41:37.326306Z",
     "iopub.status.busy": "2024-11-04T16:41:37.325988Z",
     "iopub.status.idle": "2024-11-04T16:41:37.331656Z",
     "shell.execute_reply": "2024-11-04T16:41:37.330748Z"
    },
    "papermill": {
     "duration": 0.025705,
     "end_time": "2024-11-04T16:41:37.333562",
     "exception": false,
     "start_time": "2024-11-04T16:41:37.307857",
     "status": "completed"
    },
    "tags": []
   },
   "outputs": [
    {
     "data": {
      "text/plain": [
       "'train = encoding(train)\\ntest = encoding(test)'"
      ]
     },
     "execution_count": 38,
     "metadata": {},
     "output_type": "execute_result"
    }
   ],
   "source": [
    "'''train = encoding(train)\n",
    "test = encoding(test)'''"
   ]
  },
  {
   "cell_type": "code",
   "execution_count": 39,
   "id": "1c2f98de",
   "metadata": {
    "execution": {
     "iopub.execute_input": "2024-11-04T16:41:37.369175Z",
     "iopub.status.busy": "2024-11-04T16:41:37.368860Z",
     "iopub.status.idle": "2024-11-04T16:41:37.389158Z",
     "shell.execute_reply": "2024-11-04T16:41:37.388277Z"
    },
    "papermill": {
     "duration": 0.040487,
     "end_time": "2024-11-04T16:41:37.391387",
     "exception": false,
     "start_time": "2024-11-04T16:41:37.350900",
     "status": "completed"
    },
    "tags": []
   },
   "outputs": [],
   "source": [
    "X = train.drop(['id', 'Name', 'City', 'Depression'], axis=1)\n",
    "X_test = test.drop(['id', 'Name', 'City'], axis=1)\n",
    "y = train['Depression']"
   ]
  },
  {
   "cell_type": "code",
   "execution_count": 40,
   "id": "c6c06990",
   "metadata": {
    "execution": {
     "iopub.execute_input": "2024-11-04T16:41:37.427339Z",
     "iopub.status.busy": "2024-11-04T16:41:37.426968Z",
     "iopub.status.idle": "2024-11-04T16:41:37.435815Z",
     "shell.execute_reply": "2024-11-04T16:41:37.434929Z"
    },
    "papermill": {
     "duration": 0.029043,
     "end_time": "2024-11-04T16:41:37.437786",
     "exception": false,
     "start_time": "2024-11-04T16:41:37.408743",
     "status": "completed"
    },
    "tags": []
   },
   "outputs": [],
   "source": [
    "cat_columns = X_test.select_dtypes(include='object').columns.tolist()"
   ]
  },
  {
   "cell_type": "code",
   "execution_count": 41,
   "id": "a1990908",
   "metadata": {
    "execution": {
     "iopub.execute_input": "2024-11-04T16:41:37.473091Z",
     "iopub.status.busy": "2024-11-04T16:41:37.472762Z",
     "iopub.status.idle": "2024-11-04T16:41:37.630902Z",
     "shell.execute_reply": "2024-11-04T16:41:37.629778Z"
    },
    "papermill": {
     "duration": 0.178402,
     "end_time": "2024-11-04T16:41:37.633275",
     "exception": false,
     "start_time": "2024-11-04T16:41:37.454873",
     "status": "completed"
    },
    "tags": []
   },
   "outputs": [],
   "source": [
    "from sklearn.model_selection import train_test_split\n",
    "\n",
    "X_train, X_val, y_train, y_val = train_test_split(\n",
    "    X,\n",
    "    y,\n",
    "    test_size=0.20,\n",
    "    random_state=1\n",
    ")"
   ]
  },
  {
   "cell_type": "code",
   "execution_count": 42,
   "id": "db5e5462",
   "metadata": {
    "execution": {
     "iopub.execute_input": "2024-11-04T16:41:37.669615Z",
     "iopub.status.busy": "2024-11-04T16:41:37.668943Z",
     "iopub.status.idle": "2024-11-04T16:41:38.309470Z",
     "shell.execute_reply": "2024-11-04T16:41:38.308437Z"
    },
    "papermill": {
     "duration": 0.66105,
     "end_time": "2024-11-04T16:41:38.311928",
     "exception": false,
     "start_time": "2024-11-04T16:41:37.650878",
     "status": "completed"
    },
    "tags": []
   },
   "outputs": [],
   "source": [
    "import optuna\n",
    "from catboost import Pool, CatBoostClassifier\n",
    "from sklearn.metrics import accuracy_score\n",
    "\n",
    "def objective(trial):\n",
    "    cat_params = dict(\n",
    "        iterations = trial.suggest_int(\"iterations\", 100, 1000),\n",
    "        learning_rate = trial.suggest_float(\"learning_rate\", 1e-3, 1e-1, log=True),\n",
    "        depth = trial.suggest_int(\"depth\", 4, 10),\n",
    "        l2_leaf_reg = trial.suggest_float(\"l2_leaf_reg\", 1e-8, 100.0, log=True),\n",
    "        bagging_temperature = trial.suggest_float('bagging_temperature', 0, 1.5),\n",
    "        random_strength=trial.suggest_float(\"random_strength\", 1e-8, 10.0, log=True),\n",
    "        task_type='GPU',\n",
    "        early_stopping_rounds=200,\n",
    "        verbose=False\n",
    "    )\n",
    "    \n",
    "    model = CatBoostClassifier(**cat_params)\n",
    "    X_train_pool = Pool(X_train, y_train,cat_features=cat_columns)\n",
    "    X_valid_pool = Pool(X_val, y_val,cat_features=cat_columns)\n",
    "    model.fit(X=X_train_pool, eval_set=X_valid_pool)\n",
    "    \n",
    "    y_pred = model.predict(X_val)\n",
    "    score = accuracy_score(y_val, y_pred)\n",
    "    \n",
    "    return score"
   ]
  },
  {
   "cell_type": "code",
   "execution_count": 43,
   "id": "6366195b",
   "metadata": {
    "execution": {
     "iopub.execute_input": "2024-11-04T16:41:38.348177Z",
     "iopub.status.busy": "2024-11-04T16:41:38.347837Z",
     "iopub.status.idle": "2024-11-04T16:49:19.701838Z",
     "shell.execute_reply": "2024-11-04T16:49:19.700829Z"
    },
    "papermill": {
     "duration": 461.374983,
     "end_time": "2024-11-04T16:49:19.704485",
     "exception": false,
     "start_time": "2024-11-04T16:41:38.329502",
     "status": "completed"
    },
    "tags": []
   },
   "outputs": [
    {
     "name": "stderr",
     "output_type": "stream",
     "text": [
      "[I 2024-11-04 16:41:38,349] A new study created in memory with name: no-name-fb3ebc48-d446-4a65-b298-a80b47ce38f7\n",
      "[I 2024-11-04 16:41:56,318] Trial 0 finished with value: 0.9389481165600568 and parameters: {'iterations': 629, 'learning_rate': 0.01419758547159168, 'depth': 7, 'l2_leaf_reg': 0.03899334040277747, 'bagging_temperature': 0.9102822785529421, 'random_strength': 0.0005261686227106867}. Best is trial 0 with value: 0.9389481165600568.\n",
      "[I 2024-11-04 16:42:10,001] Trial 1 finished with value: 0.9290689410092395 and parameters: {'iterations': 681, 'learning_rate': 0.0011741684047074225, 'depth': 6, 'l2_leaf_reg': 1.5163690905681113e-05, 'bagging_temperature': 1.3133757824470003, 'random_strength': 0.6257000787254997}. Best is trial 0 with value: 0.9389481165600568.\n",
      "[I 2024-11-04 16:42:37,417] Trial 2 finished with value: 0.9395167022032693 and parameters: {'iterations': 775, 'learning_rate': 0.010802034665237447, 'depth': 8, 'l2_leaf_reg': 0.004649522578861259, 'bagging_temperature': 0.06217342845397267, 'random_strength': 6.372049137673927e-07}. Best is trial 2 with value: 0.9395167022032693.\n",
      "[I 2024-11-04 16:42:40,244] Trial 3 finished with value: 0.935181236673774 and parameters: {'iterations': 129, 'learning_rate': 0.0165100167219717, 'depth': 9, 'l2_leaf_reg': 4.507022994614023e-08, 'bagging_temperature': 1.180688911907783, 'random_strength': 2.9205179233984358e-08}. Best is trial 2 with value: 0.9395167022032693.\n",
      "[I 2024-11-04 16:43:03,308] Trial 4 finished with value: 0.9395167022032693 and parameters: {'iterations': 780, 'learning_rate': 0.07151932927483737, 'depth': 10, 'l2_leaf_reg': 0.08423777815402225, 'bagging_temperature': 0.16662593332147574, 'random_strength': 0.013500792220691627}. Best is trial 2 with value: 0.9395167022032693.\n",
      "[I 2024-11-04 16:43:05,040] Trial 5 finished with value: 0.9384506041222459 and parameters: {'iterations': 119, 'learning_rate': 0.08121105430305106, 'depth': 5, 'l2_leaf_reg': 0.2052981970919252, 'bagging_temperature': 0.9395274182964115, 'random_strength': 5.7224097302225155e-06}. Best is trial 2 with value: 0.9395167022032693.\n",
      "[I 2024-11-04 16:43:16,750] Trial 6 finished with value: 0.9384861407249467 and parameters: {'iterations': 551, 'learning_rate': 0.01047261991989634, 'depth': 6, 'l2_leaf_reg': 0.0029513345182678777, 'bagging_temperature': 1.1362521145146687, 'random_strength': 1.9483548207579618e-06}. Best is trial 2 with value: 0.9395167022032693.\n",
      "[I 2024-11-04 16:43:52,730] Trial 7 finished with value: 0.9383439943141436 and parameters: {'iterations': 744, 'learning_rate': 0.005021523742593159, 'depth': 9, 'l2_leaf_reg': 4.665636745354942e-06, 'bagging_temperature': 0.24917632462319, 'random_strength': 0.23872989667294955}. Best is trial 2 with value: 0.9395167022032693.\n",
      "[I 2024-11-04 16:44:27,788] Trial 8 finished with value: 0.9395522388059702 and parameters: {'iterations': 456, 'learning_rate': 0.03259379353752908, 'depth': 10, 'l2_leaf_reg': 36.95025727429964, 'bagging_temperature': 1.2647449734737657, 'random_strength': 4.4739346106330443e-07}. Best is trial 8 with value: 0.9395522388059702.\n",
      "[I 2024-11-04 16:44:40,872] Trial 9 finished with value: 0.9401918976545842 and parameters: {'iterations': 689, 'learning_rate': 0.05000430381870538, 'depth': 5, 'l2_leaf_reg': 0.5112240636015752, 'bagging_temperature': 0.8445191476228212, 'random_strength': 5.279014743783931e-07}. Best is trial 9 with value: 0.9401918976545842.\n",
      "[I 2024-11-04 16:44:54,242] Trial 10 finished with value: 0.934044065387349 and parameters: {'iterations': 989, 'learning_rate': 0.00314909146867425, 'depth': 4, 'l2_leaf_reg': 72.57626677138903, 'bagging_temperature': 0.5656821003014851, 'random_strength': 0.00015490099155536426}. Best is trial 9 with value: 0.9401918976545842.\n",
      "[I 2024-11-04 16:45:00,255] Trial 11 finished with value: 0.9392324093816631 and parameters: {'iterations': 391, 'learning_rate': 0.0378260261524363, 'depth': 4, 'l2_leaf_reg': 76.8814811543478, 'bagging_temperature': 1.4899618949512443, 'random_strength': 1.4116130859615093e-08}. Best is trial 9 with value: 0.9401918976545842.\n",
      "[I 2024-11-04 16:45:10,662] Trial 12 finished with value: 0.9396233120113717 and parameters: {'iterations': 364, 'learning_rate': 0.032332337807119145, 'depth': 7, 'l2_leaf_reg': 2.9244671962749687, 'bagging_temperature': 0.5862022093145809, 'random_strength': 3.6039094466436455e-05}. Best is trial 9 with value: 0.9401918976545842.\n",
      "[I 2024-11-04 16:45:17,819] Trial 13 finished with value: 0.9393034825870646 and parameters: {'iterations': 322, 'learning_rate': 0.027639026332774375, 'depth': 6, 'l2_leaf_reg': 2.5579759080465974, 'bagging_temperature': 0.5619416342197185, 'random_strength': 7.276760053626427e-05}. Best is trial 9 with value: 0.9401918976545842.\n",
      "[I 2024-11-04 16:45:25,866] Trial 14 finished with value: 0.9400852878464819 and parameters: {'iterations': 275, 'learning_rate': 0.050659017607303444, 'depth': 7, 'l2_leaf_reg': 1.3980011612190955, 'bagging_temperature': 0.5430385341409021, 'random_strength': 0.0035186339242707413}. Best is trial 9 with value: 0.9401918976545842.\n",
      "[I 2024-11-04 16:45:43,179] Trial 15 finished with value: 0.940547263681592 and parameters: {'iterations': 919, 'learning_rate': 0.05529779125823772, 'depth': 5, 'l2_leaf_reg': 7.086295683381197e-05, 'bagging_temperature': 0.36742244856937756, 'random_strength': 0.0030362102904084474}. Best is trial 15 with value: 0.940547263681592.\n",
      "[I 2024-11-04 16:45:56,818] Trial 16 finished with value: 0.9407604832977967 and parameters: {'iterations': 941, 'learning_rate': 0.08072237713002971, 'depth': 5, 'l2_leaf_reg': 7.47656156784065e-05, 'bagging_temperature': 0.3561648021282785, 'random_strength': 4.947630859445812}. Best is trial 16 with value: 0.9407604832977967.\n",
      "[I 2024-11-04 16:46:09,769] Trial 17 finished with value: 0.9409026297085998 and parameters: {'iterations': 996, 'learning_rate': 0.09373899276369484, 'depth': 5, 'l2_leaf_reg': 7.686701602167817e-05, 'bagging_temperature': 0.326680684128545, 'random_strength': 8.801183913479159}. Best is trial 17 with value: 0.9409026297085998.\n",
      "[I 2024-11-04 16:46:23,410] Trial 18 finished with value: 0.9402629708599858 and parameters: {'iterations': 901, 'learning_rate': 0.08641339147145932, 'depth': 4, 'l2_leaf_reg': 7.673652347071146e-07, 'bagging_temperature': 0.33146439661144306, 'random_strength': 9.530892288114131}. Best is trial 17 with value: 0.9409026297085998.\n",
      "[I 2024-11-04 16:46:40,652] Trial 19 finished with value: 0.9365671641791045 and parameters: {'iterations': 921, 'learning_rate': 0.0058072730027262836, 'depth': 5, 'l2_leaf_reg': 0.0002884517030485385, 'bagging_temperature': 0.04072351952814279, 'random_strength': 8.849365537032137}. Best is trial 17 with value: 0.9409026297085998.\n",
      "[I 2024-11-04 16:46:58,002] Trial 20 finished with value: 0.9315209665955935 and parameters: {'iterations': 845, 'learning_rate': 0.001554863648497309, 'depth': 6, 'l2_leaf_reg': 2.79117907642791e-07, 'bagging_temperature': 0.3668269995159451, 'random_strength': 0.21940761555541746}. Best is trial 17 with value: 0.9409026297085998.\n",
      "[I 2024-11-04 16:47:12,209] Trial 21 finished with value: 0.940724946695096 and parameters: {'iterations': 1000, 'learning_rate': 0.09749135407024839, 'depth': 5, 'l2_leaf_reg': 0.00011383943153520655, 'bagging_temperature': 0.4164362303430839, 'random_strength': 1.304910070223957}. Best is trial 17 with value: 0.9409026297085998.\n",
      "[I 2024-11-04 16:47:26,476] Trial 22 finished with value: 0.9401563610518835 and parameters: {'iterations': 974, 'learning_rate': 0.09238202140543367, 'depth': 5, 'l2_leaf_reg': 0.0001910687915134623, 'bagging_temperature': 0.44527500293504685, 'random_strength': 1.527122781221829}. Best is trial 17 with value: 0.9409026297085998.\n",
      "[I 2024-11-04 16:47:39,078] Trial 23 finished with value: 0.9401563610518835 and parameters: {'iterations': 840, 'learning_rate': 0.06385261723233851, 'depth': 4, 'l2_leaf_reg': 8.35539660545283e-06, 'bagging_temperature': 0.7465066192287706, 'random_strength': 0.045178088258905236}. Best is trial 17 with value: 0.9409026297085998.\n",
      "[I 2024-11-04 16:48:01,575] Trial 24 finished with value: 0.9401918976545842 and parameters: {'iterations': 980, 'learning_rate': 0.020632617864619805, 'depth': 6, 'l2_leaf_reg': 0.0010884807442521354, 'bagging_temperature': 0.18338706464806215, 'random_strength': 1.8561779318984686}. Best is trial 17 with value: 0.9409026297085998.\n",
      "[I 2024-11-04 16:48:17,425] Trial 25 finished with value: 0.9407604832977967 and parameters: {'iterations': 861, 'learning_rate': 0.04318908426821086, 'depth': 5, 'l2_leaf_reg': 5.747056842231371e-05, 'bagging_temperature': 0.6989207901431622, 'random_strength': 0.0674932210887607}. Best is trial 17 with value: 0.9409026297085998.\n",
      "[I 2024-11-04 16:48:30,119] Trial 26 finished with value: 0.9395877754086709 and parameters: {'iterations': 852, 'learning_rate': 0.023371824121605402, 'depth': 4, 'l2_leaf_reg': 0.0115042140256071, 'bagging_temperature': 0.7241135965150135, 'random_strength': 0.07217426565632616}. Best is trial 17 with value: 0.9409026297085998.\n",
      "[I 2024-11-04 16:48:51,560] Trial 27 finished with value: 0.9401563610518835 and parameters: {'iterations': 889, 'learning_rate': 0.04258345730673642, 'depth': 8, 'l2_leaf_reg': 1.8125697386919282e-06, 'bagging_temperature': 0.6722351821361782, 'random_strength': 9.835319888563586}. Best is trial 17 with value: 0.9409026297085998.\n",
      "[I 2024-11-04 16:49:02,388] Trial 28 finished with value: 0.9398365316275764 and parameters: {'iterations': 568, 'learning_rate': 0.060073602850591885, 'depth': 6, 'l2_leaf_reg': 3.897787669779314e-05, 'bagging_temperature': 1.0038530013110756, 'random_strength': 0.03552027305842675}. Best is trial 17 with value: 0.9409026297085998.\n",
      "[I 2024-11-04 16:49:19,695] Trial 29 finished with value: 0.9393390191897655 and parameters: {'iterations': 638, 'learning_rate': 0.014713043447050865, 'depth': 7, 'l2_leaf_reg': 0.0005780674774349993, 'bagging_temperature': 0.2689117602044423, 'random_strength': 0.0007213634248287102}. Best is trial 17 with value: 0.9409026297085998.\n"
     ]
    }
   ],
   "source": [
    "study = optuna.create_study(direction='maximize')\n",
    "study.optimize(objective, n_trials=30)\n",
    "catboost_params = study.best_params"
   ]
  },
  {
   "cell_type": "code",
   "execution_count": 44,
   "id": "f6a55835",
   "metadata": {
    "execution": {
     "iopub.execute_input": "2024-11-04T16:49:19.759926Z",
     "iopub.status.busy": "2024-11-04T16:49:19.759104Z",
     "iopub.status.idle": "2024-11-04T16:50:30.010165Z",
     "shell.execute_reply": "2024-11-04T16:50:30.009160Z"
    },
    "papermill": {
     "duration": 70.280686,
     "end_time": "2024-11-04T16:50:30.012169",
     "exception": false,
     "start_time": "2024-11-04T16:49:19.731483",
     "status": "completed"
    },
    "tags": []
   },
   "outputs": [
    {
     "name": "stdout",
     "output_type": "stream",
     "text": [
      "0:\tlearn: 0.5575912\ttest: 0.5564302\tbest: 0.5564302 (0)\ttotal: 175ms\tremaining: 2m 53s\n",
      "1:\tlearn: 0.4624934\ttest: 0.4608784\tbest: 0.4608784 (1)\ttotal: 342ms\tremaining: 2m 49s\n",
      "2:\tlearn: 0.4081843\ttest: 0.4066450\tbest: 0.4066450 (2)\ttotal: 436ms\tremaining: 2m 24s\n",
      "3:\tlearn: 0.3600239\ttest: 0.3579022\tbest: 0.3579022 (3)\ttotal: 528ms\tremaining: 2m 10s\n",
      "4:\tlearn: 0.3430238\ttest: 0.3406430\tbest: 0.3406430 (4)\ttotal: 564ms\tremaining: 1m 51s\n",
      "5:\tlearn: 0.3099479\ttest: 0.3074528\tbest: 0.3074528 (5)\ttotal: 633ms\tremaining: 1m 44s\n",
      "6:\tlearn: 0.2878887\ttest: 0.2850742\tbest: 0.2850742 (6)\ttotal: 708ms\tremaining: 1m 40s\n",
      "7:\tlearn: 0.2655527\ttest: 0.2627535\tbest: 0.2627535 (7)\ttotal: 783ms\tremaining: 1m 36s\n",
      "8:\tlearn: 0.2539308\ttest: 0.2510235\tbest: 0.2510235 (8)\ttotal: 857ms\tremaining: 1m 33s\n",
      "9:\tlearn: 0.2429139\ttest: 0.2400543\tbest: 0.2400543 (9)\ttotal: 938ms\tremaining: 1m 32s\n",
      "10:\tlearn: 0.2303123\ttest: 0.2273880\tbest: 0.2273880 (10)\ttotal: 1.01s\tremaining: 1m 30s\n",
      "11:\tlearn: 0.2246592\ttest: 0.2215137\tbest: 0.2215137 (11)\ttotal: 1.08s\tremaining: 1m 28s\n",
      "12:\tlearn: 0.2179363\ttest: 0.2146594\tbest: 0.2146594 (12)\ttotal: 1.14s\tremaining: 1m 26s\n",
      "13:\tlearn: 0.2103309\ttest: 0.2071120\tbest: 0.2071120 (13)\ttotal: 1.22s\tremaining: 1m 25s\n",
      "14:\tlearn: 0.2055379\ttest: 0.2021677\tbest: 0.2021677 (14)\ttotal: 1.3s\tremaining: 1m 24s\n",
      "15:\tlearn: 0.2019874\ttest: 0.1986732\tbest: 0.1986732 (15)\ttotal: 1.37s\tremaining: 1m 23s\n",
      "16:\tlearn: 0.1991490\ttest: 0.1958486\tbest: 0.1958486 (16)\ttotal: 1.43s\tremaining: 1m 22s\n",
      "17:\tlearn: 0.1985526\ttest: 0.1952402\tbest: 0.1952402 (17)\ttotal: 1.47s\tremaining: 1m 19s\n",
      "18:\tlearn: 0.1954781\ttest: 0.1922889\tbest: 0.1922889 (18)\ttotal: 1.53s\tremaining: 1m 18s\n",
      "19:\tlearn: 0.1920341\ttest: 0.1889596\tbest: 0.1889596 (19)\ttotal: 1.6s\tremaining: 1m 17s\n",
      "20:\tlearn: 0.1895472\ttest: 0.1864560\tbest: 0.1864560 (20)\ttotal: 1.66s\tremaining: 1m 17s\n",
      "21:\tlearn: 0.1876132\ttest: 0.1844913\tbest: 0.1844913 (21)\ttotal: 1.72s\tremaining: 1m 16s\n",
      "22:\tlearn: 0.1872359\ttest: 0.1841778\tbest: 0.1841778 (22)\ttotal: 1.76s\tremaining: 1m 14s\n",
      "23:\tlearn: 0.1861893\ttest: 0.1832865\tbest: 0.1832865 (23)\ttotal: 1.83s\tremaining: 1m 13s\n",
      "24:\tlearn: 0.1834389\ttest: 0.1804770\tbest: 0.1804770 (24)\ttotal: 1.89s\tremaining: 1m 13s\n",
      "25:\tlearn: 0.1830026\ttest: 0.1800162\tbest: 0.1800162 (25)\ttotal: 1.95s\tremaining: 1m 12s\n",
      "26:\tlearn: 0.1816188\ttest: 0.1786995\tbest: 0.1786995 (26)\ttotal: 2.02s\tremaining: 1m 12s\n",
      "27:\tlearn: 0.1795475\ttest: 0.1766055\tbest: 0.1766055 (27)\ttotal: 2.08s\tremaining: 1m 11s\n",
      "28:\tlearn: 0.1787773\ttest: 0.1757961\tbest: 0.1757961 (28)\ttotal: 2.15s\tremaining: 1m 11s\n",
      "29:\tlearn: 0.1770857\ttest: 0.1740836\tbest: 0.1740836 (29)\ttotal: 2.22s\tremaining: 1m 11s\n",
      "30:\tlearn: 0.1761770\ttest: 0.1731182\tbest: 0.1731182 (30)\ttotal: 2.28s\tremaining: 1m 11s\n",
      "31:\tlearn: 0.1759208\ttest: 0.1728390\tbest: 0.1728390 (31)\ttotal: 2.35s\tremaining: 1m 10s\n",
      "32:\tlearn: 0.1750673\ttest: 0.1719653\tbest: 0.1719653 (32)\ttotal: 2.43s\tremaining: 1m 10s\n",
      "33:\tlearn: 0.1737554\ttest: 0.1708175\tbest: 0.1708175 (33)\ttotal: 2.5s\tremaining: 1m 10s\n",
      "34:\tlearn: 0.1731360\ttest: 0.1701901\tbest: 0.1701901 (34)\ttotal: 2.57s\tremaining: 1m 10s\n",
      "35:\tlearn: 0.1726763\ttest: 0.1697102\tbest: 0.1697102 (35)\ttotal: 2.63s\tremaining: 1m 10s\n",
      "36:\tlearn: 0.1724777\ttest: 0.1694834\tbest: 0.1694834 (36)\ttotal: 2.67s\tremaining: 1m 9s\n",
      "37:\tlearn: 0.1722306\ttest: 0.1691926\tbest: 0.1691926 (37)\ttotal: 2.71s\tremaining: 1m 8s\n",
      "38:\tlearn: 0.1713216\ttest: 0.1683499\tbest: 0.1683499 (38)\ttotal: 2.77s\tremaining: 1m 8s\n",
      "39:\tlearn: 0.1711970\ttest: 0.1682149\tbest: 0.1682149 (39)\ttotal: 2.85s\tremaining: 1m 8s\n",
      "40:\tlearn: 0.1709542\ttest: 0.1679511\tbest: 0.1679511 (40)\ttotal: 2.96s\tremaining: 1m 8s\n",
      "41:\tlearn: 0.1707623\ttest: 0.1677548\tbest: 0.1677548 (41)\ttotal: 3.05s\tremaining: 1m 9s\n",
      "42:\tlearn: 0.1705388\ttest: 0.1675616\tbest: 0.1675616 (42)\ttotal: 3.1s\tremaining: 1m 8s\n",
      "43:\tlearn: 0.1696164\ttest: 0.1666914\tbest: 0.1666914 (43)\ttotal: 3.23s\tremaining: 1m 9s\n",
      "44:\tlearn: 0.1690021\ttest: 0.1661610\tbest: 0.1661610 (44)\ttotal: 3.33s\tremaining: 1m 10s\n",
      "45:\tlearn: 0.1685435\ttest: 0.1656630\tbest: 0.1656630 (45)\ttotal: 3.44s\tremaining: 1m 11s\n",
      "46:\tlearn: 0.1682362\ttest: 0.1654316\tbest: 0.1654316 (46)\ttotal: 3.54s\tremaining: 1m 11s\n",
      "47:\tlearn: 0.1678344\ttest: 0.1649990\tbest: 0.1649990 (47)\ttotal: 3.61s\tremaining: 1m 11s\n",
      "48:\tlearn: 0.1673843\ttest: 0.1646135\tbest: 0.1646135 (48)\ttotal: 3.71s\tremaining: 1m 11s\n",
      "49:\tlearn: 0.1671834\ttest: 0.1644058\tbest: 0.1644058 (49)\ttotal: 3.77s\tremaining: 1m 11s\n",
      "50:\tlearn: 0.1666886\ttest: 0.1639735\tbest: 0.1639735 (50)\ttotal: 3.86s\tremaining: 1m 11s\n",
      "51:\tlearn: 0.1663929\ttest: 0.1636988\tbest: 0.1636988 (51)\ttotal: 3.96s\tremaining: 1m 11s\n",
      "52:\tlearn: 0.1661735\ttest: 0.1634975\tbest: 0.1634975 (52)\ttotal: 4.07s\tremaining: 1m 12s\n",
      "53:\tlearn: 0.1659777\ttest: 0.1633654\tbest: 0.1633654 (53)\ttotal: 4.15s\tremaining: 1m 12s\n",
      "54:\tlearn: 0.1658858\ttest: 0.1632966\tbest: 0.1632966 (54)\ttotal: 4.21s\tremaining: 1m 11s\n",
      "55:\tlearn: 0.1658855\ttest: 0.1632970\tbest: 0.1632966 (54)\ttotal: 4.24s\tremaining: 1m 11s\n",
      "56:\tlearn: 0.1654339\ttest: 0.1628422\tbest: 0.1628422 (56)\ttotal: 4.32s\tremaining: 1m 11s\n",
      "57:\tlearn: 0.1652982\ttest: 0.1627380\tbest: 0.1627380 (57)\ttotal: 4.4s\tremaining: 1m 11s\n",
      "58:\tlearn: 0.1649599\ttest: 0.1624557\tbest: 0.1624557 (58)\ttotal: 4.49s\tremaining: 1m 11s\n",
      "59:\tlearn: 0.1643513\ttest: 0.1618772\tbest: 0.1618772 (59)\ttotal: 4.59s\tremaining: 1m 11s\n",
      "60:\tlearn: 0.1642527\ttest: 0.1617559\tbest: 0.1617559 (60)\ttotal: 4.63s\tremaining: 1m 11s\n",
      "61:\tlearn: 0.1640983\ttest: 0.1616624\tbest: 0.1616624 (61)\ttotal: 4.72s\tremaining: 1m 11s\n",
      "62:\tlearn: 0.1639498\ttest: 0.1615380\tbest: 0.1615380 (62)\ttotal: 4.79s\tremaining: 1m 10s\n",
      "63:\tlearn: 0.1638010\ttest: 0.1613783\tbest: 0.1613783 (63)\ttotal: 4.86s\tremaining: 1m 10s\n",
      "64:\tlearn: 0.1636541\ttest: 0.1612265\tbest: 0.1612265 (64)\ttotal: 4.93s\tremaining: 1m 10s\n",
      "65:\tlearn: 0.1629626\ttest: 0.1606146\tbest: 0.1606146 (65)\ttotal: 5.01s\tremaining: 1m 10s\n",
      "66:\tlearn: 0.1627034\ttest: 0.1603376\tbest: 0.1603376 (66)\ttotal: 5.09s\tremaining: 1m 10s\n",
      "67:\tlearn: 0.1625650\ttest: 0.1602564\tbest: 0.1602564 (67)\ttotal: 5.16s\tremaining: 1m 10s\n",
      "68:\tlearn: 0.1624772\ttest: 0.1601548\tbest: 0.1601548 (68)\ttotal: 5.23s\tremaining: 1m 10s\n",
      "69:\tlearn: 0.1623041\ttest: 0.1600017\tbest: 0.1600017 (69)\ttotal: 5.26s\tremaining: 1m 9s\n",
      "70:\tlearn: 0.1621664\ttest: 0.1599463\tbest: 0.1599463 (70)\ttotal: 5.33s\tremaining: 1m 9s\n",
      "71:\tlearn: 0.1618469\ttest: 0.1596585\tbest: 0.1596585 (71)\ttotal: 5.4s\tremaining: 1m 9s\n",
      "72:\tlearn: 0.1616757\ttest: 0.1595032\tbest: 0.1595032 (72)\ttotal: 5.45s\tremaining: 1m 8s\n",
      "73:\tlearn: 0.1616351\ttest: 0.1594766\tbest: 0.1594766 (73)\ttotal: 5.51s\tremaining: 1m 8s\n",
      "74:\tlearn: 0.1614759\ttest: 0.1593198\tbest: 0.1593198 (74)\ttotal: 5.58s\tremaining: 1m 8s\n",
      "75:\tlearn: 0.1612039\ttest: 0.1591016\tbest: 0.1591016 (75)\ttotal: 5.64s\tremaining: 1m 8s\n",
      "76:\tlearn: 0.1609647\ttest: 0.1588643\tbest: 0.1588643 (76)\ttotal: 5.71s\tremaining: 1m 8s\n",
      "77:\tlearn: 0.1606182\ttest: 0.1585631\tbest: 0.1585631 (77)\ttotal: 5.79s\tremaining: 1m 8s\n",
      "78:\tlearn: 0.1604244\ttest: 0.1583535\tbest: 0.1583535 (78)\ttotal: 5.86s\tremaining: 1m 7s\n",
      "79:\tlearn: 0.1604153\ttest: 0.1583537\tbest: 0.1583535 (78)\ttotal: 5.91s\tremaining: 1m 7s\n",
      "80:\tlearn: 0.1603267\ttest: 0.1583319\tbest: 0.1583319 (80)\ttotal: 5.98s\tremaining: 1m 7s\n",
      "81:\tlearn: 0.1601873\ttest: 0.1582501\tbest: 0.1582501 (81)\ttotal: 6.05s\tremaining: 1m 7s\n",
      "82:\tlearn: 0.1600789\ttest: 0.1581874\tbest: 0.1581874 (82)\ttotal: 6.12s\tremaining: 1m 7s\n",
      "83:\tlearn: 0.1600788\ttest: 0.1581876\tbest: 0.1581874 (82)\ttotal: 6.14s\tremaining: 1m 6s\n",
      "84:\tlearn: 0.1599553\ttest: 0.1581020\tbest: 0.1581020 (84)\ttotal: 6.21s\tremaining: 1m 6s\n",
      "85:\tlearn: 0.1599032\ttest: 0.1580593\tbest: 0.1580593 (85)\ttotal: 6.27s\tremaining: 1m 6s\n",
      "86:\tlearn: 0.1597587\ttest: 0.1579252\tbest: 0.1579252 (86)\ttotal: 6.34s\tremaining: 1m 6s\n",
      "87:\tlearn: 0.1597170\ttest: 0.1578911\tbest: 0.1578911 (87)\ttotal: 6.39s\tremaining: 1m 5s\n",
      "88:\tlearn: 0.1595586\ttest: 0.1577623\tbest: 0.1577623 (88)\ttotal: 6.45s\tremaining: 1m 5s\n",
      "89:\tlearn: 0.1594431\ttest: 0.1576227\tbest: 0.1576227 (89)\ttotal: 6.5s\tremaining: 1m 5s\n",
      "90:\tlearn: 0.1591906\ttest: 0.1573682\tbest: 0.1573682 (90)\ttotal: 6.54s\tremaining: 1m 5s\n",
      "91:\tlearn: 0.1591485\ttest: 0.1573289\tbest: 0.1573289 (91)\ttotal: 6.6s\tremaining: 1m 4s\n",
      "92:\tlearn: 0.1590514\ttest: 0.1572498\tbest: 0.1572498 (92)\ttotal: 6.64s\tremaining: 1m 4s\n",
      "93:\tlearn: 0.1589347\ttest: 0.1571480\tbest: 0.1571480 (93)\ttotal: 6.71s\tremaining: 1m 4s\n",
      "94:\tlearn: 0.1589347\ttest: 0.1571480\tbest: 0.1571480 (93)\ttotal: 6.73s\tremaining: 1m 3s\n",
      "95:\tlearn: 0.1589154\ttest: 0.1571255\tbest: 0.1571255 (95)\ttotal: 6.79s\tremaining: 1m 3s\n",
      "96:\tlearn: 0.1585605\ttest: 0.1567593\tbest: 0.1567593 (96)\ttotal: 6.87s\tremaining: 1m 3s\n",
      "97:\tlearn: 0.1582876\ttest: 0.1565570\tbest: 0.1565570 (97)\ttotal: 6.94s\tremaining: 1m 3s\n",
      "98:\tlearn: 0.1582422\ttest: 0.1565133\tbest: 0.1565133 (98)\ttotal: 6.99s\tremaining: 1m 3s\n",
      "99:\tlearn: 0.1581191\ttest: 0.1564170\tbest: 0.1564170 (99)\ttotal: 7.04s\tremaining: 1m 3s\n",
      "100:\tlearn: 0.1580604\ttest: 0.1563902\tbest: 0.1563902 (100)\ttotal: 7.11s\tremaining: 1m 3s\n",
      "101:\tlearn: 0.1579983\ttest: 0.1563473\tbest: 0.1563473 (101)\ttotal: 7.16s\tremaining: 1m 2s\n",
      "102:\tlearn: 0.1579360\ttest: 0.1563148\tbest: 0.1563148 (102)\ttotal: 7.22s\tremaining: 1m 2s\n",
      "103:\tlearn: 0.1578614\ttest: 0.1562306\tbest: 0.1562306 (103)\ttotal: 7.27s\tremaining: 1m 2s\n",
      "104:\tlearn: 0.1577721\ttest: 0.1561234\tbest: 0.1561234 (104)\ttotal: 7.32s\tremaining: 1m 2s\n",
      "105:\tlearn: 0.1576415\ttest: 0.1560080\tbest: 0.1560080 (105)\ttotal: 7.39s\tremaining: 1m 2s\n",
      "106:\tlearn: 0.1575640\ttest: 0.1559265\tbest: 0.1559265 (106)\ttotal: 7.48s\tremaining: 1m 2s\n",
      "107:\tlearn: 0.1572881\ttest: 0.1556736\tbest: 0.1556736 (107)\ttotal: 7.54s\tremaining: 1m 2s\n",
      "108:\tlearn: 0.1572225\ttest: 0.1556114\tbest: 0.1556114 (108)\ttotal: 7.62s\tremaining: 1m 2s\n",
      "109:\tlearn: 0.1571651\ttest: 0.1555848\tbest: 0.1555848 (109)\ttotal: 7.68s\tremaining: 1m 1s\n",
      "110:\tlearn: 0.1571363\ttest: 0.1555778\tbest: 0.1555778 (110)\ttotal: 7.74s\tremaining: 1m 1s\n",
      "111:\tlearn: 0.1570151\ttest: 0.1554781\tbest: 0.1554781 (111)\ttotal: 7.79s\tremaining: 1m 1s\n",
      "112:\tlearn: 0.1569586\ttest: 0.1554267\tbest: 0.1554267 (112)\ttotal: 7.87s\tremaining: 1m 1s\n",
      "113:\tlearn: 0.1568985\ttest: 0.1553700\tbest: 0.1553700 (113)\ttotal: 7.94s\tremaining: 1m 1s\n",
      "114:\tlearn: 0.1566406\ttest: 0.1551453\tbest: 0.1551453 (114)\ttotal: 8s\tremaining: 1m 1s\n",
      "115:\tlearn: 0.1562936\ttest: 0.1548499\tbest: 0.1548499 (115)\ttotal: 8.07s\tremaining: 1m 1s\n",
      "116:\tlearn: 0.1562019\ttest: 0.1548155\tbest: 0.1548155 (116)\ttotal: 8.13s\tremaining: 1m 1s\n",
      "117:\tlearn: 0.1561193\ttest: 0.1547486\tbest: 0.1547486 (117)\ttotal: 8.2s\tremaining: 1m 1s\n",
      "118:\tlearn: 0.1559356\ttest: 0.1545447\tbest: 0.1545447 (118)\ttotal: 8.25s\tremaining: 1m\n",
      "119:\tlearn: 0.1558532\ttest: 0.1544588\tbest: 0.1544588 (119)\ttotal: 8.32s\tremaining: 1m\n",
      "120:\tlearn: 0.1558434\ttest: 0.1544553\tbest: 0.1544553 (120)\ttotal: 8.35s\tremaining: 1m\n",
      "121:\tlearn: 0.1558013\ttest: 0.1544170\tbest: 0.1544170 (121)\ttotal: 8.41s\tremaining: 1m\n",
      "122:\tlearn: 0.1556470\ttest: 0.1542912\tbest: 0.1542912 (122)\ttotal: 8.48s\tremaining: 1m\n",
      "123:\tlearn: 0.1556470\ttest: 0.1542912\tbest: 0.1542912 (122)\ttotal: 8.5s\tremaining: 59.8s\n",
      "124:\tlearn: 0.1556106\ttest: 0.1542657\tbest: 0.1542657 (124)\ttotal: 8.54s\tremaining: 59.5s\n",
      "125:\tlearn: 0.1554783\ttest: 0.1541696\tbest: 0.1541696 (125)\ttotal: 8.61s\tremaining: 59.5s\n",
      "126:\tlearn: 0.1553580\ttest: 0.1540509\tbest: 0.1540509 (126)\ttotal: 8.68s\tremaining: 59.4s\n",
      "127:\tlearn: 0.1552900\ttest: 0.1540022\tbest: 0.1540022 (127)\ttotal: 8.75s\tremaining: 59.3s\n",
      "128:\tlearn: 0.1552044\ttest: 0.1539368\tbest: 0.1539368 (128)\ttotal: 8.82s\tremaining: 59.3s\n",
      "129:\tlearn: 0.1551683\ttest: 0.1538953\tbest: 0.1538953 (129)\ttotal: 8.87s\tremaining: 59.1s\n",
      "130:\tlearn: 0.1550682\ttest: 0.1537820\tbest: 0.1537820 (130)\ttotal: 8.93s\tremaining: 58.9s\n",
      "131:\tlearn: 0.1548675\ttest: 0.1535511\tbest: 0.1535511 (131)\ttotal: 8.99s\tremaining: 58.9s\n",
      "132:\tlearn: 0.1548015\ttest: 0.1534852\tbest: 0.1534852 (132)\ttotal: 9.05s\tremaining: 58.7s\n",
      "133:\tlearn: 0.1545591\ttest: 0.1533117\tbest: 0.1533117 (133)\ttotal: 9.12s\tremaining: 58.6s\n",
      "134:\tlearn: 0.1543546\ttest: 0.1530988\tbest: 0.1530988 (134)\ttotal: 9.18s\tremaining: 58.5s\n",
      "135:\tlearn: 0.1542108\ttest: 0.1529682\tbest: 0.1529682 (135)\ttotal: 9.24s\tremaining: 58.4s\n",
      "136:\tlearn: 0.1538869\ttest: 0.1526394\tbest: 0.1526394 (136)\ttotal: 9.32s\tremaining: 58.4s\n",
      "137:\tlearn: 0.1537001\ttest: 0.1524449\tbest: 0.1524449 (137)\ttotal: 9.38s\tremaining: 58.4s\n",
      "138:\tlearn: 0.1535099\ttest: 0.1522712\tbest: 0.1522712 (138)\ttotal: 9.46s\tremaining: 58.3s\n",
      "139:\tlearn: 0.1534207\ttest: 0.1522317\tbest: 0.1522317 (139)\ttotal: 9.53s\tremaining: 58.3s\n",
      "140:\tlearn: 0.1532476\ttest: 0.1520728\tbest: 0.1520728 (140)\ttotal: 9.6s\tremaining: 58.2s\n",
      "141:\tlearn: 0.1530791\ttest: 0.1519520\tbest: 0.1519520 (141)\ttotal: 9.68s\tremaining: 58.2s\n",
      "142:\tlearn: 0.1529443\ttest: 0.1518281\tbest: 0.1518281 (142)\ttotal: 9.76s\tremaining: 58.2s\n",
      "143:\tlearn: 0.1527667\ttest: 0.1517103\tbest: 0.1517103 (143)\ttotal: 9.83s\tremaining: 58.2s\n",
      "144:\tlearn: 0.1527287\ttest: 0.1516736\tbest: 0.1516736 (144)\ttotal: 9.9s\tremaining: 58.1s\n",
      "145:\tlearn: 0.1525808\ttest: 0.1515859\tbest: 0.1515859 (145)\ttotal: 9.98s\tremaining: 58.1s\n",
      "146:\tlearn: 0.1524717\ttest: 0.1514719\tbest: 0.1514719 (146)\ttotal: 10.1s\tremaining: 58.1s\n",
      "147:\tlearn: 0.1523587\ttest: 0.1513906\tbest: 0.1513906 (147)\ttotal: 10.1s\tremaining: 58s\n",
      "148:\tlearn: 0.1521932\ttest: 0.1512595\tbest: 0.1512595 (148)\ttotal: 10.2s\tremaining: 58.1s\n",
      "149:\tlearn: 0.1520785\ttest: 0.1512056\tbest: 0.1512056 (149)\ttotal: 10.3s\tremaining: 58.1s\n",
      "150:\tlearn: 0.1519623\ttest: 0.1511410\tbest: 0.1511410 (150)\ttotal: 10.4s\tremaining: 58s\n",
      "151:\tlearn: 0.1518858\ttest: 0.1510802\tbest: 0.1510802 (151)\ttotal: 10.4s\tremaining: 58s\n",
      "152:\tlearn: 0.1517870\ttest: 0.1509807\tbest: 0.1509807 (152)\ttotal: 10.5s\tremaining: 57.9s\n",
      "153:\tlearn: 0.1516491\ttest: 0.1508442\tbest: 0.1508442 (153)\ttotal: 10.6s\tremaining: 57.9s\n",
      "154:\tlearn: 0.1515662\ttest: 0.1508055\tbest: 0.1508055 (154)\ttotal: 10.7s\tremaining: 57.8s\n",
      "155:\tlearn: 0.1515002\ttest: 0.1507612\tbest: 0.1507612 (155)\ttotal: 10.7s\tremaining: 57.7s\n",
      "156:\tlearn: 0.1514168\ttest: 0.1507184\tbest: 0.1507184 (156)\ttotal: 10.8s\tremaining: 57.6s\n",
      "157:\tlearn: 0.1513170\ttest: 0.1506393\tbest: 0.1506393 (157)\ttotal: 10.8s\tremaining: 57.5s\n",
      "158:\tlearn: 0.1512178\ttest: 0.1505321\tbest: 0.1505321 (158)\ttotal: 10.9s\tremaining: 57.5s\n",
      "159:\tlearn: 0.1511422\ttest: 0.1505129\tbest: 0.1505129 (159)\ttotal: 11s\tremaining: 57.5s\n",
      "160:\tlearn: 0.1510571\ttest: 0.1504575\tbest: 0.1504575 (160)\ttotal: 11.1s\tremaining: 57.4s\n",
      "161:\tlearn: 0.1509885\ttest: 0.1504192\tbest: 0.1504192 (161)\ttotal: 11.1s\tremaining: 57.3s\n",
      "162:\tlearn: 0.1509220\ttest: 0.1503869\tbest: 0.1503869 (162)\ttotal: 11.2s\tremaining: 57.3s\n",
      "163:\tlearn: 0.1507725\ttest: 0.1502477\tbest: 0.1502477 (163)\ttotal: 11.3s\tremaining: 57.3s\n",
      "164:\tlearn: 0.1507157\ttest: 0.1501679\tbest: 0.1501679 (164)\ttotal: 11.4s\tremaining: 57.3s\n",
      "165:\tlearn: 0.1506349\ttest: 0.1501184\tbest: 0.1501184 (165)\ttotal: 11.5s\tremaining: 57.3s\n",
      "166:\tlearn: 0.1505637\ttest: 0.1500867\tbest: 0.1500867 (166)\ttotal: 11.5s\tremaining: 57.2s\n",
      "167:\tlearn: 0.1505028\ttest: 0.1500469\tbest: 0.1500469 (167)\ttotal: 11.6s\tremaining: 57.2s\n",
      "168:\tlearn: 0.1504075\ttest: 0.1499671\tbest: 0.1499671 (168)\ttotal: 11.7s\tremaining: 57.1s\n",
      "169:\tlearn: 0.1503670\ttest: 0.1499403\tbest: 0.1499403 (169)\ttotal: 11.7s\tremaining: 57s\n",
      "170:\tlearn: 0.1502979\ttest: 0.1498906\tbest: 0.1498906 (170)\ttotal: 11.8s\tremaining: 56.9s\n",
      "171:\tlearn: 0.1502384\ttest: 0.1498625\tbest: 0.1498625 (171)\ttotal: 11.9s\tremaining: 56.8s\n",
      "172:\tlearn: 0.1501464\ttest: 0.1497261\tbest: 0.1497261 (172)\ttotal: 11.9s\tremaining: 56.7s\n",
      "173:\tlearn: 0.1500821\ttest: 0.1497079\tbest: 0.1497079 (173)\ttotal: 12s\tremaining: 56.7s\n",
      "174:\tlearn: 0.1500371\ttest: 0.1496955\tbest: 0.1496955 (174)\ttotal: 12.1s\tremaining: 56.6s\n",
      "175:\tlearn: 0.1499765\ttest: 0.1496912\tbest: 0.1496912 (175)\ttotal: 12.1s\tremaining: 56.5s\n",
      "176:\tlearn: 0.1499234\ttest: 0.1496737\tbest: 0.1496737 (176)\ttotal: 12.2s\tremaining: 56.4s\n",
      "177:\tlearn: 0.1498680\ttest: 0.1496625\tbest: 0.1496625 (177)\ttotal: 12.3s\tremaining: 56.4s\n",
      "178:\tlearn: 0.1498168\ttest: 0.1496591\tbest: 0.1496591 (178)\ttotal: 12.3s\tremaining: 56.3s\n",
      "179:\tlearn: 0.1497820\ttest: 0.1496624\tbest: 0.1496591 (178)\ttotal: 12.4s\tremaining: 56.2s\n",
      "180:\tlearn: 0.1497185\ttest: 0.1496230\tbest: 0.1496230 (180)\ttotal: 12.5s\tremaining: 56.1s\n",
      "181:\tlearn: 0.1496684\ttest: 0.1496075\tbest: 0.1496075 (181)\ttotal: 12.5s\tremaining: 56.1s\n",
      "182:\tlearn: 0.1496183\ttest: 0.1495929\tbest: 0.1495929 (182)\ttotal: 12.6s\tremaining: 56s\n",
      "183:\tlearn: 0.1495788\ttest: 0.1495750\tbest: 0.1495750 (183)\ttotal: 12.7s\tremaining: 55.9s\n",
      "184:\tlearn: 0.1495102\ttest: 0.1495075\tbest: 0.1495075 (184)\ttotal: 12.7s\tremaining: 55.9s\n",
      "185:\tlearn: 0.1494681\ttest: 0.1494876\tbest: 0.1494876 (185)\ttotal: 12.8s\tremaining: 55.8s\n",
      "186:\tlearn: 0.1494361\ttest: 0.1494876\tbest: 0.1494876 (185)\ttotal: 12.9s\tremaining: 55.7s\n",
      "187:\tlearn: 0.1493799\ttest: 0.1494097\tbest: 0.1494097 (187)\ttotal: 13s\tremaining: 55.7s\n",
      "188:\tlearn: 0.1493471\ttest: 0.1493982\tbest: 0.1493982 (188)\ttotal: 13s\tremaining: 55.6s\n",
      "189:\tlearn: 0.1493006\ttest: 0.1493629\tbest: 0.1493629 (189)\ttotal: 13.1s\tremaining: 55.6s\n",
      "190:\tlearn: 0.1492270\ttest: 0.1493092\tbest: 0.1493092 (190)\ttotal: 13.2s\tremaining: 55.5s\n",
      "191:\tlearn: 0.1491636\ttest: 0.1492793\tbest: 0.1492793 (191)\ttotal: 13.2s\tremaining: 55.4s\n",
      "192:\tlearn: 0.1491190\ttest: 0.1492572\tbest: 0.1492572 (192)\ttotal: 13.3s\tremaining: 55.4s\n",
      "193:\tlearn: 0.1490919\ttest: 0.1492701\tbest: 0.1492572 (192)\ttotal: 13.4s\tremaining: 55.3s\n",
      "194:\tlearn: 0.1490441\ttest: 0.1492432\tbest: 0.1492432 (194)\ttotal: 13.5s\tremaining: 55.3s\n",
      "195:\tlearn: 0.1489988\ttest: 0.1491991\tbest: 0.1491991 (195)\ttotal: 13.5s\tremaining: 55.2s\n",
      "196:\tlearn: 0.1489606\ttest: 0.1492155\tbest: 0.1491991 (195)\ttotal: 13.6s\tremaining: 55.1s\n",
      "197:\tlearn: 0.1489200\ttest: 0.1491944\tbest: 0.1491944 (197)\ttotal: 13.7s\tremaining: 55.1s\n",
      "198:\tlearn: 0.1488923\ttest: 0.1491796\tbest: 0.1491796 (198)\ttotal: 13.7s\tremaining: 55s\n",
      "199:\tlearn: 0.1488514\ttest: 0.1491601\tbest: 0.1491601 (199)\ttotal: 13.8s\tremaining: 54.9s\n",
      "200:\tlearn: 0.1488168\ttest: 0.1491379\tbest: 0.1491379 (200)\ttotal: 13.9s\tremaining: 54.9s\n",
      "201:\tlearn: 0.1487665\ttest: 0.1491056\tbest: 0.1491056 (201)\ttotal: 13.9s\tremaining: 54.8s\n",
      "202:\tlearn: 0.1487298\ttest: 0.1490841\tbest: 0.1490841 (202)\ttotal: 14s\tremaining: 54.7s\n",
      "203:\tlearn: 0.1486904\ttest: 0.1490731\tbest: 0.1490731 (203)\ttotal: 14.1s\tremaining: 54.6s\n",
      "204:\tlearn: 0.1486495\ttest: 0.1490565\tbest: 0.1490565 (204)\ttotal: 14.1s\tremaining: 54.5s\n",
      "205:\tlearn: 0.1485648\ttest: 0.1490010\tbest: 0.1490010 (205)\ttotal: 14.2s\tremaining: 54.5s\n",
      "206:\tlearn: 0.1485235\ttest: 0.1490105\tbest: 0.1490010 (205)\ttotal: 14.3s\tremaining: 54.4s\n",
      "207:\tlearn: 0.1484969\ttest: 0.1490107\tbest: 0.1490010 (205)\ttotal: 14.3s\tremaining: 54.3s\n",
      "208:\tlearn: 0.1484590\ttest: 0.1489915\tbest: 0.1489915 (208)\ttotal: 14.4s\tremaining: 54.3s\n",
      "209:\tlearn: 0.1484235\ttest: 0.1489642\tbest: 0.1489642 (209)\ttotal: 14.5s\tremaining: 54.2s\n",
      "210:\tlearn: 0.1483823\ttest: 0.1489820\tbest: 0.1489642 (209)\ttotal: 14.6s\tremaining: 54.1s\n",
      "211:\tlearn: 0.1483496\ttest: 0.1490216\tbest: 0.1489642 (209)\ttotal: 14.6s\tremaining: 54.1s\n",
      "212:\tlearn: 0.1483140\ttest: 0.1490223\tbest: 0.1489642 (209)\ttotal: 14.7s\tremaining: 54s\n",
      "213:\tlearn: 0.1482743\ttest: 0.1490067\tbest: 0.1489642 (209)\ttotal: 14.7s\tremaining: 53.9s\n",
      "214:\tlearn: 0.1482472\ttest: 0.1489865\tbest: 0.1489642 (209)\ttotal: 14.8s\tremaining: 53.8s\n",
      "215:\tlearn: 0.1482173\ttest: 0.1489582\tbest: 0.1489582 (215)\ttotal: 14.9s\tremaining: 53.8s\n",
      "216:\tlearn: 0.1481877\ttest: 0.1489582\tbest: 0.1489582 (215)\ttotal: 15s\tremaining: 53.7s\n",
      "217:\tlearn: 0.1481660\ttest: 0.1489589\tbest: 0.1489582 (215)\ttotal: 15s\tremaining: 53.7s\n",
      "218:\tlearn: 0.1481460\ttest: 0.1489713\tbest: 0.1489582 (215)\ttotal: 15.1s\tremaining: 53.6s\n",
      "219:\tlearn: 0.1481273\ttest: 0.1489689\tbest: 0.1489582 (215)\ttotal: 15.2s\tremaining: 53.5s\n",
      "220:\tlearn: 0.1480999\ttest: 0.1489699\tbest: 0.1489582 (215)\ttotal: 15.2s\tremaining: 53.5s\n",
      "221:\tlearn: 0.1480557\ttest: 0.1489701\tbest: 0.1489582 (215)\ttotal: 15.3s\tremaining: 53.4s\n",
      "222:\tlearn: 0.1480052\ttest: 0.1489599\tbest: 0.1489582 (215)\ttotal: 15.4s\tremaining: 53.3s\n",
      "223:\tlearn: 0.1479774\ttest: 0.1489679\tbest: 0.1489582 (215)\ttotal: 15.5s\tremaining: 53.3s\n",
      "224:\tlearn: 0.1479547\ttest: 0.1489658\tbest: 0.1489582 (215)\ttotal: 15.5s\tremaining: 53.2s\n",
      "225:\tlearn: 0.1479446\ttest: 0.1489638\tbest: 0.1489582 (215)\ttotal: 15.6s\tremaining: 53.1s\n",
      "226:\tlearn: 0.1478974\ttest: 0.1489525\tbest: 0.1489525 (226)\ttotal: 15.7s\tremaining: 53s\n",
      "227:\tlearn: 0.1478589\ttest: 0.1489354\tbest: 0.1489354 (227)\ttotal: 15.7s\tremaining: 53s\n",
      "228:\tlearn: 0.1478249\ttest: 0.1489153\tbest: 0.1489153 (228)\ttotal: 15.8s\tremaining: 52.9s\n",
      "229:\tlearn: 0.1477587\ttest: 0.1488906\tbest: 0.1488906 (229)\ttotal: 15.9s\tremaining: 52.9s\n",
      "230:\tlearn: 0.1477104\ttest: 0.1488893\tbest: 0.1488893 (230)\ttotal: 15.9s\tremaining: 52.8s\n",
      "231:\tlearn: 0.1476862\ttest: 0.1488919\tbest: 0.1488893 (230)\ttotal: 16s\tremaining: 52.8s\n",
      "232:\tlearn: 0.1476590\ttest: 0.1488952\tbest: 0.1488893 (230)\ttotal: 16.1s\tremaining: 52.7s\n",
      "233:\tlearn: 0.1476373\ttest: 0.1488912\tbest: 0.1488893 (230)\ttotal: 16.2s\tremaining: 52.6s\n",
      "234:\tlearn: 0.1476161\ttest: 0.1488877\tbest: 0.1488877 (234)\ttotal: 16.2s\tremaining: 52.5s\n",
      "235:\tlearn: 0.1475939\ttest: 0.1488932\tbest: 0.1488877 (234)\ttotal: 16.3s\tremaining: 52.4s\n",
      "236:\tlearn: 0.1475674\ttest: 0.1488875\tbest: 0.1488875 (236)\ttotal: 16.3s\tremaining: 52.3s\n",
      "237:\tlearn: 0.1475178\ttest: 0.1488450\tbest: 0.1488450 (237)\ttotal: 16.4s\tremaining: 52.3s\n",
      "238:\tlearn: 0.1474944\ttest: 0.1488364\tbest: 0.1488364 (238)\ttotal: 16.5s\tremaining: 52.2s\n",
      "239:\tlearn: 0.1474674\ttest: 0.1488254\tbest: 0.1488254 (239)\ttotal: 16.5s\tremaining: 52.1s\n",
      "240:\tlearn: 0.1474489\ttest: 0.1488276\tbest: 0.1488254 (239)\ttotal: 16.6s\tremaining: 52s\n",
      "241:\tlearn: 0.1474150\ttest: 0.1487985\tbest: 0.1487985 (241)\ttotal: 16.7s\tremaining: 52s\n",
      "242:\tlearn: 0.1473846\ttest: 0.1488303\tbest: 0.1487985 (241)\ttotal: 16.8s\tremaining: 51.9s\n",
      "243:\tlearn: 0.1473686\ttest: 0.1488231\tbest: 0.1487985 (241)\ttotal: 16.8s\tremaining: 51.8s\n",
      "244:\tlearn: 0.1473503\ttest: 0.1488103\tbest: 0.1487985 (241)\ttotal: 16.9s\tremaining: 51.8s\n",
      "245:\tlearn: 0.1473188\ttest: 0.1488089\tbest: 0.1487985 (241)\ttotal: 17s\tremaining: 51.7s\n",
      "246:\tlearn: 0.1472825\ttest: 0.1488167\tbest: 0.1487985 (241)\ttotal: 17s\tremaining: 51.6s\n",
      "247:\tlearn: 0.1472673\ttest: 0.1488267\tbest: 0.1487985 (241)\ttotal: 17.1s\tremaining: 51.6s\n",
      "248:\tlearn: 0.1472424\ttest: 0.1488145\tbest: 0.1487985 (241)\ttotal: 17.2s\tremaining: 51.5s\n",
      "249:\tlearn: 0.1471988\ttest: 0.1487763\tbest: 0.1487763 (249)\ttotal: 17.2s\tremaining: 51.4s\n",
      "250:\tlearn: 0.1471709\ttest: 0.1487883\tbest: 0.1487763 (249)\ttotal: 17.3s\tremaining: 51.4s\n",
      "251:\tlearn: 0.1471479\ttest: 0.1487873\tbest: 0.1487763 (249)\ttotal: 17.4s\tremaining: 51.3s\n",
      "252:\tlearn: 0.1471273\ttest: 0.1487863\tbest: 0.1487763 (249)\ttotal: 17.4s\tremaining: 51.2s\n",
      "253:\tlearn: 0.1470974\ttest: 0.1487726\tbest: 0.1487726 (253)\ttotal: 17.5s\tremaining: 51.1s\n",
      "254:\tlearn: 0.1470806\ttest: 0.1487681\tbest: 0.1487681 (254)\ttotal: 17.6s\tremaining: 51.1s\n",
      "255:\tlearn: 0.1470557\ttest: 0.1487705\tbest: 0.1487681 (254)\ttotal: 17.6s\tremaining: 51s\n",
      "256:\tlearn: 0.1470331\ttest: 0.1487648\tbest: 0.1487648 (256)\ttotal: 17.7s\tremaining: 50.9s\n",
      "257:\tlearn: 0.1470145\ttest: 0.1487604\tbest: 0.1487604 (257)\ttotal: 17.8s\tremaining: 50.8s\n",
      "258:\tlearn: 0.1469917\ttest: 0.1487577\tbest: 0.1487577 (258)\ttotal: 17.8s\tremaining: 50.8s\n",
      "259:\tlearn: 0.1469772\ttest: 0.1487537\tbest: 0.1487537 (259)\ttotal: 17.9s\tremaining: 50.7s\n",
      "260:\tlearn: 0.1469601\ttest: 0.1487512\tbest: 0.1487512 (260)\ttotal: 18s\tremaining: 50.6s\n",
      "261:\tlearn: 0.1469471\ttest: 0.1487493\tbest: 0.1487493 (261)\ttotal: 18s\tremaining: 50.6s\n",
      "262:\tlearn: 0.1469189\ttest: 0.1487375\tbest: 0.1487375 (262)\ttotal: 18.1s\tremaining: 50.5s\n",
      "263:\tlearn: 0.1468935\ttest: 0.1487530\tbest: 0.1487375 (262)\ttotal: 18.2s\tremaining: 50.4s\n",
      "264:\tlearn: 0.1468621\ttest: 0.1487287\tbest: 0.1487287 (264)\ttotal: 18.3s\tremaining: 50.4s\n",
      "265:\tlearn: 0.1468481\ttest: 0.1487206\tbest: 0.1487206 (265)\ttotal: 18.3s\tremaining: 50.3s\n",
      "266:\tlearn: 0.1468315\ttest: 0.1487190\tbest: 0.1487190 (266)\ttotal: 18.4s\tremaining: 50.3s\n",
      "267:\tlearn: 0.1468141\ttest: 0.1487184\tbest: 0.1487184 (267)\ttotal: 18.5s\tremaining: 50.2s\n",
      "268:\tlearn: 0.1468066\ttest: 0.1487177\tbest: 0.1487177 (268)\ttotal: 18.5s\tremaining: 50.1s\n",
      "269:\tlearn: 0.1467907\ttest: 0.1487207\tbest: 0.1487177 (268)\ttotal: 18.6s\tremaining: 50s\n",
      "270:\tlearn: 0.1467830\ttest: 0.1487190\tbest: 0.1487177 (268)\ttotal: 18.7s\tremaining: 49.9s\n",
      "271:\tlearn: 0.1467470\ttest: 0.1487144\tbest: 0.1487144 (271)\ttotal: 18.7s\tremaining: 49.9s\n",
      "272:\tlearn: 0.1467094\ttest: 0.1486861\tbest: 0.1486861 (272)\ttotal: 18.8s\tremaining: 49.8s\n",
      "273:\tlearn: 0.1467020\ttest: 0.1487246\tbest: 0.1486861 (272)\ttotal: 18.9s\tremaining: 49.7s\n",
      "274:\tlearn: 0.1466811\ttest: 0.1487241\tbest: 0.1486861 (272)\ttotal: 18.9s\tremaining: 49.7s\n",
      "275:\tlearn: 0.1466593\ttest: 0.1487090\tbest: 0.1486861 (272)\ttotal: 19s\tremaining: 49.6s\n",
      "276:\tlearn: 0.1466343\ttest: 0.1487169\tbest: 0.1486861 (272)\ttotal: 19.1s\tremaining: 49.5s\n",
      "277:\tlearn: 0.1466058\ttest: 0.1486958\tbest: 0.1486861 (272)\ttotal: 19.1s\tremaining: 49.4s\n",
      "278:\tlearn: 0.1465836\ttest: 0.1487028\tbest: 0.1486861 (272)\ttotal: 19.2s\tremaining: 49.4s\n",
      "279:\tlearn: 0.1465607\ttest: 0.1486988\tbest: 0.1486861 (272)\ttotal: 19.3s\tremaining: 49.3s\n",
      "280:\tlearn: 0.1465395\ttest: 0.1486937\tbest: 0.1486861 (272)\ttotal: 19.4s\tremaining: 49.3s\n",
      "281:\tlearn: 0.1465339\ttest: 0.1486908\tbest: 0.1486861 (272)\ttotal: 19.4s\tremaining: 49.2s\n",
      "282:\tlearn: 0.1464987\ttest: 0.1486971\tbest: 0.1486861 (272)\ttotal: 19.5s\tremaining: 49.1s\n",
      "283:\tlearn: 0.1464664\ttest: 0.1486800\tbest: 0.1486800 (283)\ttotal: 19.5s\tremaining: 49s\n",
      "284:\tlearn: 0.1464583\ttest: 0.1486859\tbest: 0.1486800 (283)\ttotal: 19.6s\tremaining: 48.9s\n",
      "285:\tlearn: 0.1464125\ttest: 0.1486743\tbest: 0.1486743 (285)\ttotal: 19.7s\tremaining: 48.9s\n",
      "286:\tlearn: 0.1464042\ttest: 0.1486767\tbest: 0.1486743 (285)\ttotal: 19.8s\tremaining: 48.8s\n",
      "287:\tlearn: 0.1463759\ttest: 0.1486622\tbest: 0.1486622 (287)\ttotal: 19.8s\tremaining: 48.8s\n",
      "288:\tlearn: 0.1463559\ttest: 0.1486650\tbest: 0.1486622 (287)\ttotal: 19.9s\tremaining: 48.7s\n",
      "289:\tlearn: 0.1463333\ttest: 0.1486665\tbest: 0.1486622 (287)\ttotal: 20s\tremaining: 48.6s\n",
      "290:\tlearn: 0.1463104\ttest: 0.1486500\tbest: 0.1486500 (290)\ttotal: 20s\tremaining: 48.6s\n",
      "291:\tlearn: 0.1462983\ttest: 0.1486336\tbest: 0.1486336 (291)\ttotal: 20.1s\tremaining: 48.5s\n",
      "292:\tlearn: 0.1462652\ttest: 0.1486326\tbest: 0.1486326 (292)\ttotal: 20.2s\tremaining: 48.4s\n",
      "293:\tlearn: 0.1462126\ttest: 0.1485696\tbest: 0.1485696 (293)\ttotal: 20.3s\tremaining: 48.4s\n",
      "294:\tlearn: 0.1461964\ttest: 0.1485643\tbest: 0.1485643 (294)\ttotal: 20.4s\tremaining: 48.4s\n",
      "295:\tlearn: 0.1461728\ttest: 0.1485641\tbest: 0.1485641 (295)\ttotal: 20.4s\tremaining: 48.3s\n",
      "296:\tlearn: 0.1461634\ttest: 0.1485613\tbest: 0.1485613 (296)\ttotal: 20.5s\tremaining: 48.2s\n",
      "297:\tlearn: 0.1461387\ttest: 0.1485684\tbest: 0.1485613 (296)\ttotal: 20.6s\tremaining: 48.2s\n",
      "298:\tlearn: 0.1461220\ttest: 0.1485608\tbest: 0.1485608 (298)\ttotal: 20.6s\tremaining: 48.1s\n",
      "299:\tlearn: 0.1460984\ttest: 0.1485541\tbest: 0.1485541 (299)\ttotal: 20.7s\tremaining: 48s\n",
      "300:\tlearn: 0.1460919\ttest: 0.1485697\tbest: 0.1485541 (299)\ttotal: 20.8s\tremaining: 48s\n",
      "301:\tlearn: 0.1460806\ttest: 0.1486040\tbest: 0.1485541 (299)\ttotal: 20.9s\tremaining: 47.9s\n",
      "302:\tlearn: 0.1460720\ttest: 0.1486021\tbest: 0.1485541 (299)\ttotal: 20.9s\tremaining: 47.9s\n",
      "303:\tlearn: 0.1460322\ttest: 0.1486216\tbest: 0.1485541 (299)\ttotal: 21s\tremaining: 47.8s\n",
      "304:\tlearn: 0.1460220\ttest: 0.1486218\tbest: 0.1485541 (299)\ttotal: 21.1s\tremaining: 47.7s\n",
      "305:\tlearn: 0.1460122\ttest: 0.1486206\tbest: 0.1485541 (299)\ttotal: 21.1s\tremaining: 47.7s\n",
      "306:\tlearn: 0.1459962\ttest: 0.1486152\tbest: 0.1485541 (299)\ttotal: 21.2s\tremaining: 47.6s\n",
      "307:\tlearn: 0.1459713\ttest: 0.1486101\tbest: 0.1485541 (299)\ttotal: 21.3s\tremaining: 47.5s\n",
      "308:\tlearn: 0.1459498\ttest: 0.1486176\tbest: 0.1485541 (299)\ttotal: 21.3s\tremaining: 47.5s\n",
      "309:\tlearn: 0.1459317\ttest: 0.1486081\tbest: 0.1485541 (299)\ttotal: 21.4s\tremaining: 47.4s\n",
      "310:\tlearn: 0.1459145\ttest: 0.1486189\tbest: 0.1485541 (299)\ttotal: 21.5s\tremaining: 47.3s\n",
      "311:\tlearn: 0.1458850\ttest: 0.1485963\tbest: 0.1485541 (299)\ttotal: 21.6s\tremaining: 47.3s\n",
      "312:\tlearn: 0.1458612\ttest: 0.1485997\tbest: 0.1485541 (299)\ttotal: 21.6s\tremaining: 47.2s\n",
      "313:\tlearn: 0.1458491\ttest: 0.1486114\tbest: 0.1485541 (299)\ttotal: 21.7s\tremaining: 47.2s\n",
      "314:\tlearn: 0.1458068\ttest: 0.1485977\tbest: 0.1485541 (299)\ttotal: 21.8s\tremaining: 47.1s\n",
      "315:\tlearn: 0.1458020\ttest: 0.1485990\tbest: 0.1485541 (299)\ttotal: 21.9s\tremaining: 47s\n",
      "316:\tlearn: 0.1457641\ttest: 0.1485966\tbest: 0.1485541 (299)\ttotal: 21.9s\tremaining: 47s\n",
      "317:\tlearn: 0.1457310\ttest: 0.1485818\tbest: 0.1485541 (299)\ttotal: 22s\tremaining: 46.9s\n",
      "318:\tlearn: 0.1457162\ttest: 0.1485866\tbest: 0.1485541 (299)\ttotal: 22.1s\tremaining: 46.8s\n",
      "319:\tlearn: 0.1456962\ttest: 0.1485912\tbest: 0.1485541 (299)\ttotal: 22.1s\tremaining: 46.7s\n",
      "320:\tlearn: 0.1456753\ttest: 0.1486004\tbest: 0.1485541 (299)\ttotal: 22.2s\tremaining: 46.7s\n",
      "321:\tlearn: 0.1456401\ttest: 0.1485721\tbest: 0.1485541 (299)\ttotal: 22.3s\tremaining: 46.6s\n",
      "322:\tlearn: 0.1456266\ttest: 0.1485885\tbest: 0.1485541 (299)\ttotal: 22.3s\tremaining: 46.5s\n",
      "323:\tlearn: 0.1456033\ttest: 0.1486017\tbest: 0.1485541 (299)\ttotal: 22.4s\tremaining: 46.5s\n",
      "324:\tlearn: 0.1455827\ttest: 0.1485996\tbest: 0.1485541 (299)\ttotal: 22.5s\tremaining: 46.4s\n",
      "325:\tlearn: 0.1455593\ttest: 0.1485833\tbest: 0.1485541 (299)\ttotal: 22.5s\tremaining: 46.3s\n",
      "326:\tlearn: 0.1455212\ttest: 0.1485503\tbest: 0.1485503 (326)\ttotal: 22.6s\tremaining: 46.3s\n",
      "327:\tlearn: 0.1455128\ttest: 0.1485610\tbest: 0.1485503 (326)\ttotal: 22.7s\tremaining: 46.2s\n",
      "328:\tlearn: 0.1454951\ttest: 0.1485691\tbest: 0.1485503 (326)\ttotal: 22.7s\tremaining: 46.1s\n",
      "329:\tlearn: 0.1454896\ttest: 0.1485694\tbest: 0.1485503 (326)\ttotal: 22.8s\tremaining: 46.1s\n",
      "330:\tlearn: 0.1454685\ttest: 0.1485764\tbest: 0.1485503 (326)\ttotal: 22.9s\tremaining: 46s\n",
      "331:\tlearn: 0.1454362\ttest: 0.1485748\tbest: 0.1485503 (326)\ttotal: 23s\tremaining: 45.9s\n",
      "332:\tlearn: 0.1453963\ttest: 0.1485563\tbest: 0.1485503 (326)\ttotal: 23s\tremaining: 45.8s\n",
      "333:\tlearn: 0.1453829\ttest: 0.1485626\tbest: 0.1485503 (326)\ttotal: 23.1s\tremaining: 45.8s\n",
      "334:\tlearn: 0.1453797\ttest: 0.1485622\tbest: 0.1485503 (326)\ttotal: 23.2s\tremaining: 45.7s\n",
      "335:\tlearn: 0.1453405\ttest: 0.1485568\tbest: 0.1485503 (326)\ttotal: 23.2s\tremaining: 45.6s\n",
      "336:\tlearn: 0.1453367\ttest: 0.1485556\tbest: 0.1485503 (326)\ttotal: 23.3s\tremaining: 45.5s\n",
      "337:\tlearn: 0.1453238\ttest: 0.1485427\tbest: 0.1485427 (337)\ttotal: 23.4s\tremaining: 45.5s\n",
      "338:\tlearn: 0.1452857\ttest: 0.1485383\tbest: 0.1485383 (338)\ttotal: 23.4s\tremaining: 45.4s\n",
      "339:\tlearn: 0.1452787\ttest: 0.1485385\tbest: 0.1485383 (338)\ttotal: 23.5s\tremaining: 45.3s\n",
      "340:\tlearn: 0.1452649\ttest: 0.1485423\tbest: 0.1485383 (338)\ttotal: 23.6s\tremaining: 45.3s\n",
      "341:\tlearn: 0.1452580\ttest: 0.1485412\tbest: 0.1485383 (338)\ttotal: 23.6s\tremaining: 45.2s\n",
      "342:\tlearn: 0.1452128\ttest: 0.1485152\tbest: 0.1485152 (342)\ttotal: 23.7s\tremaining: 45.1s\n",
      "343:\tlearn: 0.1452016\ttest: 0.1485082\tbest: 0.1485082 (343)\ttotal: 23.8s\tremaining: 45s\n",
      "344:\tlearn: 0.1451940\ttest: 0.1485111\tbest: 0.1485082 (343)\ttotal: 23.8s\tremaining: 45s\n",
      "345:\tlearn: 0.1451626\ttest: 0.1484993\tbest: 0.1484993 (345)\ttotal: 23.9s\tremaining: 44.9s\n",
      "346:\tlearn: 0.1451539\ttest: 0.1484710\tbest: 0.1484710 (346)\ttotal: 24s\tremaining: 44.9s\n",
      "347:\tlearn: 0.1451469\ttest: 0.1484772\tbest: 0.1484710 (346)\ttotal: 24s\tremaining: 44.8s\n",
      "348:\tlearn: 0.1451422\ttest: 0.1484818\tbest: 0.1484710 (346)\ttotal: 24.1s\tremaining: 44.7s\n",
      "349:\tlearn: 0.1451124\ttest: 0.1484895\tbest: 0.1484710 (346)\ttotal: 24.2s\tremaining: 44.6s\n",
      "350:\tlearn: 0.1450852\ttest: 0.1484776\tbest: 0.1484710 (346)\ttotal: 24.3s\tremaining: 44.6s\n",
      "351:\tlearn: 0.1450522\ttest: 0.1484864\tbest: 0.1484710 (346)\ttotal: 24.3s\tremaining: 44.5s\n",
      "352:\tlearn: 0.1450335\ttest: 0.1484796\tbest: 0.1484710 (346)\ttotal: 24.4s\tremaining: 44.5s\n",
      "353:\tlearn: 0.1449955\ttest: 0.1485143\tbest: 0.1484710 (346)\ttotal: 24.5s\tremaining: 44.4s\n",
      "354:\tlearn: 0.1449769\ttest: 0.1485287\tbest: 0.1484710 (346)\ttotal: 24.5s\tremaining: 44.3s\n",
      "355:\tlearn: 0.1449518\ttest: 0.1485123\tbest: 0.1484710 (346)\ttotal: 24.6s\tremaining: 44.3s\n",
      "356:\tlearn: 0.1449300\ttest: 0.1485194\tbest: 0.1484710 (346)\ttotal: 24.7s\tremaining: 44.2s\n",
      "357:\tlearn: 0.1449020\ttest: 0.1484993\tbest: 0.1484710 (346)\ttotal: 24.8s\tremaining: 44.1s\n",
      "358:\tlearn: 0.1448884\ttest: 0.1484809\tbest: 0.1484710 (346)\ttotal: 24.8s\tremaining: 44s\n",
      "359:\tlearn: 0.1448595\ttest: 0.1484937\tbest: 0.1484710 (346)\ttotal: 24.9s\tremaining: 44s\n",
      "360:\tlearn: 0.1448455\ttest: 0.1484854\tbest: 0.1484710 (346)\ttotal: 25s\tremaining: 43.9s\n",
      "361:\tlearn: 0.1448313\ttest: 0.1484800\tbest: 0.1484710 (346)\ttotal: 25s\tremaining: 43.9s\n",
      "362:\tlearn: 0.1448190\ttest: 0.1484804\tbest: 0.1484710 (346)\ttotal: 25.1s\tremaining: 43.8s\n",
      "363:\tlearn: 0.1447993\ttest: 0.1484876\tbest: 0.1484710 (346)\ttotal: 25.2s\tremaining: 43.8s\n",
      "364:\tlearn: 0.1447953\ttest: 0.1484911\tbest: 0.1484710 (346)\ttotal: 25.3s\tremaining: 43.7s\n",
      "365:\tlearn: 0.1447905\ttest: 0.1484872\tbest: 0.1484710 (346)\ttotal: 25.3s\tremaining: 43.6s\n",
      "366:\tlearn: 0.1447467\ttest: 0.1484310\tbest: 0.1484310 (366)\ttotal: 25.4s\tremaining: 43.5s\n",
      "367:\tlearn: 0.1447250\ttest: 0.1484423\tbest: 0.1484310 (366)\ttotal: 25.5s\tremaining: 43.4s\n",
      "368:\tlearn: 0.1447142\ttest: 0.1484384\tbest: 0.1484310 (366)\ttotal: 25.5s\tremaining: 43.4s\n",
      "369:\tlearn: 0.1446893\ttest: 0.1484608\tbest: 0.1484310 (366)\ttotal: 25.6s\tremaining: 43.3s\n",
      "370:\tlearn: 0.1446650\ttest: 0.1484458\tbest: 0.1484310 (366)\ttotal: 25.7s\tremaining: 43.3s\n",
      "371:\tlearn: 0.1446412\ttest: 0.1484479\tbest: 0.1484310 (366)\ttotal: 25.8s\tremaining: 43.2s\n",
      "372:\tlearn: 0.1446251\ttest: 0.1484424\tbest: 0.1484310 (366)\ttotal: 25.8s\tremaining: 43.1s\n",
      "373:\tlearn: 0.1446099\ttest: 0.1484402\tbest: 0.1484310 (366)\ttotal: 25.9s\tremaining: 43.1s\n",
      "374:\tlearn: 0.1445885\ttest: 0.1484417\tbest: 0.1484310 (366)\ttotal: 26s\tremaining: 43s\n",
      "375:\tlearn: 0.1445826\ttest: 0.1484330\tbest: 0.1484310 (366)\ttotal: 26s\tremaining: 42.9s\n",
      "376:\tlearn: 0.1445718\ttest: 0.1484277\tbest: 0.1484277 (376)\ttotal: 26.1s\tremaining: 42.8s\n",
      "377:\tlearn: 0.1445656\ttest: 0.1484250\tbest: 0.1484250 (377)\ttotal: 26.1s\tremaining: 42.7s\n",
      "378:\tlearn: 0.1445503\ttest: 0.1484174\tbest: 0.1484174 (378)\ttotal: 26.2s\tremaining: 42.6s\n",
      "379:\tlearn: 0.1445460\ttest: 0.1484180\tbest: 0.1484174 (378)\ttotal: 26.2s\tremaining: 42.5s\n",
      "380:\tlearn: 0.1445311\ttest: 0.1484005\tbest: 0.1484005 (380)\ttotal: 26.3s\tremaining: 42.4s\n",
      "381:\tlearn: 0.1445239\ttest: 0.1484032\tbest: 0.1484005 (380)\ttotal: 26.3s\tremaining: 42.3s\n",
      "382:\tlearn: 0.1445212\ttest: 0.1484001\tbest: 0.1484001 (382)\ttotal: 26.4s\tremaining: 42.3s\n",
      "383:\tlearn: 0.1444996\ttest: 0.1484019\tbest: 0.1484001 (382)\ttotal: 26.5s\tremaining: 42.2s\n",
      "384:\tlearn: 0.1444822\ttest: 0.1483432\tbest: 0.1483432 (384)\ttotal: 26.5s\tremaining: 42.1s\n",
      "385:\tlearn: 0.1444665\ttest: 0.1483437\tbest: 0.1483432 (384)\ttotal: 26.6s\tremaining: 42.1s\n",
      "386:\tlearn: 0.1444483\ttest: 0.1483462\tbest: 0.1483432 (384)\ttotal: 26.7s\tremaining: 42s\n",
      "387:\tlearn: 0.1444219\ttest: 0.1483541\tbest: 0.1483432 (384)\ttotal: 26.7s\tremaining: 41.9s\n",
      "388:\tlearn: 0.1443922\ttest: 0.1483695\tbest: 0.1483432 (384)\ttotal: 26.8s\tremaining: 41.8s\n",
      "389:\tlearn: 0.1443877\ttest: 0.1483698\tbest: 0.1483432 (384)\ttotal: 26.9s\tremaining: 41.7s\n",
      "390:\tlearn: 0.1443664\ttest: 0.1483735\tbest: 0.1483432 (384)\ttotal: 26.9s\tremaining: 41.7s\n",
      "391:\tlearn: 0.1443612\ttest: 0.1483742\tbest: 0.1483432 (384)\ttotal: 27s\tremaining: 41.6s\n",
      "392:\tlearn: 0.1443530\ttest: 0.1483588\tbest: 0.1483432 (384)\ttotal: 27.1s\tremaining: 41.5s\n",
      "393:\tlearn: 0.1443446\ttest: 0.1483596\tbest: 0.1483432 (384)\ttotal: 27.1s\tremaining: 41.5s\n",
      "394:\tlearn: 0.1443165\ttest: 0.1483557\tbest: 0.1483432 (384)\ttotal: 27.2s\tremaining: 41.4s\n",
      "395:\tlearn: 0.1442941\ttest: 0.1483649\tbest: 0.1483432 (384)\ttotal: 27.3s\tremaining: 41.3s\n",
      "396:\tlearn: 0.1442754\ttest: 0.1483679\tbest: 0.1483432 (384)\ttotal: 27.4s\tremaining: 41.3s\n",
      "397:\tlearn: 0.1442474\ttest: 0.1483698\tbest: 0.1483432 (384)\ttotal: 27.4s\tremaining: 41.2s\n",
      "398:\tlearn: 0.1442319\ttest: 0.1483695\tbest: 0.1483432 (384)\ttotal: 27.5s\tremaining: 41.1s\n",
      "399:\tlearn: 0.1442144\ttest: 0.1483713\tbest: 0.1483432 (384)\ttotal: 27.5s\tremaining: 41s\n",
      "400:\tlearn: 0.1441901\ttest: 0.1483725\tbest: 0.1483432 (384)\ttotal: 27.6s\tremaining: 41s\n",
      "401:\tlearn: 0.1441786\ttest: 0.1483679\tbest: 0.1483432 (384)\ttotal: 27.7s\tremaining: 40.9s\n",
      "402:\tlearn: 0.1441495\ttest: 0.1483756\tbest: 0.1483432 (384)\ttotal: 27.7s\tremaining: 40.8s\n",
      "403:\tlearn: 0.1441446\ttest: 0.1483742\tbest: 0.1483432 (384)\ttotal: 27.8s\tremaining: 40.7s\n",
      "404:\tlearn: 0.1441379\ttest: 0.1483781\tbest: 0.1483432 (384)\ttotal: 27.9s\tremaining: 40.7s\n",
      "405:\tlearn: 0.1441246\ttest: 0.1484133\tbest: 0.1483432 (384)\ttotal: 27.9s\tremaining: 40.6s\n",
      "406:\tlearn: 0.1441063\ttest: 0.1484116\tbest: 0.1483432 (384)\ttotal: 28s\tremaining: 40.5s\n",
      "407:\tlearn: 0.1440796\ttest: 0.1484115\tbest: 0.1483432 (384)\ttotal: 28.1s\tremaining: 40.4s\n",
      "408:\tlearn: 0.1440612\ttest: 0.1484162\tbest: 0.1483432 (384)\ttotal: 28.1s\tremaining: 40.4s\n",
      "409:\tlearn: 0.1440359\ttest: 0.1484130\tbest: 0.1483432 (384)\ttotal: 28.2s\tremaining: 40.3s\n",
      "410:\tlearn: 0.1440112\ttest: 0.1484226\tbest: 0.1483432 (384)\ttotal: 28.3s\tremaining: 40.2s\n",
      "411:\tlearn: 0.1439801\ttest: 0.1484307\tbest: 0.1483432 (384)\ttotal: 28.3s\tremaining: 40.1s\n",
      "412:\tlearn: 0.1439714\ttest: 0.1484517\tbest: 0.1483432 (384)\ttotal: 28.4s\tremaining: 40.1s\n",
      "413:\tlearn: 0.1439492\ttest: 0.1484503\tbest: 0.1483432 (384)\ttotal: 28.4s\tremaining: 40s\n",
      "414:\tlearn: 0.1439162\ttest: 0.1484744\tbest: 0.1483432 (384)\ttotal: 28.5s\tremaining: 39.9s\n",
      "415:\tlearn: 0.1438833\ttest: 0.1484691\tbest: 0.1483432 (384)\ttotal: 28.6s\tremaining: 39.8s\n",
      "416:\tlearn: 0.1438747\ttest: 0.1484710\tbest: 0.1483432 (384)\ttotal: 28.6s\tremaining: 39.8s\n",
      "417:\tlearn: 0.1438616\ttest: 0.1484689\tbest: 0.1483432 (384)\ttotal: 28.7s\tremaining: 39.7s\n",
      "418:\tlearn: 0.1438532\ttest: 0.1484669\tbest: 0.1483432 (384)\ttotal: 28.8s\tremaining: 39.6s\n",
      "419:\tlearn: 0.1438430\ttest: 0.1484616\tbest: 0.1483432 (384)\ttotal: 28.8s\tremaining: 39.5s\n",
      "420:\tlearn: 0.1438170\ttest: 0.1484598\tbest: 0.1483432 (384)\ttotal: 28.9s\tremaining: 39.5s\n",
      "421:\tlearn: 0.1438031\ttest: 0.1484640\tbest: 0.1483432 (384)\ttotal: 29s\tremaining: 39.4s\n",
      "422:\tlearn: 0.1437989\ttest: 0.1484576\tbest: 0.1483432 (384)\ttotal: 29s\tremaining: 39.3s\n",
      "423:\tlearn: 0.1437837\ttest: 0.1484653\tbest: 0.1483432 (384)\ttotal: 29.1s\tremaining: 39.3s\n",
      "424:\tlearn: 0.1437612\ttest: 0.1484742\tbest: 0.1483432 (384)\ttotal: 29.2s\tremaining: 39.2s\n",
      "425:\tlearn: 0.1437484\ttest: 0.1484440\tbest: 0.1483432 (384)\ttotal: 29.2s\tremaining: 39.1s\n",
      "426:\tlearn: 0.1437392\ttest: 0.1484462\tbest: 0.1483432 (384)\ttotal: 29.3s\tremaining: 39s\n",
      "427:\tlearn: 0.1437306\ttest: 0.1484457\tbest: 0.1483432 (384)\ttotal: 29.4s\tremaining: 39s\n",
      "428:\tlearn: 0.1436948\ttest: 0.1484505\tbest: 0.1483432 (384)\ttotal: 29.4s\tremaining: 38.9s\n",
      "429:\tlearn: 0.1436758\ttest: 0.1484613\tbest: 0.1483432 (384)\ttotal: 29.5s\tremaining: 38.8s\n",
      "430:\tlearn: 0.1436618\ttest: 0.1484273\tbest: 0.1483432 (384)\ttotal: 29.5s\tremaining: 38.7s\n",
      "431:\tlearn: 0.1436380\ttest: 0.1484094\tbest: 0.1483432 (384)\ttotal: 29.6s\tremaining: 38.7s\n",
      "432:\tlearn: 0.1436200\ttest: 0.1484006\tbest: 0.1483432 (384)\ttotal: 29.7s\tremaining: 38.6s\n",
      "433:\tlearn: 0.1436139\ttest: 0.1484029\tbest: 0.1483432 (384)\ttotal: 29.8s\tremaining: 38.5s\n",
      "434:\tlearn: 0.1435948\ttest: 0.1483950\tbest: 0.1483432 (384)\ttotal: 29.8s\tremaining: 38.5s\n",
      "435:\tlearn: 0.1435818\ttest: 0.1483979\tbest: 0.1483432 (384)\ttotal: 29.9s\tremaining: 38.4s\n",
      "436:\tlearn: 0.1435742\ttest: 0.1483966\tbest: 0.1483432 (384)\ttotal: 30s\tremaining: 38.4s\n",
      "437:\tlearn: 0.1435521\ttest: 0.1483860\tbest: 0.1483432 (384)\ttotal: 30s\tremaining: 38.3s\n",
      "438:\tlearn: 0.1435441\ttest: 0.1483859\tbest: 0.1483432 (384)\ttotal: 30.1s\tremaining: 38.2s\n",
      "439:\tlearn: 0.1435329\ttest: 0.1483793\tbest: 0.1483432 (384)\ttotal: 30.2s\tremaining: 38.2s\n",
      "440:\tlearn: 0.1435245\ttest: 0.1483863\tbest: 0.1483432 (384)\ttotal: 30.3s\tremaining: 38.1s\n",
      "441:\tlearn: 0.1435097\ttest: 0.1483690\tbest: 0.1483432 (384)\ttotal: 30.4s\tremaining: 38s\n",
      "442:\tlearn: 0.1434757\ttest: 0.1483642\tbest: 0.1483432 (384)\ttotal: 30.4s\tremaining: 38s\n",
      "443:\tlearn: 0.1434497\ttest: 0.1483677\tbest: 0.1483432 (384)\ttotal: 30.5s\tremaining: 37.9s\n",
      "444:\tlearn: 0.1434342\ttest: 0.1483796\tbest: 0.1483432 (384)\ttotal: 30.6s\tremaining: 37.8s\n",
      "445:\tlearn: 0.1434098\ttest: 0.1483771\tbest: 0.1483432 (384)\ttotal: 30.6s\tremaining: 37.8s\n",
      "446:\tlearn: 0.1433838\ttest: 0.1483901\tbest: 0.1483432 (384)\ttotal: 30.7s\tremaining: 37.7s\n",
      "447:\tlearn: 0.1433748\ttest: 0.1483857\tbest: 0.1483432 (384)\ttotal: 30.8s\tremaining: 37.6s\n",
      "448:\tlearn: 0.1433534\ttest: 0.1483964\tbest: 0.1483432 (384)\ttotal: 30.8s\tremaining: 37.5s\n",
      "449:\tlearn: 0.1433357\ttest: 0.1483996\tbest: 0.1483432 (384)\ttotal: 30.9s\tremaining: 37.5s\n",
      "450:\tlearn: 0.1433166\ttest: 0.1483955\tbest: 0.1483432 (384)\ttotal: 31s\tremaining: 37.4s\n",
      "451:\tlearn: 0.1432942\ttest: 0.1483923\tbest: 0.1483432 (384)\ttotal: 31s\tremaining: 37.3s\n",
      "452:\tlearn: 0.1432753\ttest: 0.1483862\tbest: 0.1483432 (384)\ttotal: 31.1s\tremaining: 37.3s\n",
      "453:\tlearn: 0.1432507\ttest: 0.1484004\tbest: 0.1483432 (384)\ttotal: 31.2s\tremaining: 37.2s\n",
      "454:\tlearn: 0.1432420\ttest: 0.1483990\tbest: 0.1483432 (384)\ttotal: 31.2s\tremaining: 37.1s\n",
      "455:\tlearn: 0.1432339\ttest: 0.1484009\tbest: 0.1483432 (384)\ttotal: 31.3s\tremaining: 37s\n",
      "456:\tlearn: 0.1432037\ttest: 0.1484005\tbest: 0.1483432 (384)\ttotal: 31.4s\tremaining: 37s\n",
      "457:\tlearn: 0.1431921\ttest: 0.1484022\tbest: 0.1483432 (384)\ttotal: 31.4s\tremaining: 36.9s\n",
      "458:\tlearn: 0.1431700\ttest: 0.1483955\tbest: 0.1483432 (384)\ttotal: 31.5s\tremaining: 36.8s\n",
      "459:\tlearn: 0.1431639\ttest: 0.1483874\tbest: 0.1483432 (384)\ttotal: 31.5s\tremaining: 36.8s\n",
      "460:\tlearn: 0.1431602\ttest: 0.1483883\tbest: 0.1483432 (384)\ttotal: 31.6s\tremaining: 36.7s\n",
      "461:\tlearn: 0.1431516\ttest: 0.1483908\tbest: 0.1483432 (384)\ttotal: 31.7s\tremaining: 36.6s\n",
      "462:\tlearn: 0.1431456\ttest: 0.1483886\tbest: 0.1483432 (384)\ttotal: 31.8s\tremaining: 36.6s\n",
      "463:\tlearn: 0.1431204\ttest: 0.1483942\tbest: 0.1483432 (384)\ttotal: 31.8s\tremaining: 36.5s\n",
      "464:\tlearn: 0.1431032\ttest: 0.1483864\tbest: 0.1483432 (384)\ttotal: 31.9s\tremaining: 36.4s\n",
      "465:\tlearn: 0.1430712\ttest: 0.1483815\tbest: 0.1483432 (384)\ttotal: 32s\tremaining: 36.3s\n",
      "466:\tlearn: 0.1430596\ttest: 0.1483805\tbest: 0.1483432 (384)\ttotal: 32s\tremaining: 36.3s\n",
      "467:\tlearn: 0.1430380\ttest: 0.1484182\tbest: 0.1483432 (384)\ttotal: 32.1s\tremaining: 36.2s\n",
      "468:\tlearn: 0.1430253\ttest: 0.1484115\tbest: 0.1483432 (384)\ttotal: 32.2s\tremaining: 36.2s\n",
      "469:\tlearn: 0.1430144\ttest: 0.1484124\tbest: 0.1483432 (384)\ttotal: 32.3s\tremaining: 36.1s\n",
      "470:\tlearn: 0.1429971\ttest: 0.1484147\tbest: 0.1483432 (384)\ttotal: 32.3s\tremaining: 36s\n",
      "471:\tlearn: 0.1429784\ttest: 0.1484172\tbest: 0.1483432 (384)\ttotal: 32.4s\tremaining: 36s\n",
      "472:\tlearn: 0.1429686\ttest: 0.1484156\tbest: 0.1483432 (384)\ttotal: 32.5s\tremaining: 35.9s\n",
      "473:\tlearn: 0.1429551\ttest: 0.1484048\tbest: 0.1483432 (384)\ttotal: 32.5s\tremaining: 35.8s\n",
      "474:\tlearn: 0.1429386\ttest: 0.1484102\tbest: 0.1483432 (384)\ttotal: 32.6s\tremaining: 35.7s\n",
      "475:\tlearn: 0.1429225\ttest: 0.1484143\tbest: 0.1483432 (384)\ttotal: 32.6s\tremaining: 35.7s\n",
      "476:\tlearn: 0.1428996\ttest: 0.1484191\tbest: 0.1483432 (384)\ttotal: 32.7s\tremaining: 35.6s\n",
      "477:\tlearn: 0.1428768\ttest: 0.1484215\tbest: 0.1483432 (384)\ttotal: 32.8s\tremaining: 35.5s\n",
      "478:\tlearn: 0.1428690\ttest: 0.1484243\tbest: 0.1483432 (384)\ttotal: 32.8s\tremaining: 35.4s\n",
      "479:\tlearn: 0.1428620\ttest: 0.1484252\tbest: 0.1483432 (384)\ttotal: 32.9s\tremaining: 35.4s\n",
      "480:\tlearn: 0.1428321\ttest: 0.1484405\tbest: 0.1483432 (384)\ttotal: 33s\tremaining: 35.3s\n",
      "481:\tlearn: 0.1428235\ttest: 0.1484481\tbest: 0.1483432 (384)\ttotal: 33s\tremaining: 35.2s\n",
      "482:\tlearn: 0.1428167\ttest: 0.1484501\tbest: 0.1483432 (384)\ttotal: 33.1s\tremaining: 35.2s\n",
      "483:\tlearn: 0.1428130\ttest: 0.1484479\tbest: 0.1483432 (384)\ttotal: 33.2s\tremaining: 35.1s\n",
      "484:\tlearn: 0.1428014\ttest: 0.1484448\tbest: 0.1483432 (384)\ttotal: 33.2s\tremaining: 35s\n",
      "485:\tlearn: 0.1427979\ttest: 0.1484456\tbest: 0.1483432 (384)\ttotal: 33.3s\tremaining: 34.9s\n",
      "486:\tlearn: 0.1427819\ttest: 0.1484344\tbest: 0.1483432 (384)\ttotal: 33.4s\tremaining: 34.9s\n",
      "487:\tlearn: 0.1427622\ttest: 0.1484323\tbest: 0.1483432 (384)\ttotal: 33.4s\tremaining: 34.8s\n",
      "488:\tlearn: 0.1427503\ttest: 0.1484326\tbest: 0.1483432 (384)\ttotal: 33.5s\tremaining: 34.8s\n",
      "489:\tlearn: 0.1427125\ttest: 0.1484065\tbest: 0.1483432 (384)\ttotal: 33.6s\tremaining: 34.7s\n",
      "490:\tlearn: 0.1426898\ttest: 0.1484072\tbest: 0.1483432 (384)\ttotal: 33.6s\tremaining: 34.6s\n",
      "491:\tlearn: 0.1426722\ttest: 0.1484050\tbest: 0.1483432 (384)\ttotal: 33.7s\tremaining: 34.5s\n",
      "492:\tlearn: 0.1426633\ttest: 0.1484041\tbest: 0.1483432 (384)\ttotal: 33.8s\tremaining: 34.5s\n",
      "493:\tlearn: 0.1426510\ttest: 0.1483932\tbest: 0.1483432 (384)\ttotal: 33.9s\tremaining: 34.4s\n",
      "494:\tlearn: 0.1426433\ttest: 0.1483962\tbest: 0.1483432 (384)\ttotal: 33.9s\tremaining: 34.3s\n",
      "495:\tlearn: 0.1426259\ttest: 0.1483975\tbest: 0.1483432 (384)\ttotal: 34s\tremaining: 34.3s\n",
      "496:\tlearn: 0.1426050\ttest: 0.1483970\tbest: 0.1483432 (384)\ttotal: 34s\tremaining: 34.2s\n",
      "497:\tlearn: 0.1425919\ttest: 0.1483922\tbest: 0.1483432 (384)\ttotal: 34.1s\tremaining: 34.1s\n",
      "498:\tlearn: 0.1425726\ttest: 0.1483898\tbest: 0.1483432 (384)\ttotal: 34.2s\tremaining: 34.1s\n",
      "499:\tlearn: 0.1425678\ttest: 0.1483858\tbest: 0.1483432 (384)\ttotal: 34.3s\tremaining: 34s\n",
      "500:\tlearn: 0.1425525\ttest: 0.1483795\tbest: 0.1483432 (384)\ttotal: 34.3s\tremaining: 33.9s\n",
      "501:\tlearn: 0.1425439\ttest: 0.1483765\tbest: 0.1483432 (384)\ttotal: 34.4s\tremaining: 33.8s\n",
      "502:\tlearn: 0.1425357\ttest: 0.1483763\tbest: 0.1483432 (384)\ttotal: 34.4s\tremaining: 33.8s\n",
      "503:\tlearn: 0.1425172\ttest: 0.1483675\tbest: 0.1483432 (384)\ttotal: 34.5s\tremaining: 33.7s\n",
      "504:\tlearn: 0.1425055\ttest: 0.1483746\tbest: 0.1483432 (384)\ttotal: 34.6s\tremaining: 33.6s\n",
      "505:\tlearn: 0.1424838\ttest: 0.1483753\tbest: 0.1483432 (384)\ttotal: 34.6s\tremaining: 33.5s\n",
      "506:\tlearn: 0.1424758\ttest: 0.1483839\tbest: 0.1483432 (384)\ttotal: 34.7s\tremaining: 33.5s\n",
      "507:\tlearn: 0.1424630\ttest: 0.1483805\tbest: 0.1483432 (384)\ttotal: 34.8s\tremaining: 33.4s\n",
      "508:\tlearn: 0.1424453\ttest: 0.1483728\tbest: 0.1483432 (384)\ttotal: 34.9s\tremaining: 33.4s\n",
      "509:\tlearn: 0.1424354\ttest: 0.1483811\tbest: 0.1483432 (384)\ttotal: 34.9s\tremaining: 33.3s\n",
      "510:\tlearn: 0.1424176\ttest: 0.1483841\tbest: 0.1483432 (384)\ttotal: 35s\tremaining: 33.2s\n",
      "511:\tlearn: 0.1424071\ttest: 0.1483805\tbest: 0.1483432 (384)\ttotal: 35.1s\tremaining: 33.2s\n",
      "512:\tlearn: 0.1423960\ttest: 0.1483899\tbest: 0.1483432 (384)\ttotal: 35.2s\tremaining: 33.1s\n",
      "513:\tlearn: 0.1423806\ttest: 0.1483709\tbest: 0.1483432 (384)\ttotal: 35.3s\tremaining: 33.1s\n",
      "514:\tlearn: 0.1423443\ttest: 0.1483951\tbest: 0.1483432 (384)\ttotal: 35.4s\tremaining: 33s\n",
      "515:\tlearn: 0.1423179\ttest: 0.1484116\tbest: 0.1483432 (384)\ttotal: 35.5s\tremaining: 33s\n",
      "516:\tlearn: 0.1422946\ttest: 0.1483960\tbest: 0.1483432 (384)\ttotal: 35.6s\tremaining: 33s\n",
      "517:\tlearn: 0.1422786\ttest: 0.1483959\tbest: 0.1483432 (384)\ttotal: 35.7s\tremaining: 32.9s\n",
      "518:\tlearn: 0.1422537\ttest: 0.1483960\tbest: 0.1483432 (384)\ttotal: 35.8s\tremaining: 32.9s\n",
      "519:\tlearn: 0.1422245\ttest: 0.1484164\tbest: 0.1483432 (384)\ttotal: 35.9s\tremaining: 32.8s\n",
      "520:\tlearn: 0.1422068\ttest: 0.1484177\tbest: 0.1483432 (384)\ttotal: 36s\tremaining: 32.8s\n",
      "521:\tlearn: 0.1422010\ttest: 0.1484166\tbest: 0.1483432 (384)\ttotal: 36.1s\tremaining: 32.8s\n",
      "522:\tlearn: 0.1421826\ttest: 0.1484227\tbest: 0.1483432 (384)\ttotal: 36.2s\tremaining: 32.7s\n",
      "523:\tlearn: 0.1421633\ttest: 0.1484087\tbest: 0.1483432 (384)\ttotal: 36.2s\tremaining: 32.6s\n",
      "524:\tlearn: 0.1421421\ttest: 0.1484128\tbest: 0.1483432 (384)\ttotal: 36.3s\tremaining: 32.6s\n",
      "525:\tlearn: 0.1421219\ttest: 0.1484233\tbest: 0.1483432 (384)\ttotal: 36.4s\tremaining: 32.6s\n",
      "526:\tlearn: 0.1421165\ttest: 0.1484221\tbest: 0.1483432 (384)\ttotal: 36.5s\tremaining: 32.5s\n",
      "527:\tlearn: 0.1420980\ttest: 0.1484194\tbest: 0.1483432 (384)\ttotal: 36.6s\tremaining: 32.4s\n",
      "528:\tlearn: 0.1420797\ttest: 0.1484122\tbest: 0.1483432 (384)\ttotal: 36.7s\tremaining: 32.4s\n",
      "529:\tlearn: 0.1420646\ttest: 0.1484061\tbest: 0.1483432 (384)\ttotal: 36.8s\tremaining: 32.4s\n",
      "530:\tlearn: 0.1420487\ttest: 0.1484092\tbest: 0.1483432 (384)\ttotal: 36.9s\tremaining: 32.3s\n",
      "531:\tlearn: 0.1420407\ttest: 0.1484110\tbest: 0.1483432 (384)\ttotal: 37s\tremaining: 32.3s\n",
      "532:\tlearn: 0.1420398\ttest: 0.1484113\tbest: 0.1483432 (384)\ttotal: 37.1s\tremaining: 32.2s\n",
      "533:\tlearn: 0.1420257\ttest: 0.1484160\tbest: 0.1483432 (384)\ttotal: 37.1s\tremaining: 32.1s\n",
      "534:\tlearn: 0.1420073\ttest: 0.1484227\tbest: 0.1483432 (384)\ttotal: 37.2s\tremaining: 32s\n",
      "535:\tlearn: 0.1419965\ttest: 0.1484290\tbest: 0.1483432 (384)\ttotal: 37.3s\tremaining: 32s\n",
      "536:\tlearn: 0.1419864\ttest: 0.1484265\tbest: 0.1483432 (384)\ttotal: 37.3s\tremaining: 31.9s\n",
      "537:\tlearn: 0.1419827\ttest: 0.1484241\tbest: 0.1483432 (384)\ttotal: 37.4s\tremaining: 31.8s\n",
      "538:\tlearn: 0.1419702\ttest: 0.1484241\tbest: 0.1483432 (384)\ttotal: 37.5s\tremaining: 31.8s\n",
      "539:\tlearn: 0.1419625\ttest: 0.1484247\tbest: 0.1483432 (384)\ttotal: 37.5s\tremaining: 31.7s\n",
      "540:\tlearn: 0.1419481\ttest: 0.1484235\tbest: 0.1483432 (384)\ttotal: 37.6s\tremaining: 31.6s\n",
      "541:\tlearn: 0.1419388\ttest: 0.1484228\tbest: 0.1483432 (384)\ttotal: 37.6s\tremaining: 31.5s\n",
      "542:\tlearn: 0.1419289\ttest: 0.1484235\tbest: 0.1483432 (384)\ttotal: 37.7s\tremaining: 31.5s\n",
      "543:\tlearn: 0.1419193\ttest: 0.1484274\tbest: 0.1483432 (384)\ttotal: 37.8s\tremaining: 31.4s\n",
      "544:\tlearn: 0.1419036\ttest: 0.1484168\tbest: 0.1483432 (384)\ttotal: 37.9s\tremaining: 31.3s\n",
      "545:\tlearn: 0.1418781\ttest: 0.1484300\tbest: 0.1483432 (384)\ttotal: 37.9s\tremaining: 31.3s\n",
      "546:\tlearn: 0.1418655\ttest: 0.1484255\tbest: 0.1483432 (384)\ttotal: 38s\tremaining: 31.2s\n",
      "547:\tlearn: 0.1418600\ttest: 0.1484256\tbest: 0.1483432 (384)\ttotal: 38s\tremaining: 31.1s\n",
      "548:\tlearn: 0.1418467\ttest: 0.1484216\tbest: 0.1483432 (384)\ttotal: 38.1s\tremaining: 31s\n",
      "549:\tlearn: 0.1418301\ttest: 0.1484185\tbest: 0.1483432 (384)\ttotal: 38.2s\tremaining: 31s\n",
      "550:\tlearn: 0.1418161\ttest: 0.1484153\tbest: 0.1483432 (384)\ttotal: 38.2s\tremaining: 30.9s\n",
      "551:\tlearn: 0.1418065\ttest: 0.1484107\tbest: 0.1483432 (384)\ttotal: 38.3s\tremaining: 30.8s\n",
      "552:\tlearn: 0.1417641\ttest: 0.1484169\tbest: 0.1483432 (384)\ttotal: 38.4s\tremaining: 30.8s\n",
      "553:\tlearn: 0.1417489\ttest: 0.1484041\tbest: 0.1483432 (384)\ttotal: 38.5s\tremaining: 30.7s\n",
      "554:\tlearn: 0.1417215\ttest: 0.1483855\tbest: 0.1483432 (384)\ttotal: 38.5s\tremaining: 30.6s\n",
      "555:\tlearn: 0.1417022\ttest: 0.1483825\tbest: 0.1483432 (384)\ttotal: 38.6s\tremaining: 30.5s\n",
      "556:\tlearn: 0.1416817\ttest: 0.1483750\tbest: 0.1483432 (384)\ttotal: 38.7s\tremaining: 30.5s\n",
      "557:\tlearn: 0.1416666\ttest: 0.1483796\tbest: 0.1483432 (384)\ttotal: 38.7s\tremaining: 30.4s\n",
      "558:\tlearn: 0.1416592\ttest: 0.1483779\tbest: 0.1483432 (384)\ttotal: 38.8s\tremaining: 30.3s\n",
      "559:\tlearn: 0.1416540\ttest: 0.1483797\tbest: 0.1483432 (384)\ttotal: 38.9s\tremaining: 30.3s\n",
      "560:\tlearn: 0.1416364\ttest: 0.1483771\tbest: 0.1483432 (384)\ttotal: 39s\tremaining: 30.2s\n",
      "561:\tlearn: 0.1416285\ttest: 0.1483789\tbest: 0.1483432 (384)\ttotal: 39s\tremaining: 30.1s\n",
      "562:\tlearn: 0.1416167\ttest: 0.1483806\tbest: 0.1483432 (384)\ttotal: 39.1s\tremaining: 30.1s\n",
      "563:\tlearn: 0.1416112\ttest: 0.1483773\tbest: 0.1483432 (384)\ttotal: 39.1s\tremaining: 30s\n",
      "564:\tlearn: 0.1415971\ttest: 0.1483882\tbest: 0.1483432 (384)\ttotal: 39.2s\tremaining: 29.9s\n",
      "565:\tlearn: 0.1415852\ttest: 0.1483832\tbest: 0.1483432 (384)\ttotal: 39.3s\tremaining: 29.8s\n",
      "566:\tlearn: 0.1415779\ttest: 0.1483789\tbest: 0.1483432 (384)\ttotal: 39.3s\tremaining: 29.8s\n",
      "567:\tlearn: 0.1415571\ttest: 0.1483659\tbest: 0.1483432 (384)\ttotal: 39.4s\tremaining: 29.7s\n",
      "568:\tlearn: 0.1415391\ttest: 0.1483527\tbest: 0.1483432 (384)\ttotal: 39.5s\tremaining: 29.6s\n",
      "569:\tlearn: 0.1415278\ttest: 0.1483563\tbest: 0.1483432 (384)\ttotal: 39.5s\tremaining: 29.6s\n",
      "570:\tlearn: 0.1415204\ttest: 0.1483590\tbest: 0.1483432 (384)\ttotal: 39.6s\tremaining: 29.5s\n",
      "571:\tlearn: 0.1415073\ttest: 0.1483343\tbest: 0.1483343 (571)\ttotal: 39.7s\tremaining: 29.4s\n",
      "572:\tlearn: 0.1415027\ttest: 0.1483348\tbest: 0.1483343 (571)\ttotal: 39.8s\tremaining: 29.4s\n",
      "573:\tlearn: 0.1414916\ttest: 0.1483076\tbest: 0.1483076 (573)\ttotal: 39.8s\tremaining: 29.3s\n",
      "574:\tlearn: 0.1414783\ttest: 0.1483121\tbest: 0.1483076 (573)\ttotal: 39.9s\tremaining: 29.2s\n",
      "575:\tlearn: 0.1414702\ttest: 0.1483131\tbest: 0.1483076 (573)\ttotal: 40s\tremaining: 29.2s\n",
      "576:\tlearn: 0.1414623\ttest: 0.1483165\tbest: 0.1483076 (573)\ttotal: 40.1s\tremaining: 29.1s\n",
      "577:\tlearn: 0.1414387\ttest: 0.1483252\tbest: 0.1483076 (573)\ttotal: 40.2s\tremaining: 29.1s\n",
      "578:\tlearn: 0.1414303\ttest: 0.1483262\tbest: 0.1483076 (573)\ttotal: 40.3s\tremaining: 29s\n",
      "579:\tlearn: 0.1414211\ttest: 0.1483414\tbest: 0.1483076 (573)\ttotal: 40.3s\tremaining: 28.9s\n",
      "580:\tlearn: 0.1414049\ttest: 0.1483462\tbest: 0.1483076 (573)\ttotal: 40.4s\tremaining: 28.9s\n",
      "581:\tlearn: 0.1413979\ttest: 0.1483488\tbest: 0.1483076 (573)\ttotal: 40.5s\tremaining: 28.8s\n",
      "582:\tlearn: 0.1413835\ttest: 0.1483512\tbest: 0.1483076 (573)\ttotal: 40.5s\tremaining: 28.7s\n",
      "583:\tlearn: 0.1413615\ttest: 0.1483503\tbest: 0.1483076 (573)\ttotal: 40.6s\tremaining: 28.7s\n",
      "584:\tlearn: 0.1413485\ttest: 0.1483515\tbest: 0.1483076 (573)\ttotal: 40.7s\tremaining: 28.6s\n",
      "585:\tlearn: 0.1413182\ttest: 0.1483514\tbest: 0.1483076 (573)\ttotal: 40.8s\tremaining: 28.5s\n",
      "586:\tlearn: 0.1413126\ttest: 0.1483513\tbest: 0.1483076 (573)\ttotal: 40.8s\tremaining: 28.4s\n",
      "587:\tlearn: 0.1412878\ttest: 0.1483566\tbest: 0.1483076 (573)\ttotal: 40.9s\tremaining: 28.4s\n",
      "588:\tlearn: 0.1412668\ttest: 0.1483563\tbest: 0.1483076 (573)\ttotal: 41s\tremaining: 28.3s\n",
      "589:\tlearn: 0.1412475\ttest: 0.1483719\tbest: 0.1483076 (573)\ttotal: 41s\tremaining: 28.2s\n",
      "590:\tlearn: 0.1412416\ttest: 0.1483745\tbest: 0.1483076 (573)\ttotal: 41.1s\tremaining: 28.2s\n",
      "591:\tlearn: 0.1412343\ttest: 0.1483747\tbest: 0.1483076 (573)\ttotal: 41.2s\tremaining: 28.1s\n",
      "592:\tlearn: 0.1412308\ttest: 0.1483694\tbest: 0.1483076 (573)\ttotal: 41.2s\tremaining: 28s\n",
      "593:\tlearn: 0.1412252\ttest: 0.1483666\tbest: 0.1483076 (573)\ttotal: 41.3s\tremaining: 28s\n",
      "594:\tlearn: 0.1412076\ttest: 0.1483683\tbest: 0.1483076 (573)\ttotal: 41.4s\tremaining: 27.9s\n",
      "595:\tlearn: 0.1411975\ttest: 0.1483598\tbest: 0.1483076 (573)\ttotal: 41.5s\tremaining: 27.8s\n",
      "596:\tlearn: 0.1411907\ttest: 0.1483562\tbest: 0.1483076 (573)\ttotal: 41.5s\tremaining: 27.8s\n",
      "597:\tlearn: 0.1411633\ttest: 0.1483667\tbest: 0.1483076 (573)\ttotal: 41.6s\tremaining: 27.7s\n",
      "598:\tlearn: 0.1411551\ttest: 0.1483605\tbest: 0.1483076 (573)\ttotal: 41.7s\tremaining: 27.6s\n",
      "599:\tlearn: 0.1411414\ttest: 0.1483590\tbest: 0.1483076 (573)\ttotal: 41.7s\tremaining: 27.5s\n",
      "600:\tlearn: 0.1411213\ttest: 0.1483868\tbest: 0.1483076 (573)\ttotal: 41.8s\tremaining: 27.5s\n",
      "601:\tlearn: 0.1411097\ttest: 0.1483874\tbest: 0.1483076 (573)\ttotal: 41.9s\tremaining: 27.4s\n",
      "602:\tlearn: 0.1410999\ttest: 0.1483805\tbest: 0.1483076 (573)\ttotal: 41.9s\tremaining: 27.3s\n",
      "603:\tlearn: 0.1410951\ttest: 0.1483814\tbest: 0.1483076 (573)\ttotal: 42s\tremaining: 27.3s\n",
      "604:\tlearn: 0.1410861\ttest: 0.1483825\tbest: 0.1483076 (573)\ttotal: 42.1s\tremaining: 27.2s\n",
      "605:\tlearn: 0.1410762\ttest: 0.1483918\tbest: 0.1483076 (573)\ttotal: 42.1s\tremaining: 27.1s\n",
      "606:\tlearn: 0.1410712\ttest: 0.1483909\tbest: 0.1483076 (573)\ttotal: 42.2s\tremaining: 27.1s\n",
      "607:\tlearn: 0.1410667\ttest: 0.1483855\tbest: 0.1483076 (573)\ttotal: 42.3s\tremaining: 27s\n",
      "608:\tlearn: 0.1410553\ttest: 0.1483867\tbest: 0.1483076 (573)\ttotal: 42.4s\tremaining: 26.9s\n",
      "609:\tlearn: 0.1410376\ttest: 0.1483903\tbest: 0.1483076 (573)\ttotal: 42.4s\tremaining: 26.8s\n",
      "610:\tlearn: 0.1410301\ttest: 0.1483957\tbest: 0.1483076 (573)\ttotal: 42.5s\tremaining: 26.8s\n",
      "611:\tlearn: 0.1410130\ttest: 0.1483979\tbest: 0.1483076 (573)\ttotal: 42.5s\tremaining: 26.7s\n",
      "612:\tlearn: 0.1409994\ttest: 0.1483995\tbest: 0.1483076 (573)\ttotal: 42.6s\tremaining: 26.6s\n",
      "613:\tlearn: 0.1409909\ttest: 0.1483996\tbest: 0.1483076 (573)\ttotal: 42.7s\tremaining: 26.6s\n",
      "614:\tlearn: 0.1409717\ttest: 0.1484136\tbest: 0.1483076 (573)\ttotal: 42.8s\tremaining: 26.5s\n",
      "615:\tlearn: 0.1409588\ttest: 0.1484170\tbest: 0.1483076 (573)\ttotal: 42.8s\tremaining: 26.4s\n",
      "616:\tlearn: 0.1409313\ttest: 0.1484065\tbest: 0.1483076 (573)\ttotal: 42.9s\tremaining: 26.4s\n",
      "617:\tlearn: 0.1409151\ttest: 0.1483931\tbest: 0.1483076 (573)\ttotal: 43s\tremaining: 26.3s\n",
      "618:\tlearn: 0.1408909\ttest: 0.1484018\tbest: 0.1483076 (573)\ttotal: 43.1s\tremaining: 26.2s\n",
      "619:\tlearn: 0.1408708\ttest: 0.1484084\tbest: 0.1483076 (573)\ttotal: 43.1s\tremaining: 26.1s\n",
      "620:\tlearn: 0.1408597\ttest: 0.1484351\tbest: 0.1483076 (573)\ttotal: 43.2s\tremaining: 26.1s\n",
      "621:\tlearn: 0.1408358\ttest: 0.1484430\tbest: 0.1483076 (573)\ttotal: 43.3s\tremaining: 26s\n",
      "622:\tlearn: 0.1408200\ttest: 0.1484452\tbest: 0.1483076 (573)\ttotal: 43.3s\tremaining: 25.9s\n",
      "623:\tlearn: 0.1408039\ttest: 0.1484457\tbest: 0.1483076 (573)\ttotal: 43.4s\tremaining: 25.9s\n",
      "624:\tlearn: 0.1407984\ttest: 0.1484509\tbest: 0.1483076 (573)\ttotal: 43.5s\tremaining: 25.8s\n",
      "625:\tlearn: 0.1407658\ttest: 0.1484652\tbest: 0.1483076 (573)\ttotal: 43.5s\tremaining: 25.7s\n",
      "626:\tlearn: 0.1407546\ttest: 0.1484621\tbest: 0.1483076 (573)\ttotal: 43.6s\tremaining: 25.6s\n",
      "627:\tlearn: 0.1407519\ttest: 0.1484647\tbest: 0.1483076 (573)\ttotal: 43.6s\tremaining: 25.6s\n",
      "628:\tlearn: 0.1407422\ttest: 0.1484677\tbest: 0.1483076 (573)\ttotal: 43.7s\tremaining: 25.5s\n",
      "629:\tlearn: 0.1407166\ttest: 0.1484960\tbest: 0.1483076 (573)\ttotal: 43.8s\tremaining: 25.4s\n",
      "630:\tlearn: 0.1407097\ttest: 0.1484920\tbest: 0.1483076 (573)\ttotal: 43.8s\tremaining: 25.4s\n",
      "631:\tlearn: 0.1406980\ttest: 0.1484944\tbest: 0.1483076 (573)\ttotal: 43.9s\tremaining: 25.3s\n",
      "632:\tlearn: 0.1406833\ttest: 0.1484962\tbest: 0.1483076 (573)\ttotal: 44s\tremaining: 25.2s\n",
      "633:\tlearn: 0.1406681\ttest: 0.1484952\tbest: 0.1483076 (573)\ttotal: 44.1s\tremaining: 25.2s\n",
      "634:\tlearn: 0.1406633\ttest: 0.1484977\tbest: 0.1483076 (573)\ttotal: 44.1s\tremaining: 25.1s\n",
      "635:\tlearn: 0.1406564\ttest: 0.1484982\tbest: 0.1483076 (573)\ttotal: 44.2s\tremaining: 25s\n",
      "636:\tlearn: 0.1406418\ttest: 0.1485022\tbest: 0.1483076 (573)\ttotal: 44.3s\tremaining: 25s\n",
      "637:\tlearn: 0.1406264\ttest: 0.1485036\tbest: 0.1483076 (573)\ttotal: 44.3s\tremaining: 24.9s\n",
      "638:\tlearn: 0.1406136\ttest: 0.1485045\tbest: 0.1483076 (573)\ttotal: 44.4s\tremaining: 24.8s\n",
      "639:\tlearn: 0.1405953\ttest: 0.1484980\tbest: 0.1483076 (573)\ttotal: 44.5s\tremaining: 24.7s\n",
      "640:\tlearn: 0.1405388\ttest: 0.1485458\tbest: 0.1483076 (573)\ttotal: 44.5s\tremaining: 24.7s\n",
      "641:\tlearn: 0.1405232\ttest: 0.1485508\tbest: 0.1483076 (573)\ttotal: 44.6s\tremaining: 24.6s\n",
      "642:\tlearn: 0.1405109\ttest: 0.1485593\tbest: 0.1483076 (573)\ttotal: 44.7s\tremaining: 24.5s\n",
      "643:\tlearn: 0.1404856\ttest: 0.1485426\tbest: 0.1483076 (573)\ttotal: 44.7s\tremaining: 24.4s\n",
      "644:\tlearn: 0.1404758\ttest: 0.1485449\tbest: 0.1483076 (573)\ttotal: 44.8s\tremaining: 24.4s\n",
      "645:\tlearn: 0.1404653\ttest: 0.1485509\tbest: 0.1483076 (573)\ttotal: 44.9s\tremaining: 24.3s\n",
      "646:\tlearn: 0.1404465\ttest: 0.1485601\tbest: 0.1483076 (573)\ttotal: 44.9s\tremaining: 24.2s\n",
      "647:\tlearn: 0.1404349\ttest: 0.1485485\tbest: 0.1483076 (573)\ttotal: 45s\tremaining: 24.2s\n",
      "648:\tlearn: 0.1404308\ttest: 0.1485475\tbest: 0.1483076 (573)\ttotal: 45.1s\tremaining: 24.1s\n",
      "649:\tlearn: 0.1404164\ttest: 0.1485466\tbest: 0.1483076 (573)\ttotal: 45.1s\tremaining: 24s\n",
      "650:\tlearn: 0.1404093\ttest: 0.1485418\tbest: 0.1483076 (573)\ttotal: 45.2s\tremaining: 23.9s\n",
      "651:\tlearn: 0.1403967\ttest: 0.1485433\tbest: 0.1483076 (573)\ttotal: 45.2s\tremaining: 23.9s\n",
      "652:\tlearn: 0.1403867\ttest: 0.1485388\tbest: 0.1483076 (573)\ttotal: 45.3s\tremaining: 23.8s\n",
      "653:\tlearn: 0.1403743\ttest: 0.1485272\tbest: 0.1483076 (573)\ttotal: 45.4s\tremaining: 23.7s\n",
      "654:\tlearn: 0.1403686\ttest: 0.1485261\tbest: 0.1483076 (573)\ttotal: 45.4s\tremaining: 23.7s\n",
      "655:\tlearn: 0.1403594\ttest: 0.1485259\tbest: 0.1483076 (573)\ttotal: 45.5s\tremaining: 23.6s\n",
      "656:\tlearn: 0.1403490\ttest: 0.1485291\tbest: 0.1483076 (573)\ttotal: 45.6s\tremaining: 23.5s\n",
      "657:\tlearn: 0.1403328\ttest: 0.1485290\tbest: 0.1483076 (573)\ttotal: 45.7s\tremaining: 23.5s\n",
      "658:\tlearn: 0.1403094\ttest: 0.1485304\tbest: 0.1483076 (573)\ttotal: 45.7s\tremaining: 23.4s\n",
      "659:\tlearn: 0.1403017\ttest: 0.1485307\tbest: 0.1483076 (573)\ttotal: 45.8s\tremaining: 23.3s\n",
      "660:\tlearn: 0.1402913\ttest: 0.1485387\tbest: 0.1483076 (573)\ttotal: 45.9s\tremaining: 23.2s\n",
      "661:\tlearn: 0.1402857\ttest: 0.1485314\tbest: 0.1483076 (573)\ttotal: 45.9s\tremaining: 23.2s\n",
      "662:\tlearn: 0.1402598\ttest: 0.1485334\tbest: 0.1483076 (573)\ttotal: 46s\tremaining: 23.1s\n",
      "663:\tlearn: 0.1402342\ttest: 0.1485451\tbest: 0.1483076 (573)\ttotal: 46.1s\tremaining: 23s\n",
      "664:\tlearn: 0.1402235\ttest: 0.1485470\tbest: 0.1483076 (573)\ttotal: 46.1s\tremaining: 23s\n",
      "665:\tlearn: 0.1402016\ttest: 0.1485567\tbest: 0.1483076 (573)\ttotal: 46.2s\tremaining: 22.9s\n",
      "666:\tlearn: 0.1401928\ttest: 0.1485531\tbest: 0.1483076 (573)\ttotal: 46.3s\tremaining: 22.8s\n",
      "667:\tlearn: 0.1401778\ttest: 0.1485749\tbest: 0.1483076 (573)\ttotal: 46.4s\tremaining: 22.8s\n",
      "668:\tlearn: 0.1401597\ttest: 0.1485776\tbest: 0.1483076 (573)\ttotal: 46.4s\tremaining: 22.7s\n",
      "669:\tlearn: 0.1401500\ttest: 0.1485802\tbest: 0.1483076 (573)\ttotal: 46.5s\tremaining: 22.6s\n",
      "670:\tlearn: 0.1401239\ttest: 0.1485715\tbest: 0.1483076 (573)\ttotal: 46.5s\tremaining: 22.5s\n",
      "671:\tlearn: 0.1401079\ttest: 0.1485761\tbest: 0.1483076 (573)\ttotal: 46.6s\tremaining: 22.5s\n",
      "672:\tlearn: 0.1400936\ttest: 0.1485705\tbest: 0.1483076 (573)\ttotal: 46.7s\tremaining: 22.4s\n",
      "673:\tlearn: 0.1400743\ttest: 0.1485864\tbest: 0.1483076 (573)\ttotal: 46.8s\tremaining: 22.3s\n",
      "674:\tlearn: 0.1400531\ttest: 0.1485883\tbest: 0.1483076 (573)\ttotal: 46.8s\tremaining: 22.3s\n",
      "675:\tlearn: 0.1400447\ttest: 0.1485933\tbest: 0.1483076 (573)\ttotal: 46.9s\tremaining: 22.2s\n",
      "676:\tlearn: 0.1400330\ttest: 0.1485902\tbest: 0.1483076 (573)\ttotal: 46.9s\tremaining: 22.1s\n",
      "677:\tlearn: 0.1400284\ttest: 0.1485927\tbest: 0.1483076 (573)\ttotal: 47s\tremaining: 22s\n",
      "678:\tlearn: 0.1400214\ttest: 0.1485968\tbest: 0.1483076 (573)\ttotal: 47.1s\tremaining: 22s\n",
      "679:\tlearn: 0.1400116\ttest: 0.1485974\tbest: 0.1483076 (573)\ttotal: 47.1s\tremaining: 21.9s\n",
      "680:\tlearn: 0.1399969\ttest: 0.1485968\tbest: 0.1483076 (573)\ttotal: 47.2s\tremaining: 21.8s\n",
      "681:\tlearn: 0.1399840\ttest: 0.1485949\tbest: 0.1483076 (573)\ttotal: 47.3s\tremaining: 21.8s\n",
      "682:\tlearn: 0.1399716\ttest: 0.1485914\tbest: 0.1483076 (573)\ttotal: 47.3s\tremaining: 21.7s\n",
      "683:\tlearn: 0.1399168\ttest: 0.1485914\tbest: 0.1483076 (573)\ttotal: 47.4s\tremaining: 21.6s\n",
      "684:\tlearn: 0.1399128\ttest: 0.1485926\tbest: 0.1483076 (573)\ttotal: 47.5s\tremaining: 21.6s\n",
      "685:\tlearn: 0.1399026\ttest: 0.1485922\tbest: 0.1483076 (573)\ttotal: 47.6s\tremaining: 21.5s\n",
      "686:\tlearn: 0.1398919\ttest: 0.1485950\tbest: 0.1483076 (573)\ttotal: 47.6s\tremaining: 21.4s\n",
      "687:\tlearn: 0.1398797\ttest: 0.1486176\tbest: 0.1483076 (573)\ttotal: 47.7s\tremaining: 21.4s\n",
      "688:\tlearn: 0.1398664\ttest: 0.1486086\tbest: 0.1483076 (573)\ttotal: 47.8s\tremaining: 21.3s\n",
      "689:\tlearn: 0.1398563\ttest: 0.1486112\tbest: 0.1483076 (573)\ttotal: 47.8s\tremaining: 21.2s\n",
      "690:\tlearn: 0.1398525\ttest: 0.1486027\tbest: 0.1483076 (573)\ttotal: 47.9s\tremaining: 21.1s\n",
      "691:\tlearn: 0.1398359\ttest: 0.1486050\tbest: 0.1483076 (573)\ttotal: 48s\tremaining: 21.1s\n",
      "692:\tlearn: 0.1398280\ttest: 0.1485970\tbest: 0.1483076 (573)\ttotal: 48s\tremaining: 21s\n",
      "693:\tlearn: 0.1398149\ttest: 0.1486003\tbest: 0.1483076 (573)\ttotal: 48.1s\tremaining: 20.9s\n",
      "694:\tlearn: 0.1398004\ttest: 0.1485987\tbest: 0.1483076 (573)\ttotal: 48.2s\tremaining: 20.9s\n",
      "695:\tlearn: 0.1397948\ttest: 0.1485992\tbest: 0.1483076 (573)\ttotal: 48.2s\tremaining: 20.8s\n",
      "696:\tlearn: 0.1397894\ttest: 0.1486052\tbest: 0.1483076 (573)\ttotal: 48.3s\tremaining: 20.7s\n",
      "697:\tlearn: 0.1397648\ttest: 0.1485982\tbest: 0.1483076 (573)\ttotal: 48.4s\tremaining: 20.7s\n",
      "698:\tlearn: 0.1397373\ttest: 0.1485997\tbest: 0.1483076 (573)\ttotal: 48.4s\tremaining: 20.6s\n",
      "699:\tlearn: 0.1397283\ttest: 0.1486024\tbest: 0.1483076 (573)\ttotal: 48.5s\tremaining: 20.5s\n",
      "700:\tlearn: 0.1397083\ttest: 0.1486091\tbest: 0.1483076 (573)\ttotal: 48.6s\tremaining: 20.4s\n",
      "701:\tlearn: 0.1396953\ttest: 0.1486130\tbest: 0.1483076 (573)\ttotal: 48.6s\tremaining: 20.4s\n",
      "702:\tlearn: 0.1396873\ttest: 0.1486117\tbest: 0.1483076 (573)\ttotal: 48.7s\tremaining: 20.3s\n",
      "703:\tlearn: 0.1396856\ttest: 0.1486134\tbest: 0.1483076 (573)\ttotal: 48.8s\tremaining: 20.2s\n",
      "704:\tlearn: 0.1396641\ttest: 0.1486127\tbest: 0.1483076 (573)\ttotal: 48.9s\tremaining: 20.2s\n",
      "705:\tlearn: 0.1396460\ttest: 0.1486131\tbest: 0.1483076 (573)\ttotal: 48.9s\tremaining: 20.1s\n",
      "706:\tlearn: 0.1396303\ttest: 0.1486037\tbest: 0.1483076 (573)\ttotal: 49s\tremaining: 20s\n",
      "707:\tlearn: 0.1396240\ttest: 0.1486009\tbest: 0.1483076 (573)\ttotal: 49.1s\tremaining: 20s\n",
      "708:\tlearn: 0.1396038\ttest: 0.1486174\tbest: 0.1483076 (573)\ttotal: 49.1s\tremaining: 19.9s\n",
      "709:\tlearn: 0.1395955\ttest: 0.1486155\tbest: 0.1483076 (573)\ttotal: 49.2s\tremaining: 19.8s\n",
      "710:\tlearn: 0.1395904\ttest: 0.1486178\tbest: 0.1483076 (573)\ttotal: 49.3s\tremaining: 19.8s\n",
      "711:\tlearn: 0.1395734\ttest: 0.1486277\tbest: 0.1483076 (573)\ttotal: 49.4s\tremaining: 19.7s\n",
      "712:\tlearn: 0.1395609\ttest: 0.1486311\tbest: 0.1483076 (573)\ttotal: 49.4s\tremaining: 19.6s\n",
      "713:\tlearn: 0.1395465\ttest: 0.1486391\tbest: 0.1483076 (573)\ttotal: 49.5s\tremaining: 19.5s\n",
      "714:\tlearn: 0.1395362\ttest: 0.1486096\tbest: 0.1483076 (573)\ttotal: 49.6s\tremaining: 19.5s\n",
      "715:\tlearn: 0.1395226\ttest: 0.1486104\tbest: 0.1483076 (573)\ttotal: 49.6s\tremaining: 19.4s\n",
      "716:\tlearn: 0.1395122\ttest: 0.1486188\tbest: 0.1483076 (573)\ttotal: 49.7s\tremaining: 19.3s\n",
      "717:\tlearn: 0.1395027\ttest: 0.1486273\tbest: 0.1483076 (573)\ttotal: 49.8s\tremaining: 19.3s\n",
      "718:\tlearn: 0.1394977\ttest: 0.1486226\tbest: 0.1483076 (573)\ttotal: 49.8s\tremaining: 19.2s\n",
      "719:\tlearn: 0.1394943\ttest: 0.1486183\tbest: 0.1483076 (573)\ttotal: 49.9s\tremaining: 19.1s\n",
      "720:\tlearn: 0.1394846\ttest: 0.1486265\tbest: 0.1483076 (573)\ttotal: 50s\tremaining: 19.1s\n",
      "721:\tlearn: 0.1394595\ttest: 0.1486215\tbest: 0.1483076 (573)\ttotal: 50s\tremaining: 19s\n",
      "722:\tlearn: 0.1394349\ttest: 0.1486177\tbest: 0.1483076 (573)\ttotal: 50.1s\tremaining: 18.9s\n",
      "723:\tlearn: 0.1394303\ttest: 0.1486191\tbest: 0.1483076 (573)\ttotal: 50.2s\tremaining: 18.9s\n",
      "724:\tlearn: 0.1394145\ttest: 0.1486333\tbest: 0.1483076 (573)\ttotal: 50.2s\tremaining: 18.8s\n",
      "725:\tlearn: 0.1394087\ttest: 0.1486318\tbest: 0.1483076 (573)\ttotal: 50.3s\tremaining: 18.7s\n",
      "726:\tlearn: 0.1393980\ttest: 0.1486323\tbest: 0.1483076 (573)\ttotal: 50.4s\tremaining: 18.6s\n",
      "727:\tlearn: 0.1393899\ttest: 0.1486542\tbest: 0.1483076 (573)\ttotal: 50.5s\tremaining: 18.6s\n",
      "728:\tlearn: 0.1393816\ttest: 0.1486830\tbest: 0.1483076 (573)\ttotal: 50.5s\tremaining: 18.5s\n",
      "729:\tlearn: 0.1393555\ttest: 0.1486912\tbest: 0.1483076 (573)\ttotal: 50.6s\tremaining: 18.4s\n",
      "730:\tlearn: 0.1393359\ttest: 0.1486950\tbest: 0.1483076 (573)\ttotal: 50.7s\tremaining: 18.4s\n",
      "731:\tlearn: 0.1393251\ttest: 0.1486930\tbest: 0.1483076 (573)\ttotal: 50.7s\tremaining: 18.3s\n",
      "732:\tlearn: 0.1393111\ttest: 0.1486907\tbest: 0.1483076 (573)\ttotal: 50.8s\tremaining: 18.2s\n",
      "733:\tlearn: 0.1392948\ttest: 0.1486788\tbest: 0.1483076 (573)\ttotal: 50.9s\tremaining: 18.2s\n",
      "734:\tlearn: 0.1392751\ttest: 0.1486880\tbest: 0.1483076 (573)\ttotal: 51s\tremaining: 18.1s\n",
      "735:\tlearn: 0.1392600\ttest: 0.1486977\tbest: 0.1483076 (573)\ttotal: 51s\tremaining: 18s\n",
      "736:\tlearn: 0.1392332\ttest: 0.1486988\tbest: 0.1483076 (573)\ttotal: 51.1s\tremaining: 18s\n",
      "737:\tlearn: 0.1392250\ttest: 0.1486959\tbest: 0.1483076 (573)\ttotal: 51.2s\tremaining: 17.9s\n",
      "738:\tlearn: 0.1392166\ttest: 0.1486897\tbest: 0.1483076 (573)\ttotal: 51.2s\tremaining: 17.8s\n",
      "739:\tlearn: 0.1392121\ttest: 0.1486919\tbest: 0.1483076 (573)\ttotal: 51.3s\tremaining: 17.7s\n",
      "740:\tlearn: 0.1391932\ttest: 0.1486840\tbest: 0.1483076 (573)\ttotal: 51.3s\tremaining: 17.7s\n",
      "741:\tlearn: 0.1391768\ttest: 0.1486771\tbest: 0.1483076 (573)\ttotal: 51.4s\tremaining: 17.6s\n",
      "742:\tlearn: 0.1391634\ttest: 0.1486889\tbest: 0.1483076 (573)\ttotal: 51.5s\tremaining: 17.5s\n",
      "743:\tlearn: 0.1391415\ttest: 0.1487480\tbest: 0.1483076 (573)\ttotal: 51.6s\tremaining: 17.5s\n",
      "744:\tlearn: 0.1391341\ttest: 0.1487490\tbest: 0.1483076 (573)\ttotal: 51.6s\tremaining: 17.4s\n",
      "745:\tlearn: 0.1391088\ttest: 0.1487578\tbest: 0.1483076 (573)\ttotal: 51.7s\tremaining: 17.3s\n",
      "746:\tlearn: 0.1390901\ttest: 0.1487617\tbest: 0.1483076 (573)\ttotal: 51.8s\tremaining: 17.3s\n",
      "747:\tlearn: 0.1390829\ttest: 0.1487577\tbest: 0.1483076 (573)\ttotal: 51.9s\tremaining: 17.2s\n",
      "748:\tlearn: 0.1390722\ttest: 0.1487657\tbest: 0.1483076 (573)\ttotal: 51.9s\tremaining: 17.1s\n",
      "749:\tlearn: 0.1390615\ttest: 0.1487638\tbest: 0.1483076 (573)\ttotal: 52s\tremaining: 17.1s\n",
      "750:\tlearn: 0.1390481\ttest: 0.1487601\tbest: 0.1483076 (573)\ttotal: 52.1s\tremaining: 17s\n",
      "751:\tlearn: 0.1390387\ttest: 0.1487635\tbest: 0.1483076 (573)\ttotal: 52.1s\tremaining: 16.9s\n",
      "752:\tlearn: 0.1390184\ttest: 0.1487640\tbest: 0.1483076 (573)\ttotal: 52.2s\tremaining: 16.8s\n",
      "753:\tlearn: 0.1390156\ttest: 0.1487636\tbest: 0.1483076 (573)\ttotal: 52.3s\tremaining: 16.8s\n",
      "754:\tlearn: 0.1390080\ttest: 0.1487709\tbest: 0.1483076 (573)\ttotal: 52.4s\tremaining: 16.7s\n",
      "755:\tlearn: 0.1390004\ttest: 0.1487664\tbest: 0.1483076 (573)\ttotal: 52.4s\tremaining: 16.6s\n",
      "756:\tlearn: 0.1389972\ttest: 0.1487648\tbest: 0.1483076 (573)\ttotal: 52.5s\tremaining: 16.6s\n",
      "757:\tlearn: 0.1389832\ttest: 0.1487839\tbest: 0.1483076 (573)\ttotal: 52.6s\tremaining: 16.5s\n",
      "758:\tlearn: 0.1389630\ttest: 0.1487954\tbest: 0.1483076 (573)\ttotal: 52.6s\tremaining: 16.4s\n",
      "759:\tlearn: 0.1389291\ttest: 0.1488027\tbest: 0.1483076 (573)\ttotal: 52.7s\tremaining: 16.4s\n",
      "760:\tlearn: 0.1389190\ttest: 0.1488056\tbest: 0.1483076 (573)\ttotal: 52.8s\tremaining: 16.3s\n",
      "761:\tlearn: 0.1389065\ttest: 0.1488122\tbest: 0.1483076 (573)\ttotal: 52.9s\tremaining: 16.2s\n",
      "762:\tlearn: 0.1388866\ttest: 0.1488078\tbest: 0.1483076 (573)\ttotal: 52.9s\tremaining: 16.2s\n",
      "763:\tlearn: 0.1388814\ttest: 0.1488061\tbest: 0.1483076 (573)\ttotal: 53s\tremaining: 16.1s\n",
      "764:\tlearn: 0.1388613\ttest: 0.1488056\tbest: 0.1483076 (573)\ttotal: 53.1s\tremaining: 16s\n",
      "765:\tlearn: 0.1388507\ttest: 0.1488087\tbest: 0.1483076 (573)\ttotal: 53.2s\tremaining: 16s\n",
      "766:\tlearn: 0.1388444\ttest: 0.1488177\tbest: 0.1483076 (573)\ttotal: 53.2s\tremaining: 15.9s\n",
      "767:\tlearn: 0.1388253\ttest: 0.1488287\tbest: 0.1483076 (573)\ttotal: 53.3s\tremaining: 15.8s\n",
      "768:\tlearn: 0.1388137\ttest: 0.1488062\tbest: 0.1483076 (573)\ttotal: 53.4s\tremaining: 15.8s\n",
      "769:\tlearn: 0.1388048\ttest: 0.1488074\tbest: 0.1483076 (573)\ttotal: 53.4s\tremaining: 15.7s\n",
      "770:\tlearn: 0.1387783\ttest: 0.1487890\tbest: 0.1483076 (573)\ttotal: 53.5s\tremaining: 15.6s\n",
      "771:\tlearn: 0.1387691\ttest: 0.1487836\tbest: 0.1483076 (573)\ttotal: 53.5s\tremaining: 15.5s\n",
      "772:\tlearn: 0.1387567\ttest: 0.1487801\tbest: 0.1483076 (573)\ttotal: 53.6s\tremaining: 15.5s\n",
      "773:\tlearn: 0.1387484\ttest: 0.1487881\tbest: 0.1483076 (573)\ttotal: 53.7s\tremaining: 15.4s\n",
      "774:\tlearn: 0.1387442\ttest: 0.1487871\tbest: 0.1483076 (573)\ttotal: 53.8s\tremaining: 15.3s\n",
      "775:\tlearn: 0.1387161\ttest: 0.1488093\tbest: 0.1483076 (573)\ttotal: 53.8s\tremaining: 15.3s\n",
      "776:\tlearn: 0.1387051\ttest: 0.1488112\tbest: 0.1483076 (573)\ttotal: 53.9s\tremaining: 15.2s\n",
      "777:\tlearn: 0.1386962\ttest: 0.1488111\tbest: 0.1483076 (573)\ttotal: 54s\tremaining: 15.1s\n",
      "778:\tlearn: 0.1386900\ttest: 0.1488113\tbest: 0.1483076 (573)\ttotal: 54.1s\tremaining: 15.1s\n",
      "779:\tlearn: 0.1386859\ttest: 0.1488106\tbest: 0.1483076 (573)\ttotal: 54.1s\tremaining: 15s\n",
      "780:\tlearn: 0.1386772\ttest: 0.1488099\tbest: 0.1483076 (573)\ttotal: 54.2s\tremaining: 14.9s\n",
      "781:\tlearn: 0.1386717\ttest: 0.1488096\tbest: 0.1483076 (573)\ttotal: 54.3s\tremaining: 14.8s\n",
      "782:\tlearn: 0.1386621\ttest: 0.1488078\tbest: 0.1483076 (573)\ttotal: 54.3s\tremaining: 14.8s\n",
      "783:\tlearn: 0.1386563\ttest: 0.1488069\tbest: 0.1483076 (573)\ttotal: 54.4s\tremaining: 14.7s\n",
      "784:\tlearn: 0.1386353\ttest: 0.1488108\tbest: 0.1483076 (573)\ttotal: 54.5s\tremaining: 14.6s\n",
      "785:\tlearn: 0.1386177\ttest: 0.1488111\tbest: 0.1483076 (573)\ttotal: 54.5s\tremaining: 14.6s\n",
      "786:\tlearn: 0.1386015\ttest: 0.1488010\tbest: 0.1483076 (573)\ttotal: 54.6s\tremaining: 14.5s\n",
      "787:\tlearn: 0.1385988\ttest: 0.1488001\tbest: 0.1483076 (573)\ttotal: 54.7s\tremaining: 14.4s\n",
      "788:\tlearn: 0.1385779\ttest: 0.1488046\tbest: 0.1483076 (573)\ttotal: 54.8s\tremaining: 14.4s\n",
      "789:\tlearn: 0.1385723\ttest: 0.1488103\tbest: 0.1483076 (573)\ttotal: 54.8s\tremaining: 14.3s\n",
      "790:\tlearn: 0.1385699\ttest: 0.1488101\tbest: 0.1483076 (573)\ttotal: 54.9s\tremaining: 14.2s\n",
      "791:\tlearn: 0.1385624\ttest: 0.1488099\tbest: 0.1483076 (573)\ttotal: 54.9s\tremaining: 14.1s\n",
      "792:\tlearn: 0.1385346\ttest: 0.1488260\tbest: 0.1483076 (573)\ttotal: 55s\tremaining: 14.1s\n",
      "793:\tlearn: 0.1385184\ttest: 0.1488363\tbest: 0.1483076 (573)\ttotal: 55.1s\tremaining: 14s\n",
      "794:\tlearn: 0.1385099\ttest: 0.1488483\tbest: 0.1483076 (573)\ttotal: 55.1s\tremaining: 13.9s\n",
      "795:\tlearn: 0.1384969\ttest: 0.1488677\tbest: 0.1483076 (573)\ttotal: 55.2s\tremaining: 13.9s\n",
      "796:\tlearn: 0.1384856\ttest: 0.1488675\tbest: 0.1483076 (573)\ttotal: 55.3s\tremaining: 13.8s\n",
      "797:\tlearn: 0.1384611\ttest: 0.1489140\tbest: 0.1483076 (573)\ttotal: 55.4s\tremaining: 13.7s\n",
      "798:\tlearn: 0.1384571\ttest: 0.1489144\tbest: 0.1483076 (573)\ttotal: 55.4s\tremaining: 13.7s\n",
      "799:\tlearn: 0.1384426\ttest: 0.1489174\tbest: 0.1483076 (573)\ttotal: 55.5s\tremaining: 13.6s\n",
      "800:\tlearn: 0.1384243\ttest: 0.1489208\tbest: 0.1483076 (573)\ttotal: 55.6s\tremaining: 13.5s\n",
      "801:\tlearn: 0.1384068\ttest: 0.1489258\tbest: 0.1483076 (573)\ttotal: 55.6s\tremaining: 13.5s\n",
      "802:\tlearn: 0.1383964\ttest: 0.1489296\tbest: 0.1483076 (573)\ttotal: 55.7s\tremaining: 13.4s\n",
      "803:\tlearn: 0.1383814\ttest: 0.1489274\tbest: 0.1483076 (573)\ttotal: 55.8s\tremaining: 13.3s\n",
      "804:\tlearn: 0.1383718\ttest: 0.1489299\tbest: 0.1483076 (573)\ttotal: 55.8s\tremaining: 13.2s\n",
      "805:\tlearn: 0.1383322\ttest: 0.1488972\tbest: 0.1483076 (573)\ttotal: 55.9s\tremaining: 13.2s\n",
      "806:\tlearn: 0.1383282\ttest: 0.1488937\tbest: 0.1483076 (573)\ttotal: 56s\tremaining: 13.1s\n",
      "807:\tlearn: 0.1383182\ttest: 0.1488939\tbest: 0.1483076 (573)\ttotal: 56.1s\tremaining: 13s\n",
      "808:\tlearn: 0.1383002\ttest: 0.1489184\tbest: 0.1483076 (573)\ttotal: 56.1s\tremaining: 13s\n",
      "809:\tlearn: 0.1382848\ttest: 0.1489183\tbest: 0.1483076 (573)\ttotal: 56.2s\tremaining: 12.9s\n",
      "810:\tlearn: 0.1382757\ttest: 0.1489194\tbest: 0.1483076 (573)\ttotal: 56.3s\tremaining: 12.8s\n",
      "811:\tlearn: 0.1382679\ttest: 0.1489192\tbest: 0.1483076 (573)\ttotal: 56.3s\tremaining: 12.8s\n",
      "812:\tlearn: 0.1382632\ttest: 0.1489178\tbest: 0.1483076 (573)\ttotal: 56.4s\tremaining: 12.7s\n",
      "813:\tlearn: 0.1382589\ttest: 0.1489189\tbest: 0.1483076 (573)\ttotal: 56.5s\tremaining: 12.6s\n",
      "814:\tlearn: 0.1382562\ttest: 0.1489127\tbest: 0.1483076 (573)\ttotal: 56.5s\tremaining: 12.6s\n",
      "815:\tlearn: 0.1382246\ttest: 0.1488870\tbest: 0.1483076 (573)\ttotal: 56.6s\tremaining: 12.5s\n",
      "816:\tlearn: 0.1382142\ttest: 0.1489179\tbest: 0.1483076 (573)\ttotal: 56.7s\tremaining: 12.4s\n",
      "817:\tlearn: 0.1381972\ttest: 0.1489144\tbest: 0.1483076 (573)\ttotal: 56.7s\tremaining: 12.3s\n",
      "818:\tlearn: 0.1381779\ttest: 0.1489134\tbest: 0.1483076 (573)\ttotal: 56.8s\tremaining: 12.3s\n",
      "819:\tlearn: 0.1381732\ttest: 0.1489136\tbest: 0.1483076 (573)\ttotal: 56.9s\tremaining: 12.2s\n",
      "820:\tlearn: 0.1381664\ttest: 0.1489152\tbest: 0.1483076 (573)\ttotal: 57s\tremaining: 12.1s\n",
      "821:\tlearn: 0.1381435\ttest: 0.1489054\tbest: 0.1483076 (573)\ttotal: 57s\tremaining: 12.1s\n",
      "822:\tlearn: 0.1381267\ttest: 0.1489171\tbest: 0.1483076 (573)\ttotal: 57.1s\tremaining: 12s\n",
      "823:\tlearn: 0.1381111\ttest: 0.1489212\tbest: 0.1483076 (573)\ttotal: 57.2s\tremaining: 11.9s\n",
      "824:\tlearn: 0.1380990\ttest: 0.1489038\tbest: 0.1483076 (573)\ttotal: 57.2s\tremaining: 11.9s\n",
      "825:\tlearn: 0.1380886\ttest: 0.1489092\tbest: 0.1483076 (573)\ttotal: 57.3s\tremaining: 11.8s\n",
      "826:\tlearn: 0.1380815\ttest: 0.1489125\tbest: 0.1483076 (573)\ttotal: 57.3s\tremaining: 11.7s\n",
      "827:\tlearn: 0.1380635\ttest: 0.1489234\tbest: 0.1483076 (573)\ttotal: 57.4s\tremaining: 11.7s\n",
      "828:\tlearn: 0.1380423\ttest: 0.1489422\tbest: 0.1483076 (573)\ttotal: 57.5s\tremaining: 11.6s\n",
      "829:\tlearn: 0.1380351\ttest: 0.1489390\tbest: 0.1483076 (573)\ttotal: 57.5s\tremaining: 11.5s\n",
      "830:\tlearn: 0.1380250\ttest: 0.1489387\tbest: 0.1483076 (573)\ttotal: 57.6s\tremaining: 11.4s\n",
      "831:\tlearn: 0.1380062\ttest: 0.1489447\tbest: 0.1483076 (573)\ttotal: 57.7s\tremaining: 11.4s\n",
      "832:\tlearn: 0.1379929\ttest: 0.1489436\tbest: 0.1483076 (573)\ttotal: 57.8s\tremaining: 11.3s\n",
      "833:\tlearn: 0.1379895\ttest: 0.1489509\tbest: 0.1483076 (573)\ttotal: 57.8s\tremaining: 11.2s\n",
      "834:\tlearn: 0.1379840\ttest: 0.1489501\tbest: 0.1483076 (573)\ttotal: 57.9s\tremaining: 11.2s\n",
      "835:\tlearn: 0.1379755\ttest: 0.1489443\tbest: 0.1483076 (573)\ttotal: 58s\tremaining: 11.1s\n",
      "836:\tlearn: 0.1379601\ttest: 0.1489423\tbest: 0.1483076 (573)\ttotal: 58s\tremaining: 11s\n",
      "837:\tlearn: 0.1379442\ttest: 0.1489341\tbest: 0.1483076 (573)\ttotal: 58.1s\tremaining: 11s\n",
      "838:\tlearn: 0.1379342\ttest: 0.1489354\tbest: 0.1483076 (573)\ttotal: 58.2s\tremaining: 10.9s\n",
      "839:\tlearn: 0.1379270\ttest: 0.1489347\tbest: 0.1483076 (573)\ttotal: 58.2s\tremaining: 10.8s\n",
      "840:\tlearn: 0.1379177\ttest: 0.1489330\tbest: 0.1483076 (573)\ttotal: 58.3s\tremaining: 10.7s\n",
      "841:\tlearn: 0.1379033\ttest: 0.1489655\tbest: 0.1483076 (573)\ttotal: 58.4s\tremaining: 10.7s\n",
      "842:\tlearn: 0.1378925\ttest: 0.1489580\tbest: 0.1483076 (573)\ttotal: 58.4s\tremaining: 10.6s\n",
      "843:\tlearn: 0.1378896\ttest: 0.1489586\tbest: 0.1483076 (573)\ttotal: 58.5s\tremaining: 10.5s\n",
      "844:\tlearn: 0.1378828\ttest: 0.1489809\tbest: 0.1483076 (573)\ttotal: 58.6s\tremaining: 10.5s\n",
      "845:\tlearn: 0.1378731\ttest: 0.1489849\tbest: 0.1483076 (573)\ttotal: 58.6s\tremaining: 10.4s\n",
      "846:\tlearn: 0.1378611\ttest: 0.1489912\tbest: 0.1483076 (573)\ttotal: 58.7s\tremaining: 10.3s\n",
      "847:\tlearn: 0.1378476\ttest: 0.1489890\tbest: 0.1483076 (573)\ttotal: 58.7s\tremaining: 10.3s\n",
      "848:\tlearn: 0.1378369\ttest: 0.1489974\tbest: 0.1483076 (573)\ttotal: 58.8s\tremaining: 10.2s\n",
      "849:\tlearn: 0.1378158\ttest: 0.1489939\tbest: 0.1483076 (573)\ttotal: 58.9s\tremaining: 10.1s\n",
      "850:\tlearn: 0.1378145\ttest: 0.1489852\tbest: 0.1483076 (573)\ttotal: 58.9s\tremaining: 10s\n",
      "851:\tlearn: 0.1378118\ttest: 0.1489847\tbest: 0.1483076 (573)\ttotal: 59s\tremaining: 9.97s\n",
      "852:\tlearn: 0.1377989\ttest: 0.1489855\tbest: 0.1483076 (573)\ttotal: 59.1s\tremaining: 9.9s\n",
      "853:\tlearn: 0.1377932\ttest: 0.1489853\tbest: 0.1483076 (573)\ttotal: 59.1s\tremaining: 9.83s\n",
      "854:\tlearn: 0.1377848\ttest: 0.1489823\tbest: 0.1483076 (573)\ttotal: 59.2s\tremaining: 9.77s\n",
      "855:\tlearn: 0.1377788\ttest: 0.1489892\tbest: 0.1483076 (573)\ttotal: 59.3s\tremaining: 9.7s\n",
      "856:\tlearn: 0.1377526\ttest: 0.1489876\tbest: 0.1483076 (573)\ttotal: 59.4s\tremaining: 9.63s\n",
      "857:\tlearn: 0.1377365\ttest: 0.1489885\tbest: 0.1483076 (573)\ttotal: 59.4s\tremaining: 9.56s\n",
      "858:\tlearn: 0.1377253\ttest: 0.1489912\tbest: 0.1483076 (573)\ttotal: 59.5s\tremaining: 9.49s\n",
      "859:\tlearn: 0.1377093\ttest: 0.1489879\tbest: 0.1483076 (573)\ttotal: 59.6s\tremaining: 9.42s\n",
      "860:\tlearn: 0.1376994\ttest: 0.1489988\tbest: 0.1483076 (573)\ttotal: 59.6s\tremaining: 9.35s\n",
      "861:\tlearn: 0.1376886\ttest: 0.1490094\tbest: 0.1483076 (573)\ttotal: 59.7s\tremaining: 9.28s\n",
      "862:\tlearn: 0.1376750\ttest: 0.1490072\tbest: 0.1483076 (573)\ttotal: 59.8s\tremaining: 9.22s\n",
      "863:\tlearn: 0.1376666\ttest: 0.1490054\tbest: 0.1483076 (573)\ttotal: 59.9s\tremaining: 9.15s\n",
      "864:\tlearn: 0.1376592\ttest: 0.1490043\tbest: 0.1483076 (573)\ttotal: 60s\tremaining: 9.09s\n",
      "865:\tlearn: 0.1376485\ttest: 0.1490152\tbest: 0.1483076 (573)\ttotal: 1m\tremaining: 9.02s\n",
      "866:\tlearn: 0.1376363\ttest: 0.1490087\tbest: 0.1483076 (573)\ttotal: 1m\tremaining: 8.96s\n",
      "867:\tlearn: 0.1376298\ttest: 0.1490093\tbest: 0.1483076 (573)\ttotal: 1m\tremaining: 8.89s\n",
      "868:\tlearn: 0.1376142\ttest: 0.1490160\tbest: 0.1483076 (573)\ttotal: 1m\tremaining: 8.82s\n",
      "869:\tlearn: 0.1376113\ttest: 0.1490212\tbest: 0.1483076 (573)\ttotal: 1m\tremaining: 8.75s\n",
      "870:\tlearn: 0.1376037\ttest: 0.1490207\tbest: 0.1483076 (573)\ttotal: 1m\tremaining: 8.68s\n",
      "871:\tlearn: 0.1375933\ttest: 0.1490326\tbest: 0.1483076 (573)\ttotal: 1m\tremaining: 8.61s\n",
      "872:\tlearn: 0.1375814\ttest: 0.1490346\tbest: 0.1483076 (573)\ttotal: 1m\tremaining: 8.54s\n",
      "873:\tlearn: 0.1375798\ttest: 0.1490329\tbest: 0.1483076 (573)\ttotal: 1m\tremaining: 8.47s\n",
      "874:\tlearn: 0.1375789\ttest: 0.1490316\tbest: 0.1483076 (573)\ttotal: 1m\tremaining: 8.4s\n",
      "875:\tlearn: 0.1375676\ttest: 0.1490325\tbest: 0.1483076 (573)\ttotal: 1m\tremaining: 8.34s\n",
      "876:\tlearn: 0.1375655\ttest: 0.1490304\tbest: 0.1483076 (573)\ttotal: 1m\tremaining: 8.27s\n",
      "877:\tlearn: 0.1375567\ttest: 0.1490251\tbest: 0.1483076 (573)\ttotal: 1m\tremaining: 8.19s\n",
      "878:\tlearn: 0.1375348\ttest: 0.1490180\tbest: 0.1483076 (573)\ttotal: 1m 1s\tremaining: 8.12s\n",
      "879:\tlearn: 0.1375207\ttest: 0.1490179\tbest: 0.1483076 (573)\ttotal: 1m 1s\tremaining: 8.05s\n",
      "880:\tlearn: 0.1375110\ttest: 0.1490255\tbest: 0.1483076 (573)\ttotal: 1m 1s\tremaining: 7.98s\n",
      "881:\tlearn: 0.1374826\ttest: 0.1490114\tbest: 0.1483076 (573)\ttotal: 1m 1s\tremaining: 7.91s\n",
      "882:\tlearn: 0.1374561\ttest: 0.1490144\tbest: 0.1483076 (573)\ttotal: 1m 1s\tremaining: 7.84s\n",
      "883:\tlearn: 0.1374432\ttest: 0.1490123\tbest: 0.1483076 (573)\ttotal: 1m 1s\tremaining: 7.78s\n",
      "884:\tlearn: 0.1374394\ttest: 0.1490149\tbest: 0.1483076 (573)\ttotal: 1m 1s\tremaining: 7.7s\n",
      "885:\tlearn: 0.1374255\ttest: 0.1490053\tbest: 0.1483076 (573)\ttotal: 1m 1s\tremaining: 7.63s\n",
      "886:\tlearn: 0.1374047\ttest: 0.1490138\tbest: 0.1483076 (573)\ttotal: 1m 1s\tremaining: 7.56s\n",
      "887:\tlearn: 0.1373937\ttest: 0.1490047\tbest: 0.1483076 (573)\ttotal: 1m 1s\tremaining: 7.49s\n",
      "888:\tlearn: 0.1373807\ttest: 0.1490072\tbest: 0.1483076 (573)\ttotal: 1m 1s\tremaining: 7.42s\n",
      "889:\tlearn: 0.1373758\ttest: 0.1490003\tbest: 0.1483076 (573)\ttotal: 1m 1s\tremaining: 7.35s\n",
      "890:\tlearn: 0.1373716\ttest: 0.1490029\tbest: 0.1483076 (573)\ttotal: 1m 1s\tremaining: 7.28s\n",
      "891:\tlearn: 0.1373631\ttest: 0.1490008\tbest: 0.1483076 (573)\ttotal: 1m 1s\tremaining: 7.21s\n",
      "892:\tlearn: 0.1373514\ttest: 0.1490025\tbest: 0.1483076 (573)\ttotal: 1m 1s\tremaining: 7.14s\n",
      "893:\tlearn: 0.1373422\ttest: 0.1489988\tbest: 0.1483076 (573)\ttotal: 1m 2s\tremaining: 7.08s\n",
      "894:\tlearn: 0.1373233\ttest: 0.1490036\tbest: 0.1483076 (573)\ttotal: 1m 2s\tremaining: 7.01s\n",
      "895:\tlearn: 0.1373103\ttest: 0.1490343\tbest: 0.1483076 (573)\ttotal: 1m 2s\tremaining: 6.94s\n",
      "896:\tlearn: 0.1372945\ttest: 0.1490430\tbest: 0.1483076 (573)\ttotal: 1m 2s\tremaining: 6.87s\n",
      "897:\tlearn: 0.1372884\ttest: 0.1490493\tbest: 0.1483076 (573)\ttotal: 1m 2s\tremaining: 6.8s\n",
      "898:\tlearn: 0.1372833\ttest: 0.1490502\tbest: 0.1483076 (573)\ttotal: 1m 2s\tremaining: 6.73s\n",
      "899:\tlearn: 0.1372766\ttest: 0.1490474\tbest: 0.1483076 (573)\ttotal: 1m 2s\tremaining: 6.66s\n",
      "900:\tlearn: 0.1372705\ttest: 0.1490489\tbest: 0.1483076 (573)\ttotal: 1m 2s\tremaining: 6.59s\n",
      "901:\tlearn: 0.1372570\ttest: 0.1490474\tbest: 0.1483076 (573)\ttotal: 1m 2s\tremaining: 6.52s\n",
      "902:\tlearn: 0.1372453\ttest: 0.1490541\tbest: 0.1483076 (573)\ttotal: 1m 2s\tremaining: 6.45s\n",
      "903:\tlearn: 0.1372409\ttest: 0.1490537\tbest: 0.1483076 (573)\ttotal: 1m 2s\tremaining: 6.38s\n",
      "904:\tlearn: 0.1372342\ttest: 0.1490566\tbest: 0.1483076 (573)\ttotal: 1m 2s\tremaining: 6.31s\n",
      "905:\tlearn: 0.1372238\ttest: 0.1490555\tbest: 0.1483076 (573)\ttotal: 1m 2s\tremaining: 6.24s\n",
      "906:\tlearn: 0.1372168\ttest: 0.1490553\tbest: 0.1483076 (573)\ttotal: 1m 2s\tremaining: 6.17s\n",
      "907:\tlearn: 0.1371994\ttest: 0.1490521\tbest: 0.1483076 (573)\ttotal: 1m 3s\tremaining: 6.11s\n",
      "908:\tlearn: 0.1371950\ttest: 0.1490524\tbest: 0.1483076 (573)\ttotal: 1m 3s\tremaining: 6.04s\n",
      "909:\tlearn: 0.1371845\ttest: 0.1490516\tbest: 0.1483076 (573)\ttotal: 1m 3s\tremaining: 5.97s\n",
      "910:\tlearn: 0.1371746\ttest: 0.1490451\tbest: 0.1483076 (573)\ttotal: 1m 3s\tremaining: 5.9s\n",
      "911:\tlearn: 0.1371306\ttest: 0.1490375\tbest: 0.1483076 (573)\ttotal: 1m 3s\tremaining: 5.83s\n",
      "912:\tlearn: 0.1371191\ttest: 0.1490387\tbest: 0.1483076 (573)\ttotal: 1m 3s\tremaining: 5.76s\n",
      "913:\tlearn: 0.1371008\ttest: 0.1490305\tbest: 0.1483076 (573)\ttotal: 1m 3s\tremaining: 5.69s\n",
      "914:\tlearn: 0.1370812\ttest: 0.1490266\tbest: 0.1483076 (573)\ttotal: 1m 3s\tremaining: 5.62s\n",
      "915:\tlearn: 0.1370724\ttest: 0.1490260\tbest: 0.1483076 (573)\ttotal: 1m 3s\tremaining: 5.55s\n",
      "916:\tlearn: 0.1370623\ttest: 0.1490239\tbest: 0.1483076 (573)\ttotal: 1m 3s\tremaining: 5.48s\n",
      "917:\tlearn: 0.1370513\ttest: 0.1490237\tbest: 0.1483076 (573)\ttotal: 1m 3s\tremaining: 5.41s\n",
      "918:\tlearn: 0.1370420\ttest: 0.1490250\tbest: 0.1483076 (573)\ttotal: 1m 3s\tremaining: 5.34s\n",
      "919:\tlearn: 0.1370258\ttest: 0.1490141\tbest: 0.1483076 (573)\ttotal: 1m 3s\tremaining: 5.27s\n",
      "920:\tlearn: 0.1370206\ttest: 0.1489931\tbest: 0.1483076 (573)\ttotal: 1m 3s\tremaining: 5.2s\n",
      "921:\tlearn: 0.1370053\ttest: 0.1489995\tbest: 0.1483076 (573)\ttotal: 1m 3s\tremaining: 5.13s\n",
      "922:\tlearn: 0.1370012\ttest: 0.1489997\tbest: 0.1483076 (573)\ttotal: 1m 4s\tremaining: 5.07s\n",
      "923:\tlearn: 0.1369935\ttest: 0.1490006\tbest: 0.1483076 (573)\ttotal: 1m 4s\tremaining: 5s\n",
      "924:\tlearn: 0.1369760\ttest: 0.1489995\tbest: 0.1483076 (573)\ttotal: 1m 4s\tremaining: 4.93s\n",
      "925:\tlearn: 0.1369745\ttest: 0.1490001\tbest: 0.1483076 (573)\ttotal: 1m 4s\tremaining: 4.86s\n",
      "926:\tlearn: 0.1369568\ttest: 0.1489994\tbest: 0.1483076 (573)\ttotal: 1m 4s\tremaining: 4.79s\n",
      "927:\tlearn: 0.1369461\ttest: 0.1489864\tbest: 0.1483076 (573)\ttotal: 1m 4s\tremaining: 4.72s\n",
      "928:\tlearn: 0.1369393\ttest: 0.1489851\tbest: 0.1483076 (573)\ttotal: 1m 4s\tremaining: 4.65s\n",
      "929:\tlearn: 0.1369321\ttest: 0.1489895\tbest: 0.1483076 (573)\ttotal: 1m 4s\tremaining: 4.58s\n",
      "930:\tlearn: 0.1369265\ttest: 0.1489907\tbest: 0.1483076 (573)\ttotal: 1m 4s\tremaining: 4.51s\n",
      "931:\tlearn: 0.1369195\ttest: 0.1489924\tbest: 0.1483076 (573)\ttotal: 1m 4s\tremaining: 4.44s\n",
      "932:\tlearn: 0.1369156\ttest: 0.1489927\tbest: 0.1483076 (573)\ttotal: 1m 4s\tremaining: 4.37s\n",
      "933:\tlearn: 0.1369081\ttest: 0.1489895\tbest: 0.1483076 (573)\ttotal: 1m 4s\tremaining: 4.3s\n",
      "934:\tlearn: 0.1368935\ttest: 0.1489897\tbest: 0.1483076 (573)\ttotal: 1m 4s\tremaining: 4.23s\n",
      "935:\tlearn: 0.1368877\ttest: 0.1489849\tbest: 0.1483076 (573)\ttotal: 1m 4s\tremaining: 4.16s\n",
      "936:\tlearn: 0.1368656\ttest: 0.1489779\tbest: 0.1483076 (573)\ttotal: 1m 5s\tremaining: 4.09s\n",
      "937:\tlearn: 0.1368566\ttest: 0.1489779\tbest: 0.1483076 (573)\ttotal: 1m 5s\tremaining: 4.03s\n",
      "938:\tlearn: 0.1368362\ttest: 0.1489749\tbest: 0.1483076 (573)\ttotal: 1m 5s\tremaining: 3.96s\n",
      "939:\tlearn: 0.1368264\ttest: 0.1489668\tbest: 0.1483076 (573)\ttotal: 1m 5s\tremaining: 3.88s\n",
      "940:\tlearn: 0.1368150\ttest: 0.1489600\tbest: 0.1483076 (573)\ttotal: 1m 5s\tremaining: 3.82s\n",
      "941:\tlearn: 0.1367997\ttest: 0.1489630\tbest: 0.1483076 (573)\ttotal: 1m 5s\tremaining: 3.75s\n",
      "942:\tlearn: 0.1367797\ttest: 0.1489596\tbest: 0.1483076 (573)\ttotal: 1m 5s\tremaining: 3.68s\n",
      "943:\tlearn: 0.1367748\ttest: 0.1489642\tbest: 0.1483076 (573)\ttotal: 1m 5s\tremaining: 3.61s\n",
      "944:\tlearn: 0.1367490\ttest: 0.1489854\tbest: 0.1483076 (573)\ttotal: 1m 5s\tremaining: 3.54s\n",
      "945:\tlearn: 0.1367305\ttest: 0.1489737\tbest: 0.1483076 (573)\ttotal: 1m 5s\tremaining: 3.47s\n",
      "946:\tlearn: 0.1367034\ttest: 0.1489665\tbest: 0.1483076 (573)\ttotal: 1m 5s\tremaining: 3.4s\n",
      "947:\tlearn: 0.1366823\ttest: 0.1489668\tbest: 0.1483076 (573)\ttotal: 1m 5s\tremaining: 3.33s\n",
      "948:\tlearn: 0.1366642\ttest: 0.1489637\tbest: 0.1483076 (573)\ttotal: 1m 5s\tremaining: 3.26s\n",
      "949:\tlearn: 0.1366527\ttest: 0.1489648\tbest: 0.1483076 (573)\ttotal: 1m 5s\tremaining: 3.19s\n",
      "950:\tlearn: 0.1366452\ttest: 0.1489640\tbest: 0.1483076 (573)\ttotal: 1m 5s\tremaining: 3.12s\n",
      "951:\tlearn: 0.1366314\ttest: 0.1489690\tbest: 0.1483076 (573)\ttotal: 1m 6s\tremaining: 3.05s\n",
      "952:\tlearn: 0.1366224\ttest: 0.1489694\tbest: 0.1483076 (573)\ttotal: 1m 6s\tremaining: 2.98s\n",
      "953:\tlearn: 0.1366104\ttest: 0.1489878\tbest: 0.1483076 (573)\ttotal: 1m 6s\tremaining: 2.91s\n",
      "954:\tlearn: 0.1365934\ttest: 0.1489929\tbest: 0.1483076 (573)\ttotal: 1m 6s\tremaining: 2.84s\n",
      "955:\tlearn: 0.1365846\ttest: 0.1489849\tbest: 0.1483076 (573)\ttotal: 1m 6s\tremaining: 2.77s\n",
      "956:\tlearn: 0.1365816\ttest: 0.1489929\tbest: 0.1483076 (573)\ttotal: 1m 6s\tremaining: 2.7s\n",
      "957:\tlearn: 0.1365811\ttest: 0.1489929\tbest: 0.1483076 (573)\ttotal: 1m 6s\tremaining: 2.63s\n",
      "958:\tlearn: 0.1365762\ttest: 0.1489960\tbest: 0.1483076 (573)\ttotal: 1m 6s\tremaining: 2.56s\n",
      "959:\tlearn: 0.1365566\ttest: 0.1490026\tbest: 0.1483076 (573)\ttotal: 1m 6s\tremaining: 2.5s\n",
      "960:\tlearn: 0.1365388\ttest: 0.1490208\tbest: 0.1483076 (573)\ttotal: 1m 6s\tremaining: 2.42s\n",
      "961:\tlearn: 0.1365352\ttest: 0.1490220\tbest: 0.1483076 (573)\ttotal: 1m 6s\tremaining: 2.36s\n",
      "962:\tlearn: 0.1365121\ttest: 0.1490212\tbest: 0.1483076 (573)\ttotal: 1m 6s\tremaining: 2.29s\n",
      "963:\tlearn: 0.1365022\ttest: 0.1490279\tbest: 0.1483076 (573)\ttotal: 1m 6s\tremaining: 2.22s\n",
      "964:\tlearn: 0.1364987\ttest: 0.1490327\tbest: 0.1483076 (573)\ttotal: 1m 6s\tremaining: 2.15s\n",
      "965:\tlearn: 0.1364919\ttest: 0.1490348\tbest: 0.1483076 (573)\ttotal: 1m 6s\tremaining: 2.08s\n",
      "966:\tlearn: 0.1364904\ttest: 0.1490294\tbest: 0.1483076 (573)\ttotal: 1m 6s\tremaining: 2.01s\n",
      "967:\tlearn: 0.1364840\ttest: 0.1490335\tbest: 0.1483076 (573)\ttotal: 1m 7s\tremaining: 1.94s\n",
      "968:\tlearn: 0.1364773\ttest: 0.1490131\tbest: 0.1483076 (573)\ttotal: 1m 7s\tremaining: 1.87s\n",
      "969:\tlearn: 0.1364698\ttest: 0.1490228\tbest: 0.1483076 (573)\ttotal: 1m 7s\tremaining: 1.8s\n",
      "970:\tlearn: 0.1364631\ttest: 0.1490305\tbest: 0.1483076 (573)\ttotal: 1m 7s\tremaining: 1.73s\n",
      "971:\tlearn: 0.1364387\ttest: 0.1490284\tbest: 0.1483076 (573)\ttotal: 1m 7s\tremaining: 1.66s\n",
      "972:\tlearn: 0.1364270\ttest: 0.1490340\tbest: 0.1483076 (573)\ttotal: 1m 7s\tremaining: 1.59s\n",
      "973:\tlearn: 0.1364090\ttest: 0.1490272\tbest: 0.1483076 (573)\ttotal: 1m 7s\tremaining: 1.53s\n",
      "974:\tlearn: 0.1363995\ttest: 0.1490353\tbest: 0.1483076 (573)\ttotal: 1m 7s\tremaining: 1.46s\n",
      "975:\tlearn: 0.1363798\ttest: 0.1490294\tbest: 0.1483076 (573)\ttotal: 1m 7s\tremaining: 1.39s\n",
      "976:\tlearn: 0.1363729\ttest: 0.1490235\tbest: 0.1483076 (573)\ttotal: 1m 7s\tremaining: 1.32s\n",
      "977:\tlearn: 0.1363620\ttest: 0.1490221\tbest: 0.1483076 (573)\ttotal: 1m 7s\tremaining: 1.25s\n",
      "978:\tlearn: 0.1363459\ttest: 0.1490216\tbest: 0.1483076 (573)\ttotal: 1m 8s\tremaining: 1.18s\n",
      "979:\tlearn: 0.1363292\ttest: 0.1490153\tbest: 0.1483076 (573)\ttotal: 1m 8s\tremaining: 1.11s\n",
      "980:\tlearn: 0.1363180\ttest: 0.1490135\tbest: 0.1483076 (573)\ttotal: 1m 8s\tremaining: 1.04s\n",
      "981:\tlearn: 0.1363007\ttest: 0.1490022\tbest: 0.1483076 (573)\ttotal: 1m 8s\tremaining: 975ms\n",
      "982:\tlearn: 0.1362957\ttest: 0.1489908\tbest: 0.1483076 (573)\ttotal: 1m 8s\tremaining: 905ms\n",
      "983:\tlearn: 0.1362756\ttest: 0.1489954\tbest: 0.1483076 (573)\ttotal: 1m 8s\tremaining: 836ms\n",
      "984:\tlearn: 0.1362665\ttest: 0.1489996\tbest: 0.1483076 (573)\ttotal: 1m 8s\tremaining: 766ms\n",
      "985:\tlearn: 0.1362498\ttest: 0.1489978\tbest: 0.1483076 (573)\ttotal: 1m 8s\tremaining: 697ms\n",
      "986:\tlearn: 0.1362447\ttest: 0.1489983\tbest: 0.1483076 (573)\ttotal: 1m 8s\tremaining: 627ms\n",
      "987:\tlearn: 0.1362310\ttest: 0.1490012\tbest: 0.1483076 (573)\ttotal: 1m 8s\tremaining: 558ms\n",
      "988:\tlearn: 0.1362118\ttest: 0.1490043\tbest: 0.1483076 (573)\ttotal: 1m 8s\tremaining: 488ms\n",
      "989:\tlearn: 0.1362067\ttest: 0.1490050\tbest: 0.1483076 (573)\ttotal: 1m 9s\tremaining: 419ms\n",
      "990:\tlearn: 0.1362050\ttest: 0.1490060\tbest: 0.1483076 (573)\ttotal: 1m 9s\tremaining: 349ms\n",
      "991:\tlearn: 0.1361990\ttest: 0.1490058\tbest: 0.1483076 (573)\ttotal: 1m 9s\tremaining: 279ms\n",
      "992:\tlearn: 0.1361796\ttest: 0.1490176\tbest: 0.1483076 (573)\ttotal: 1m 9s\tremaining: 209ms\n",
      "993:\tlearn: 0.1361599\ttest: 0.1490195\tbest: 0.1483076 (573)\ttotal: 1m 9s\tremaining: 140ms\n",
      "994:\tlearn: 0.1361444\ttest: 0.1490051\tbest: 0.1483076 (573)\ttotal: 1m 9s\tremaining: 69.8ms\n",
      "995:\tlearn: 0.1361388\ttest: 0.1490009\tbest: 0.1483076 (573)\ttotal: 1m 9s\tremaining: 0us\n",
      "\n",
      "bestTest = 0.1483076069\n",
      "bestIteration = 573\n",
      "\n",
      "Shrink model to first 574 iterations.\n"
     ]
    },
    {
     "data": {
      "text/plain": [
       "<catboost.core.CatBoostClassifier at 0x7f0c84433cd0>"
      ]
     },
     "execution_count": 44,
     "metadata": {},
     "output_type": "execute_result"
    }
   ],
   "source": [
    "best_model = CatBoostClassifier(**catboost_params)\n",
    "X_train_pool = Pool(X_train, y_train, cat_features=cat_columns)\n",
    "X_valid_pool = Pool(X_val, y_val, cat_features=cat_columns)\n",
    "best_model.fit(X=X_train_pool, eval_set=X_valid_pool)"
   ]
  },
  {
   "cell_type": "code",
   "execution_count": 45,
   "id": "3303a6bb",
   "metadata": {
    "execution": {
     "iopub.execute_input": "2024-11-04T16:50:30.102764Z",
     "iopub.status.busy": "2024-11-04T16:50:30.102356Z",
     "iopub.status.idle": "2024-11-04T16:50:30.541828Z",
     "shell.execute_reply": "2024-11-04T16:50:30.540998Z"
    },
    "papermill": {
     "duration": 0.487567,
     "end_time": "2024-11-04T16:50:30.544162",
     "exception": false,
     "start_time": "2024-11-04T16:50:30.056595",
     "status": "completed"
    },
    "tags": []
   },
   "outputs": [],
   "source": [
    "results = best_model.predict(X_test)\n",
    "submission = pd.read_csv(\"/kaggle/input/playground-series-s4e11/sample_submission.csv\")\n",
    "submission['Depression'] = results\n",
    "submission.to_csv('submission.csv', index=False)"
   ]
  },
  {
   "cell_type": "code",
   "execution_count": null,
   "id": "115cac69",
   "metadata": {
    "papermill": {
     "duration": 0.043326,
     "end_time": "2024-11-04T16:50:30.631139",
     "exception": false,
     "start_time": "2024-11-04T16:50:30.587813",
     "status": "completed"
    },
    "tags": []
   },
   "outputs": [],
   "source": []
  }
 ],
 "metadata": {
  "kaggle": {
   "accelerator": "nvidiaTeslaT4",
   "dataSources": [
    {
     "databundleVersionId": 10008389,
     "sourceId": 84895,
     "sourceType": "competition"
    }
   ],
   "dockerImageVersionId": 30787,
   "isGpuEnabled": true,
   "isInternetEnabled": true,
   "language": "python",
   "sourceType": "notebook"
  },
  "kernelspec": {
   "display_name": "Python 3",
   "language": "python",
   "name": "python3"
  },
  "language_info": {
   "codemirror_mode": {
    "name": "ipython",
    "version": 3
   },
   "file_extension": ".py",
   "mimetype": "text/x-python",
   "name": "python",
   "nbconvert_exporter": "python",
   "pygments_lexer": "ipython3",
   "version": "3.10.14"
  },
  "papermill": {
   "default_parameters": {},
   "duration": 547.160991,
   "end_time": "2024-11-04T16:50:31.293943",
   "environment_variables": {},
   "exception": null,
   "input_path": "__notebook__.ipynb",
   "output_path": "__notebook__.ipynb",
   "parameters": {},
   "start_time": "2024-11-04T16:41:24.132952",
   "version": "2.6.0"
  }
 },
 "nbformat": 4,
 "nbformat_minor": 5
}
